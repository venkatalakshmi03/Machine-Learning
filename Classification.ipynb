{
 "cells": [
  {
   "cell_type": "markdown",
   "metadata": {},
   "source": [
    "### Question 1"
   ]
  },
  {
   "cell_type": "markdown",
   "metadata": {},
   "source": [
    "Use the techniques you learned in class to solve this problem."
   ]
  },
  {
   "cell_type": "markdown",
   "metadata": {},
   "source": [
    "(a) Zoo Animal Classification data set will be used in this problem. Load the data set from below link.<br>\n",
    "https://www.kaggle.com/uciml/zoo-animal-classification"
   ]
  },
  {
   "cell_type": "code",
   "execution_count": 188,
   "metadata": {},
   "outputs": [],
   "source": [
    "import pandas as pd\n",
    "import numpy as np\n",
    "from sklearn.model_selection import train_test_split\n",
    "from sklearn.linear_model import LogisticRegression\n",
    "import matplotlib.pyplot as plt\n",
    "from sklearn import metrics\n",
    "import seaborn as sns\n",
    "import tensorflow as tf"
   ]
  },
  {
   "cell_type": "code",
   "execution_count": 292,
   "metadata": {},
   "outputs": [
    {
     "data": {
      "text/plain": [
       "(101, 18)"
      ]
     },
     "execution_count": 292,
     "metadata": {},
     "output_type": "execute_result"
    }
   ],
   "source": [
    "data = pd.read_csv('zoo.csv')\n",
    "data.head()\n",
    "data.shape"
   ]
  },
  {
   "cell_type": "markdown",
   "metadata": {},
   "source": [
    "(b) List target names and feature names of Zoo Animal Classification dataset."
   ]
  },
  {
   "cell_type": "code",
   "execution_count": 293,
   "metadata": {},
   "outputs": [
    {
     "name": "stdout",
     "output_type": "stream",
     "text": [
      "Feature names\n",
      "animal_name\n",
      "hair\n",
      "feathers\n",
      "eggs\n",
      "milk\n",
      "airborne\n",
      "aquatic\n",
      "predator\n",
      "toothed\n",
      "backbone\n",
      "breathes\n",
      "venomous\n",
      "fins\n",
      "legs\n",
      "tail\n",
      "domestic\n",
      "catsize\n",
      "\n",
      "\n",
      "Target names\n",
      "class_type\n"
     ]
    }
   ],
   "source": [
    "#Feature names\n",
    "X = data.iloc[:,:-1]\n",
    "print(\"Feature names\")\n",
    "for col in X.columns: \n",
    "    print(col)\n",
    "print('\\n')\n",
    "#Target names\n",
    "Y = data.iloc[:,-1:]\n",
    "print('Target names')\n",
    "for col in Y.columns:\n",
    "    print(col)\n"
   ]
  },
  {
   "cell_type": "markdown",
   "metadata": {},
   "source": [
    "(c) Split your data using model selection.train test split to 80% training data and 20% test data."
   ]
  },
  {
   "cell_type": "code",
   "execution_count": 294,
   "metadata": {},
   "outputs": [],
   "source": [
    "X_train, X_test, y_train, y_test = train_test_split(X, Y, test_size=0.2, random_state=4, stratify=Y) #Split data randomly and y variable proportionately"
   ]
  },
  {
   "cell_type": "code",
   "execution_count": 295,
   "metadata": {},
   "outputs": [
    {
     "data": {
      "text/html": [
       "<div>\n",
       "<style scoped>\n",
       "    .dataframe tbody tr th:only-of-type {\n",
       "        vertical-align: middle;\n",
       "    }\n",
       "\n",
       "    .dataframe tbody tr th {\n",
       "        vertical-align: top;\n",
       "    }\n",
       "\n",
       "    .dataframe thead th {\n",
       "        text-align: right;\n",
       "    }\n",
       "</style>\n",
       "<table border=\"1\" class=\"dataframe\">\n",
       "  <thead>\n",
       "    <tr style=\"text-align: right;\">\n",
       "      <th></th>\n",
       "      <th>hair</th>\n",
       "      <th>feathers</th>\n",
       "      <th>eggs</th>\n",
       "      <th>milk</th>\n",
       "      <th>airborne</th>\n",
       "      <th>aquatic</th>\n",
       "      <th>predator</th>\n",
       "      <th>toothed</th>\n",
       "      <th>backbone</th>\n",
       "      <th>breathes</th>\n",
       "      <th>venomous</th>\n",
       "      <th>fins</th>\n",
       "      <th>legs</th>\n",
       "      <th>tail</th>\n",
       "      <th>domestic</th>\n",
       "      <th>catsize</th>\n",
       "    </tr>\n",
       "  </thead>\n",
       "  <tbody>\n",
       "    <tr>\n",
       "      <th>17</th>\n",
       "      <td>1</td>\n",
       "      <td>0</td>\n",
       "      <td>0</td>\n",
       "      <td>1</td>\n",
       "      <td>0</td>\n",
       "      <td>0</td>\n",
       "      <td>0</td>\n",
       "      <td>1</td>\n",
       "      <td>1</td>\n",
       "      <td>1</td>\n",
       "      <td>0</td>\n",
       "      <td>0</td>\n",
       "      <td>4</td>\n",
       "      <td>1</td>\n",
       "      <td>0</td>\n",
       "      <td>1</td>\n",
       "    </tr>\n",
       "    <tr>\n",
       "      <th>0</th>\n",
       "      <td>1</td>\n",
       "      <td>0</td>\n",
       "      <td>0</td>\n",
       "      <td>1</td>\n",
       "      <td>0</td>\n",
       "      <td>0</td>\n",
       "      <td>1</td>\n",
       "      <td>1</td>\n",
       "      <td>1</td>\n",
       "      <td>1</td>\n",
       "      <td>0</td>\n",
       "      <td>0</td>\n",
       "      <td>4</td>\n",
       "      <td>0</td>\n",
       "      <td>0</td>\n",
       "      <td>1</td>\n",
       "    </tr>\n",
       "    <tr>\n",
       "      <th>12</th>\n",
       "      <td>0</td>\n",
       "      <td>0</td>\n",
       "      <td>1</td>\n",
       "      <td>0</td>\n",
       "      <td>0</td>\n",
       "      <td>1</td>\n",
       "      <td>1</td>\n",
       "      <td>1</td>\n",
       "      <td>1</td>\n",
       "      <td>0</td>\n",
       "      <td>0</td>\n",
       "      <td>1</td>\n",
       "      <td>0</td>\n",
       "      <td>1</td>\n",
       "      <td>0</td>\n",
       "      <td>0</td>\n",
       "    </tr>\n",
       "    <tr>\n",
       "      <th>46</th>\n",
       "      <td>0</td>\n",
       "      <td>0</td>\n",
       "      <td>1</td>\n",
       "      <td>0</td>\n",
       "      <td>0</td>\n",
       "      <td>1</td>\n",
       "      <td>1</td>\n",
       "      <td>0</td>\n",
       "      <td>0</td>\n",
       "      <td>0</td>\n",
       "      <td>0</td>\n",
       "      <td>0</td>\n",
       "      <td>6</td>\n",
       "      <td>0</td>\n",
       "      <td>0</td>\n",
       "      <td>0</td>\n",
       "    </tr>\n",
       "    <tr>\n",
       "      <th>21</th>\n",
       "      <td>0</td>\n",
       "      <td>1</td>\n",
       "      <td>1</td>\n",
       "      <td>0</td>\n",
       "      <td>1</td>\n",
       "      <td>1</td>\n",
       "      <td>0</td>\n",
       "      <td>0</td>\n",
       "      <td>1</td>\n",
       "      <td>1</td>\n",
       "      <td>0</td>\n",
       "      <td>0</td>\n",
       "      <td>2</td>\n",
       "      <td>1</td>\n",
       "      <td>0</td>\n",
       "      <td>0</td>\n",
       "    </tr>\n",
       "  </tbody>\n",
       "</table>\n",
       "</div>"
      ],
      "text/plain": [
       "    hair  feathers  eggs  milk  airborne  aquatic  predator  toothed  \\\n",
       "17     1         0     0     1         0        0         0        1   \n",
       "0      1         0     0     1         0        0         1        1   \n",
       "12     0         0     1     0         0        1         1        1   \n",
       "46     0         0     1     0         0        1         1        0   \n",
       "21     0         1     1     0         1        1         0        0   \n",
       "\n",
       "    backbone  breathes  venomous  fins  legs  tail  domestic  catsize  \n",
       "17         1         1         0     0     4     1         0        1  \n",
       "0          1         1         0     0     4     0         0        1  \n",
       "12         1         0         0     1     0     1         0        0  \n",
       "46         0         0         0     0     6     0         0        0  \n",
       "21         1         1         0     0     2     1         0        0  "
      ]
     },
     "execution_count": 295,
     "metadata": {},
     "output_type": "execute_result"
    }
   ],
   "source": [
    "X_train = X_train.iloc[:,1:] # Removing animal name from training and test dataset\n",
    "X_train.head()\n",
    "X_test = X_test.iloc[:,1:]\n",
    "X_test.head()"
   ]
  },
  {
   "cell_type": "markdown",
   "metadata": {},
   "source": [
    "(d)  Use appropriate model and train with the training data set. Test your trained model on the test data set and classify the values of the samples in the test data set."
   ]
  },
  {
   "cell_type": "code",
   "execution_count": 296,
   "metadata": {},
   "outputs": [],
   "source": [
    "#Using Logistic Regression\n",
    "model = LogisticRegression()\n",
    "model.fit(X_train,np.ravel(y_train,order='C'))\n",
    "y_pred = model.predict(X_test)\n"
   ]
  },
  {
   "cell_type": "code",
   "execution_count": 297,
   "metadata": {},
   "outputs": [
    {
     "data": {
      "text/html": [
       "<div>\n",
       "<style scoped>\n",
       "    .dataframe tbody tr th:only-of-type {\n",
       "        vertical-align: middle;\n",
       "    }\n",
       "\n",
       "    .dataframe tbody tr th {\n",
       "        vertical-align: top;\n",
       "    }\n",
       "\n",
       "    .dataframe thead th {\n",
       "        text-align: right;\n",
       "    }\n",
       "</style>\n",
       "<table border=\"1\" class=\"dataframe\">\n",
       "  <thead>\n",
       "    <tr style=\"text-align: right;\">\n",
       "      <th></th>\n",
       "      <th>True_Label</th>\n",
       "      <th>Predicted_label</th>\n",
       "    </tr>\n",
       "  </thead>\n",
       "  <tbody>\n",
       "    <tr>\n",
       "      <th>17</th>\n",
       "      <td>1</td>\n",
       "      <td>1</td>\n",
       "    </tr>\n",
       "    <tr>\n",
       "      <th>0</th>\n",
       "      <td>1</td>\n",
       "      <td>1</td>\n",
       "    </tr>\n",
       "    <tr>\n",
       "      <th>12</th>\n",
       "      <td>4</td>\n",
       "      <td>4</td>\n",
       "    </tr>\n",
       "    <tr>\n",
       "      <th>46</th>\n",
       "      <td>7</td>\n",
       "      <td>7</td>\n",
       "    </tr>\n",
       "    <tr>\n",
       "      <th>21</th>\n",
       "      <td>2</td>\n",
       "      <td>2</td>\n",
       "    </tr>\n",
       "    <tr>\n",
       "      <th>56</th>\n",
       "      <td>2</td>\n",
       "      <td>2</td>\n",
       "    </tr>\n",
       "    <tr>\n",
       "      <th>18</th>\n",
       "      <td>4</td>\n",
       "      <td>4</td>\n",
       "    </tr>\n",
       "    <tr>\n",
       "      <th>6</th>\n",
       "      <td>1</td>\n",
       "      <td>1</td>\n",
       "    </tr>\n",
       "    <tr>\n",
       "      <th>62</th>\n",
       "      <td>3</td>\n",
       "      <td>3</td>\n",
       "    </tr>\n",
       "    <tr>\n",
       "      <th>50</th>\n",
       "      <td>1</td>\n",
       "      <td>1</td>\n",
       "    </tr>\n",
       "    <tr>\n",
       "      <th>83</th>\n",
       "      <td>2</td>\n",
       "      <td>2</td>\n",
       "    </tr>\n",
       "    <tr>\n",
       "      <th>59</th>\n",
       "      <td>2</td>\n",
       "      <td>2</td>\n",
       "    </tr>\n",
       "    <tr>\n",
       "      <th>15</th>\n",
       "      <td>7</td>\n",
       "      <td>7</td>\n",
       "    </tr>\n",
       "    <tr>\n",
       "      <th>97</th>\n",
       "      <td>6</td>\n",
       "      <td>6</td>\n",
       "    </tr>\n",
       "    <tr>\n",
       "      <th>67</th>\n",
       "      <td>1</td>\n",
       "      <td>1</td>\n",
       "    </tr>\n",
       "    <tr>\n",
       "      <th>4</th>\n",
       "      <td>1</td>\n",
       "      <td>1</td>\n",
       "    </tr>\n",
       "    <tr>\n",
       "      <th>19</th>\n",
       "      <td>1</td>\n",
       "      <td>1</td>\n",
       "    </tr>\n",
       "    <tr>\n",
       "      <th>89</th>\n",
       "      <td>5</td>\n",
       "      <td>5</td>\n",
       "    </tr>\n",
       "    <tr>\n",
       "      <th>24</th>\n",
       "      <td>6</td>\n",
       "      <td>6</td>\n",
       "    </tr>\n",
       "    <tr>\n",
       "      <th>1</th>\n",
       "      <td>1</td>\n",
       "      <td>1</td>\n",
       "    </tr>\n",
       "    <tr>\n",
       "      <th>86</th>\n",
       "      <td>4</td>\n",
       "      <td>4</td>\n",
       "    </tr>\n",
       "  </tbody>\n",
       "</table>\n",
       "</div>"
      ],
      "text/plain": [
       "    True_Label  Predicted_label\n",
       "17           1                1\n",
       "0            1                1\n",
       "12           4                4\n",
       "46           7                7\n",
       "21           2                2\n",
       "56           2                2\n",
       "18           4                4\n",
       "6            1                1\n",
       "62           3                3\n",
       "50           1                1\n",
       "83           2                2\n",
       "59           2                2\n",
       "15           7                7\n",
       "97           6                6\n",
       "67           1                1\n",
       "4            1                1\n",
       "19           1                1\n",
       "89           5                5\n",
       "24           6                6\n",
       "1            1                1\n",
       "86           4                4"
      ]
     },
     "execution_count": 297,
     "metadata": {},
     "output_type": "execute_result"
    }
   ],
   "source": [
    "#Classifying values of test dataset\n",
    "prediction = pd.DataFrame()\n",
    "prediction['True_Label'] = y_test.iloc[:,0]\n",
    "prediction['Predicted_label'] = y_pred\n",
    "prediction"
   ]
  },
  {
   "cell_type": "markdown",
   "metadata": {},
   "source": [
    "(f) Calculate the accuracy and plot Confusion Matrix.\n",
    " <br>"
   ]
  },
  {
   "cell_type": "code",
   "execution_count": 298,
   "metadata": {},
   "outputs": [
    {
     "name": "stdout",
     "output_type": "stream",
     "text": [
      "Accuracy Score\n",
      "100.0\n",
      "\n",
      "\n",
      "              precision    recall  f1-score   support\n",
      "\n",
      "           1       1.00      1.00      1.00         8\n",
      "           2       1.00      1.00      1.00         4\n",
      "           3       1.00      1.00      1.00         1\n",
      "           4       1.00      1.00      1.00         3\n",
      "           5       1.00      1.00      1.00         1\n",
      "           6       1.00      1.00      1.00         2\n",
      "           7       1.00      1.00      1.00         2\n",
      "\n",
      "    accuracy                           1.00        21\n",
      "   macro avg       1.00      1.00      1.00        21\n",
      "weighted avg       1.00      1.00      1.00        21\n",
      "\n",
      "[[8 0 0 0 0 0 0]\n",
      " [0 4 0 0 0 0 0]\n",
      " [0 0 1 0 0 0 0]\n",
      " [0 0 0 3 0 0 0]\n",
      " [0 0 0 0 1 0 0]\n",
      " [0 0 0 0 0 2 0]\n",
      " [0 0 0 0 0 0 2]]\n"
     ]
    },
    {
     "data": {
      "image/png": "[encoded data removed]",
      "text/plain": [
       "<Figure size 432x288 with 2 Axes>"
      ]
     },
     "metadata": {
      "needs_background": "light"
     },
     "output_type": "display_data"
    }
   ],
   "source": [
    "print('Accuracy Score')\n",
    "print(model.score(X_test,y_test) *100)\n",
    "print('\\n')\n",
    "print(metrics.classification_report(y_test,y_pred))\n",
    "print(metrics.confusion_matrix(y_test, y_pred))\n",
    "disp = metrics.plot_confusion_matrix(model, X_test, y_test)\n",
    "disp.figure_.suptitle(\"Confusion Matrix\")\n",
    "plt.show()"
   ]
  },
  {
   "cell_type": "code",
   "execution_count": 228,
   "metadata": {},
   "outputs": [],
   "source": [
    "# Using SVM\n",
    "import numpy as np\n",
    "import pandas as pd\n",
    "from sklearn.model_selection import train_test_split\n",
    "from sklearn import svm\n",
    "from sklearn.metrics import confusion_matrix\n",
    "from sklearn.preprocessing import MinMaxScaler,StandardScaler\n",
    "import matplotlib.pyplot as plt\n",
    "import seaborn as sns"
   ]
  },
  {
   "cell_type": "code",
   "execution_count": 229,
   "metadata": {},
   "outputs": [
    {
     "data": {
      "text/plain": [
       "(101, 18)"
      ]
     },
     "execution_count": 229,
     "metadata": {},
     "output_type": "execute_result"
    }
   ],
   "source": [
    "data = pd.read_csv('zoo.csv')\n",
    "data.head()\n",
    "data.shape"
   ]
  },
  {
   "cell_type": "code",
   "execution_count": 230,
   "metadata": {},
   "outputs": [
    {
     "data": {
      "text/plain": [
       "(101, 1)"
      ]
     },
     "execution_count": 230,
     "metadata": {},
     "output_type": "execute_result"
    }
   ],
   "source": [
    "X = data.iloc[:,1:-1]\n",
    "Y = data.iloc[:,-1:]\n",
    "Y.head()\n",
    "Y.shape\n"
   ]
  },
  {
   "cell_type": "code",
   "execution_count": 231,
   "metadata": {},
   "outputs": [
    {
     "data": {
      "text/plain": [
       "(21, 1)"
      ]
     },
     "execution_count": 231,
     "metadata": {},
     "output_type": "execute_result"
    }
   ],
   "source": [
    "#Feature scaling\n",
    "scaler = StandardScaler()\n",
    "scaler.fit(X)\n",
    "X_scaled = scaler.transform(X)\n",
    "#Split data randomly and y variable proportionately\n",
    "X_train, X_test, y_train, y_test = train_test_split(X_scaled, Y, test_size=0.2, random_state=5, stratify=Y)\n",
    "X_train.shape\n",
    "y_test.shape"
   ]
  },
  {
   "cell_type": "code",
   "execution_count": 232,
   "metadata": {},
   "outputs": [],
   "source": [
    "model = svm.SVC(kernel='linear')\n",
    "model.fit(X_train,np.ravel(y_train,order='C'))\n",
    "y_pred = model.predict(X_test)"
   ]
  },
  {
   "cell_type": "code",
   "execution_count": 233,
   "metadata": {},
   "outputs": [
    {
     "data": {
      "text/html": [
       "<div>\n",
       "<style scoped>\n",
       "    .dataframe tbody tr th:only-of-type {\n",
       "        vertical-align: middle;\n",
       "    }\n",
       "\n",
       "    .dataframe tbody tr th {\n",
       "        vertical-align: top;\n",
       "    }\n",
       "\n",
       "    .dataframe thead th {\n",
       "        text-align: right;\n",
       "    }\n",
       "</style>\n",
       "<table border=\"1\" class=\"dataframe\">\n",
       "  <thead>\n",
       "    <tr style=\"text-align: right;\">\n",
       "      <th></th>\n",
       "      <th>True_Label</th>\n",
       "      <th>Predicted_label</th>\n",
       "    </tr>\n",
       "  </thead>\n",
       "  <tbody>\n",
       "    <tr>\n",
       "      <th>37</th>\n",
       "      <td>2</td>\n",
       "      <td>2</td>\n",
       "    </tr>\n",
       "    <tr>\n",
       "      <th>62</th>\n",
       "      <td>3</td>\n",
       "      <td>3</td>\n",
       "    </tr>\n",
       "    <tr>\n",
       "      <th>31</th>\n",
       "      <td>1</td>\n",
       "      <td>1</td>\n",
       "    </tr>\n",
       "    <tr>\n",
       "      <th>13</th>\n",
       "      <td>7</td>\n",
       "      <td>7</td>\n",
       "    </tr>\n",
       "    <tr>\n",
       "      <th>38</th>\n",
       "      <td>4</td>\n",
       "      <td>4</td>\n",
       "    </tr>\n",
       "    <tr>\n",
       "      <th>75</th>\n",
       "      <td>1</td>\n",
       "      <td>1</td>\n",
       "    </tr>\n",
       "    <tr>\n",
       "      <th>94</th>\n",
       "      <td>1</td>\n",
       "      <td>1</td>\n",
       "    </tr>\n",
       "    <tr>\n",
       "      <th>56</th>\n",
       "      <td>2</td>\n",
       "      <td>2</td>\n",
       "    </tr>\n",
       "    <tr>\n",
       "      <th>41</th>\n",
       "      <td>2</td>\n",
       "      <td>2</td>\n",
       "    </tr>\n",
       "    <tr>\n",
       "      <th>88</th>\n",
       "      <td>6</td>\n",
       "      <td>6</td>\n",
       "    </tr>\n",
       "    <tr>\n",
       "      <th>73</th>\n",
       "      <td>4</td>\n",
       "      <td>4</td>\n",
       "    </tr>\n",
       "    <tr>\n",
       "      <th>25</th>\n",
       "      <td>5</td>\n",
       "      <td>5</td>\n",
       "    </tr>\n",
       "    <tr>\n",
       "      <th>67</th>\n",
       "      <td>1</td>\n",
       "      <td>1</td>\n",
       "    </tr>\n",
       "    <tr>\n",
       "      <th>87</th>\n",
       "      <td>2</td>\n",
       "      <td>2</td>\n",
       "    </tr>\n",
       "    <tr>\n",
       "      <th>35</th>\n",
       "      <td>1</td>\n",
       "      <td>1</td>\n",
       "    </tr>\n",
       "    <tr>\n",
       "      <th>17</th>\n",
       "      <td>1</td>\n",
       "      <td>1</td>\n",
       "    </tr>\n",
       "    <tr>\n",
       "      <th>99</th>\n",
       "      <td>7</td>\n",
       "      <td>7</td>\n",
       "    </tr>\n",
       "    <tr>\n",
       "      <th>19</th>\n",
       "      <td>1</td>\n",
       "      <td>1</td>\n",
       "    </tr>\n",
       "    <tr>\n",
       "      <th>97</th>\n",
       "      <td>6</td>\n",
       "      <td>6</td>\n",
       "    </tr>\n",
       "    <tr>\n",
       "      <th>64</th>\n",
       "      <td>1</td>\n",
       "      <td>1</td>\n",
       "    </tr>\n",
       "    <tr>\n",
       "      <th>2</th>\n",
       "      <td>4</td>\n",
       "      <td>4</td>\n",
       "    </tr>\n",
       "  </tbody>\n",
       "</table>\n",
       "</div>"
      ],
      "text/plain": [
       "    True_Label  Predicted_label\n",
       "37           2                2\n",
       "62           3                3\n",
       "31           1                1\n",
       "13           7                7\n",
       "38           4                4\n",
       "75           1                1\n",
       "94           1                1\n",
       "56           2                2\n",
       "41           2                2\n",
       "88           6                6\n",
       "73           4                4\n",
       "25           5                5\n",
       "67           1                1\n",
       "87           2                2\n",
       "35           1                1\n",
       "17           1                1\n",
       "99           7                7\n",
       "19           1                1\n",
       "97           6                6\n",
       "64           1                1\n",
       "2            4                4"
      ]
     },
     "execution_count": 233,
     "metadata": {},
     "output_type": "execute_result"
    }
   ],
   "source": [
    "#Classifying values of test dataset\n",
    "prediction = pd.DataFrame()\n",
    "prediction['True_Label'] = y_test.iloc[:,0]\n",
    "prediction['Predicted_label'] = y_pred\n",
    "prediction"
   ]
  },
  {
   "cell_type": "code",
   "execution_count": 234,
   "metadata": {},
   "outputs": [
    {
     "name": "stdout",
     "output_type": "stream",
     "text": [
      "Accuracy score\n",
      "100.0\n"
     ]
    }
   ],
   "source": [
    "print('Accuracy score')\n",
    "print(metrics.accuracy_score(y_test, y_pred) *100)"
   ]
  },
  {
   "cell_type": "code",
   "execution_count": 235,
   "metadata": {},
   "outputs": [
    {
     "name": "stdout",
     "output_type": "stream",
     "text": [
      "[[8 0 0 0 0 0 0]\n",
      " [0 4 0 0 0 0 0]\n",
      " [0 0 1 0 0 0 0]\n",
      " [0 0 0 3 0 0 0]\n",
      " [0 0 0 0 1 0 0]\n",
      " [0 0 0 0 0 2 0]\n",
      " [0 0 0 0 0 0 2]]\n"
     ]
    },
    {
     "data": {
      "image/png": "[encoded data removed]",
      "text/plain": [
       "<Figure size 432x288 with 2 Axes>"
      ]
     },
     "metadata": {
      "needs_background": "light"
     },
     "output_type": "display_data"
    }
   ],
   "source": [
    "print(metrics.confusion_matrix(y_true=y_test, y_pred=y_pred))\n",
    "disp = metrics.plot_confusion_matrix(model, X_test, y_test)\n",
    "disp.figure_.suptitle(\"Confusion Matrix\")\n",
    "plt.show()"
   ]
  },
  {
   "cell_type": "code",
   "execution_count": 205,
   "metadata": {},
   "outputs": [],
   "source": [
    "#Using Softmax regression\n",
    "import tensorflow.compat.v1 as tf\n",
    "tf.disable_v2_behavior()\n",
    "#Placeholder is a space to put and change values while the program is running.\n",
    "Y_tf = tf.placeholder(tf.int32, [None, 1]) #Place holder for 1 column\n",
    "X_tf = tf.placeholder(tf.float32, [None,16]) #Place holder for 1 column\n",
    "Y_one_hot = tf.one_hot(Y_tf, 7)  # one hot encoding\n"
   ]
  },
  {
   "cell_type": "code",
   "execution_count": 206,
   "metadata": {},
   "outputs": [],
   "source": [
    "Y_one_hot = tf.reshape(Y_one_hot, [-1, 7])\n",
    "#Initialising Weight & Bias values randomly\n",
    "W = tf.Variable(tf.truncated_normal([16, 7])) \n",
    "b = tf.Variable(tf.truncated_normal([7]))"
   ]
  },
  {
   "cell_type": "code",
   "execution_count": 207,
   "metadata": {},
   "outputs": [],
   "source": [
    "logits = tf.matmul(X_tf, W) + b"
   ]
  },
  {
   "cell_type": "code",
   "execution_count": 208,
   "metadata": {},
   "outputs": [],
   "source": [
    "hypothesis = tf.nn.softmax(logits)\n",
    "loss = tf.reduce_mean(tf.nn.softmax_cross_entropy_with_logits_v2(logits=logits,labels=Y_one_hot)) # Calculate mean of loss function"
   ]
  },
  {
   "cell_type": "code",
   "execution_count": 209,
   "metadata": {},
   "outputs": [],
   "source": [
    "optimizer  = tf.train.GradientDescentOptimizer(learning_rate=0.05).minimize(loss) # GradientDescent optimizer with leraning rate 0.05 to minimise loss function"
   ]
  },
  {
   "cell_type": "code",
   "execution_count": 210,
   "metadata": {},
   "outputs": [],
   "source": [
    "predictions = tf.argmax(hypothesis, 1) # returns index with largest value in the tf vector\n",
    "correct_prediction = tf.equal(predictions, tf.argmax(Y_one_hot, 1))# Returns truth value of predictions & labels element wise\n",
    "accuracy = tf.reduce_mean(tf.cast(correct_prediction, tf.float32))# Convert to float using tf.cast and compute mean of elements"
   ]
  },
  {
   "cell_type": "code",
   "execution_count": 211,
   "metadata": {},
   "outputs": [
    {
     "name": "stdout",
     "output_type": "stream",
     "text": [
      "Model Accuracy = 0.9047619\n"
     ]
    }
   ],
   "source": [
    "init = tf.global_variables_initializer()\n",
    "with tf.Session() as session:\n",
    "    session.run(init)\n",
    "    for step in range(5000):\n",
    "        session.run(optimizer, feed_dict={X_tf: X_train, Y_tf: y_train})  \n",
    "    test_accuracy = session.run(accuracy, feed_dict={X_tf: X_test, Y_tf: y_test})\n",
    "    print(\"Model Accuracy =\", test_accuracy)"
   ]
  },
  {
   "cell_type": "markdown",
   "metadata": {},
   "source": [
    "(e) Write your comments about the confusion matrix of your experiment."
   ]
  },
  {
   "cell_type": "markdown",
   "metadata": {},
   "source": [
    "The Zoo animal classification dataset is trained with 3 different ML alogorithms and observations are as follows\n",
    "1. Logistic Regression - Model was able to predict the classes with 100% accuracy\n",
    "2.SVM - Model was able to predict the classes with 100% accuracy\n",
    "3. Softmax regression - Model was able to predict the classes with 90.4% accuracy\n",
    "\n",
    "Observations on Confusion Matrix of Logistic Regression & SVM\n",
    "It has true value of class label and predicted value of class label. \n",
    "Cij is equal to the number of observations known to be in i group  and predicted to be in j group .\n",
    "C1,1 is count of true positives in the matrix (i.e values in diagonal of matrix and Off diagonal values are misclassified values)\n",
    "It can be observed that there are only true positives in matrix and no false positives/false negatives in the predicted labels\n"
   ]
  },
  {
   "cell_type": "markdown",
   "metadata": {},
   "source": [
    "### Question 2"
   ]
  },
  {
   "cell_type": "markdown",
   "metadata": {},
   "source": [
    "The handwritten digit data set MNIST is a subset of NIST, which can be used for simple implementation of machine learning algorithms. In this problem, you will use support vector machine to finish the classification of MNIST. <br>\n",
    "https://www.kaggle.com/c/digit-recognizer/data"
   ]
  },
  {
   "cell_type": "markdown",
   "metadata": {},
   "source": [
    "(a) Load the first 10K samples from \"train.csv\" and split them into training and testing data by 0.2. Use sklearn.svm to train a model with raw pixel features. Choose the linear kernel and set C = 5 and gamma= 0.05. Report the model."
   ]
  },
  {
   "cell_type": "code",
   "execution_count": 236,
   "metadata": {},
   "outputs": [],
   "source": [
    "import numpy as np\n",
    "import pandas as pd\n",
    "from sklearn.model_selection import train_test_split\n",
    "from sklearn import svm\n",
    "from sklearn.metrics import confusion_matrix\n",
    "from sklearn.preprocessing import MinMaxScaler,StandardScaler\n",
    "import matplotlib.pyplot as plt\n",
    "import seaborn as sns"
   ]
  },
  {
   "cell_type": "code",
   "execution_count": 287,
   "metadata": {},
   "outputs": [
    {
     "data": {
      "text/plain": [
       "0    1\n",
       "1    0\n",
       "2    1\n",
       "3    4\n",
       "4    0\n",
       "Name: label, dtype: int64"
      ]
     },
     "execution_count": 287,
     "metadata": {},
     "output_type": "execute_result"
    }
   ],
   "source": [
    "data = pd.read_csv('train.csv') # Loading dataset\n",
    "data.head()\n",
    "data.shape\n",
    "data = data.iloc[0:10000,:] # Loading first 10K samples from train.csv\n",
    "data.shape\n",
    "data.isnull().sum()  # It can be observed that there are no missing values in dataset\n",
    "X = data.iloc[:,1:]\n",
    "X.head()\n",
    "Y = data.iloc[:,0]\n",
    "Y.head()"
   ]
  },
  {
   "cell_type": "code",
   "execution_count": 288,
   "metadata": {},
   "outputs": [],
   "source": [
    "#Feature scaling before using SVM\n",
    "scaler = StandardScaler()\n",
    "scaler.fit(X)\n",
    "X_scaled = scaler.transform(X)\n",
    "#Splitting data\n",
    "X_train, X_test, y_train, y_test = train_test_split(X_scaled, Y, test_size = 0.2,random_state = 1)\n",
    "X_train.shape\n",
    "linear_model = svm.SVC(kernel='linear',C=5,gamma=0.05)\n",
    "linear_model.fit(X_train,y_train)\n",
    "y_pred = linear_model.predict(X_test)"
   ]
  },
  {
   "cell_type": "code",
   "execution_count": 289,
   "metadata": {},
   "outputs": [
    {
     "name": "stdout",
     "output_type": "stream",
     "text": [
      "Accuracy score\n",
      "90.55\n"
     ]
    }
   ],
   "source": [
    "# Checking accuracy score of model\n",
    "print('Accuracy score')\n",
    "print(metrics.accuracy_score(y_test, y_pred) * 100)"
   ]
  },
  {
   "cell_type": "code",
   "execution_count": 291,
   "metadata": {},
   "outputs": [
    {
     "data": {
      "text/html": [
       "<div>\n",
       "<style scoped>\n",
       "    .dataframe tbody tr th:only-of-type {\n",
       "        vertical-align: middle;\n",
       "    }\n",
       "\n",
       "    .dataframe tbody tr th {\n",
       "        vertical-align: top;\n",
       "    }\n",
       "\n",
       "    .dataframe thead th {\n",
       "        text-align: right;\n",
       "    }\n",
       "</style>\n",
       "<table border=\"1\" class=\"dataframe\">\n",
       "  <thead>\n",
       "    <tr style=\"text-align: right;\">\n",
       "      <th></th>\n",
       "      <th>Actual value</th>\n",
       "      <th>Predicted value</th>\n",
       "    </tr>\n",
       "  </thead>\n",
       "  <tbody>\n",
       "    <tr>\n",
       "      <th>9953</th>\n",
       "      <td>9</td>\n",
       "      <td>9</td>\n",
       "    </tr>\n",
       "    <tr>\n",
       "      <th>3850</th>\n",
       "      <td>2</td>\n",
       "      <td>2</td>\n",
       "    </tr>\n",
       "    <tr>\n",
       "      <th>4962</th>\n",
       "      <td>2</td>\n",
       "      <td>2</td>\n",
       "    </tr>\n",
       "    <tr>\n",
       "      <th>3886</th>\n",
       "      <td>7</td>\n",
       "      <td>7</td>\n",
       "    </tr>\n",
       "    <tr>\n",
       "      <th>5437</th>\n",
       "      <td>8</td>\n",
       "      <td>8</td>\n",
       "    </tr>\n",
       "    <tr>\n",
       "      <th>...</th>\n",
       "      <td>...</td>\n",
       "      <td>...</td>\n",
       "    </tr>\n",
       "    <tr>\n",
       "      <th>3919</th>\n",
       "      <td>2</td>\n",
       "      <td>2</td>\n",
       "    </tr>\n",
       "    <tr>\n",
       "      <th>162</th>\n",
       "      <td>5</td>\n",
       "      <td>5</td>\n",
       "    </tr>\n",
       "    <tr>\n",
       "      <th>7903</th>\n",
       "      <td>4</td>\n",
       "      <td>4</td>\n",
       "    </tr>\n",
       "    <tr>\n",
       "      <th>2242</th>\n",
       "      <td>8</td>\n",
       "      <td>3</td>\n",
       "    </tr>\n",
       "    <tr>\n",
       "      <th>2745</th>\n",
       "      <td>4</td>\n",
       "      <td>4</td>\n",
       "    </tr>\n",
       "  </tbody>\n",
       "</table>\n",
       "<p>2000 rows × 2 columns</p>\n",
       "</div>"
      ],
      "text/plain": [
       "      Actual value  Predicted value\n",
       "9953             9                9\n",
       "3850             2                2\n",
       "4962             2                2\n",
       "3886             7                7\n",
       "5437             8                8\n",
       "...            ...              ...\n",
       "3919             2                2\n",
       "162              5                5\n",
       "7903             4                4\n",
       "2242             8                3\n",
       "2745             4                4\n",
       "\n",
       "[2000 rows x 2 columns]"
      ]
     },
     "execution_count": 291,
     "metadata": {},
     "output_type": "execute_result"
    }
   ],
   "source": [
    "prediction = pd.DataFrame()\n",
    "prediction['Actual value'] = y_test\n",
    "prediction['Predicted value'] = y_pred\n",
    "prediction"
   ]
  },
  {
   "cell_type": "code",
   "execution_count": 241,
   "metadata": {},
   "outputs": [
    {
     "data": {
      "image/png": "[encoded data removed]",
      "text/plain": [
       "<Figure size 720x1080 with 10 Axes>"
      ]
     },
     "metadata": {
      "needs_background": "light"
     },
     "output_type": "display_data"
    }
   ],
   "source": [
    "#Plotting predicted values\n",
    "_, axes = plt.subplots(nrows=1, ncols=10, figsize=(10, 15))\n",
    "for ax, image, prediction in zip(axes, X_test, y_pred):\n",
    "    ax.set_axis_off()\n",
    "    image = image.reshape(28,28) # Images have 784 features (28 * 28)\n",
    "    ax.imshow(image, cmap=plt.cm.gray_r, interpolation='nearest')\n",
    "    plt.rcParams.update({'font.size': 7})\n",
    "    ax.set_title(f'Prediction: {prediction}')"
   ]
  },
  {
   "cell_type": "markdown",
   "metadata": {},
   "source": [
    "(b) How many support vectors does each class have? List the support vectors for each class and test the prediction accuracy by metrics.classification report."
   ]
  },
  {
   "cell_type": "code",
   "execution_count": 242,
   "metadata": {},
   "outputs": [
    {
     "name": "stdout",
     "output_type": "stream",
     "text": [
      "Indices of Support Vectors\n",
      "[  14   85  157 ... 7973 7979 7986]\n",
      "\n",
      "\n",
      "Support Vectors per class\n",
      "[183 135 256 269 234 317 201 226 311 283]\n",
      "\n",
      "\n",
      "Sample of Support Vectors\n",
      "[[ 0.          0.          0.         ... -0.1422038  -0.14293636\n",
      "  -0.13365501]\n",
      " [ 0.          0.          0.         ... -0.1422038  -0.14293636\n",
      "  -0.13365501]\n",
      " [ 0.          0.          0.         ... -0.1422038  -0.14293636\n",
      "  -0.13365501]\n",
      " ...\n",
      " [ 0.          0.          0.         ... -0.1422038  -0.14293636\n",
      "  -0.13365501]\n",
      " [ 0.          0.          0.         ... -0.1422038  -0.14293636\n",
      "  -0.13365501]\n",
      " [ 0.          0.          0.         ... -0.1422038  -0.14293636\n",
      "  -0.13365501]]\n"
     ]
    }
   ],
   "source": [
    "# Support Vector Indices\n",
    "support_vector_indices = linear_model.support_\n",
    "print('Indices of Support Vectors')\n",
    "print(support_vector_indices)\n",
    "print('\\n')\n",
    "indices = pd.DataFrame(support_vector_indices)\n",
    "indices\n",
    "# Get number of support vectors per class\n",
    "support_vectors_per_class = linear_model.n_support_\n",
    "print('Support Vectors per class')\n",
    "print(support_vectors_per_class)\n",
    "print('\\n')\n",
    "# Get support vectors\n",
    "support_vectors = linear_model.support_vectors_\n",
    "print('Sample of Support Vectors')\n",
    "print(support_vectors[1:74,1:74])"
   ]
  },
  {
   "cell_type": "code",
   "execution_count": 119,
   "metadata": {},
   "outputs": [
    {
     "name": "stdout",
     "output_type": "stream",
     "text": [
      "              precision    recall  f1-score   support\n",
      "\n",
      "           0       0.95      0.97      0.96       205\n",
      "           1       0.91      0.97      0.94       196\n",
      "           2       0.87      0.92      0.90       227\n",
      "           3       0.89      0.87      0.88       206\n",
      "           4       0.90      0.95      0.92       201\n",
      "           5       0.84      0.90      0.87       157\n",
      "           6       0.96      0.94      0.95       207\n",
      "           7       0.91      0.90      0.90       221\n",
      "           8       0.91      0.80      0.85       184\n",
      "           9       0.89      0.83      0.86       196\n",
      "\n",
      "    accuracy                           0.91      2000\n",
      "   macro avg       0.90      0.90      0.90      2000\n",
      "weighted avg       0.91      0.91      0.90      2000\n",
      "\n"
     ]
    }
   ],
   "source": [
    "from sklearn import metrics\n",
    "from sklearn.metrics import confusion_matrix\n",
    "from sklearn.metrics import classification_report\n",
    "print(metrics.classification_report(y_test,y_pred))\n",
    "#This report shows metrics for each class label\n",
    "#Precision - percent of  predictions correct i.e positive prediction value \n",
    "#Recall - percent of the positive cases were reported \n",
    "#f1-score - percent of positive predictions that were correct\n",
    "#Support - Support is the number of actual occurrences of the class in the specified dataset\n",
    "#Example - for class 1 - precision is 95% which means out of 100 positive values 95 are correct;y predicted as positive\n",
    "#It can be observed that accuracy is 91% from the report which is same as previously calculated accuracy score"
   ]
  },
  {
   "cell_type": "code",
   "execution_count": 243,
   "metadata": {},
   "outputs": [
    {
     "name": "stdout",
     "output_type": "stream",
     "text": [
      "[[199   0   1   1   0   2   2   0   0   0]\n",
      " [  0 190   0   1   0   0   0   1   3   1]\n",
      " [  2   0 209   4   2   0   1   5   3   1]\n",
      " [  2   0   7 180   0  12   0   1   3   1]\n",
      " [  1   2   2   0 190   0   0   0   0   6]\n",
      " [  0   2   1   6   2 141   2   0   2   1]\n",
      " [  3   1   4   0   3   2 194   0   0   0]\n",
      " [  0   3   4   1   4   0   0 198   2   9]\n",
      " [  1   7   7   6   1  10   2   2 147   1]\n",
      " [  1   3   4   3  10   0   1  10   1 163]]\n"
     ]
    },
    {
     "data": {
      "image/png": "[encoded data removed]",
      "text/plain": [
       "<Figure size 432x288 with 2 Axes>"
      ]
     },
     "metadata": {
      "needs_background": "light"
     },
     "output_type": "display_data"
    }
   ],
   "source": [
    "print(metrics.confusion_matrix(y_true=y_test, y_pred=y_pred))\n",
    "disp = metrics.plot_confusion_matrix(linear_model, X_test, y_test)\n",
    "disp.figure_.suptitle(\"Confusion Matrix\")\n",
    "plt.show()"
   ]
  },
  {
   "cell_type": "code",
   "execution_count": null,
   "metadata": {},
   "outputs": [],
   "source": [
    "# Observations\n",
    "# For label 0, 199 values are predicted correctly and 6 values are misclassified\n",
    "# Diagonal values give number of true positives for each label \n",
    "# Non diagonal values give number of misclassified values for each label"
   ]
  },
  {
   "cell_type": "markdown",
   "metadata": {},
   "source": [
    "(c) Repeat (a) and (b) with a RBF kernel and the same C and gamma."
   ]
  },
  {
   "cell_type": "code",
   "execution_count": 244,
   "metadata": {},
   "outputs": [
    {
     "data": {
      "text/plain": [
       "0    1\n",
       "1    0\n",
       "2    1\n",
       "3    4\n",
       "4    0\n",
       "Name: label, dtype: int64"
      ]
     },
     "execution_count": 244,
     "metadata": {},
     "output_type": "execute_result"
    }
   ],
   "source": [
    "data = pd.read_csv('train.csv') # Loading dataset\n",
    "data.head()\n",
    "data.shape\n",
    "data = data.iloc[0:10000,:] # Loading first 10K samples from train.csv\n",
    "data.shape\n",
    "data.isnull().sum()  # It can be observed that there are no missing values in dataset\n",
    "X = data.iloc[:,1:]\n",
    "X.head()\n",
    "Y = data.iloc[:,0]\n",
    "Y.head()"
   ]
  },
  {
   "cell_type": "code",
   "execution_count": 277,
   "metadata": {},
   "outputs": [
    {
     "name": "stdout",
     "output_type": "stream",
     "text": [
      "(10000,)\n",
      "(10000, 784)\n"
     ]
    },
    {
     "data": {
      "text/plain": [
       "0    1\n",
       "1    0\n",
       "2    1\n",
       "3    4\n",
       "4    0\n",
       "Name: label, dtype: int64"
      ]
     },
     "execution_count": 277,
     "metadata": {},
     "output_type": "execute_result"
    }
   ],
   "source": [
    "data = pd.read_csv('train.csv')\n",
    "data.head()\n",
    "data = data.iloc[0:10000,:]\n",
    "Y = data['label']\n",
    "X = data.drop(columns = 'label')\n",
    "print(Y.shape)\n",
    "print(X.shape)\n",
    "Y.head()"
   ]
  },
  {
   "cell_type": "code",
   "execution_count": 278,
   "metadata": {},
   "outputs": [
    {
     "data": {
      "text/plain": [
       "0.259"
      ]
     },
     "execution_count": 278,
     "metadata": {},
     "output_type": "execute_result"
    }
   ],
   "source": [
    "#Feature scaling before using SVM\n",
    "scaler = StandardScaler()\n",
    "scaler.fit(X)\n",
    "X_scaled = scaler.transform(X)\n",
    "#Splitting data\n",
    "X_train, X_test, y_train, y_test = train_test_split(X_scaled, Y, test_size = 0.2,random_state = 1)\n",
    "X_train.shape\n",
    "#Training model\n",
    "rbf_model = svm.SVC(kernel='rbf', C=5, gamma=0.05)\n",
    "rbf_model.fit(X_train,y_train)\n",
    "y_pred = rbf_model.predict(X_test)\n",
    "metrics.accuracy_score(y_test, y_pred)"
   ]
  },
  {
   "cell_type": "code",
   "execution_count": 273,
   "metadata": {},
   "outputs": [
    {
     "data": {
      "text/plain": [
       "9953    9\n",
       "3850    2\n",
       "4962    2\n",
       "3886    7\n",
       "5437    8\n",
       "       ..\n",
       "3919    2\n",
       "162     5\n",
       "7903    4\n",
       "2242    8\n",
       "2745    4\n",
       "Name: label, Length: 2000, dtype: int64"
      ]
     },
     "execution_count": 273,
     "metadata": {},
     "output_type": "execute_result"
    }
   ],
   "source": [
    "y_test"
   ]
  },
  {
   "cell_type": "code",
   "execution_count": 247,
   "metadata": {},
   "outputs": [
    {
     "name": "stdout",
     "output_type": "stream",
     "text": [
      "Test accuracy score\n",
      "25.900000000000002\n",
      "\n",
      "\n",
      "Training accuracy score\n",
      "100.0\n"
     ]
    }
   ],
   "source": [
    "print('Test accuracy score')\n",
    "print(rbf_model.score(X_test, y_test) *100)\n",
    "print('\\n')\n",
    "print('Training accuracy score')\n",
    "print(rbf_model.score(X_train, y_train) *100)"
   ]
  },
  {
   "cell_type": "code",
   "execution_count": 262,
   "metadata": {},
   "outputs": [
    {
     "name": "stdout",
     "output_type": "stream",
     "text": [
      "(2000,)\n",
      "(2000,)\n"
     ]
    }
   ],
   "source": [
    "print(y_test.shape)\n",
    "print(y_pred.shape)"
   ]
  },
  {
   "cell_type": "code",
   "execution_count": 279,
   "metadata": {},
   "outputs": [
    {
     "data": {
      "text/html": [
       "<div>\n",
       "<style scoped>\n",
       "    .dataframe tbody tr th:only-of-type {\n",
       "        vertical-align: middle;\n",
       "    }\n",
       "\n",
       "    .dataframe tbody tr th {\n",
       "        vertical-align: top;\n",
       "    }\n",
       "\n",
       "    .dataframe thead th {\n",
       "        text-align: right;\n",
       "    }\n",
       "</style>\n",
       "<table border=\"1\" class=\"dataframe\">\n",
       "  <thead>\n",
       "    <tr style=\"text-align: right;\">\n",
       "      <th></th>\n",
       "      <th>Actual value</th>\n",
       "      <th>Predicted value</th>\n",
       "    </tr>\n",
       "  </thead>\n",
       "  <tbody>\n",
       "    <tr>\n",
       "      <th>9953</th>\n",
       "      <td>9</td>\n",
       "      <td>2</td>\n",
       "    </tr>\n",
       "    <tr>\n",
       "      <th>3850</th>\n",
       "      <td>2</td>\n",
       "      <td>2</td>\n",
       "    </tr>\n",
       "    <tr>\n",
       "      <th>4962</th>\n",
       "      <td>2</td>\n",
       "      <td>2</td>\n",
       "    </tr>\n",
       "    <tr>\n",
       "      <th>3886</th>\n",
       "      <td>7</td>\n",
       "      <td>7</td>\n",
       "    </tr>\n",
       "    <tr>\n",
       "      <th>5437</th>\n",
       "      <td>8</td>\n",
       "      <td>2</td>\n",
       "    </tr>\n",
       "    <tr>\n",
       "      <th>...</th>\n",
       "      <td>...</td>\n",
       "      <td>...</td>\n",
       "    </tr>\n",
       "    <tr>\n",
       "      <th>3919</th>\n",
       "      <td>2</td>\n",
       "      <td>2</td>\n",
       "    </tr>\n",
       "    <tr>\n",
       "      <th>162</th>\n",
       "      <td>5</td>\n",
       "      <td>2</td>\n",
       "    </tr>\n",
       "    <tr>\n",
       "      <th>7903</th>\n",
       "      <td>4</td>\n",
       "      <td>2</td>\n",
       "    </tr>\n",
       "    <tr>\n",
       "      <th>2242</th>\n",
       "      <td>8</td>\n",
       "      <td>2</td>\n",
       "    </tr>\n",
       "    <tr>\n",
       "      <th>2745</th>\n",
       "      <td>4</td>\n",
       "      <td>2</td>\n",
       "    </tr>\n",
       "  </tbody>\n",
       "</table>\n",
       "<p>2000 rows × 2 columns</p>\n",
       "</div>"
      ],
      "text/plain": [
       "      Actual value  Predicted value\n",
       "9953             9                2\n",
       "3850             2                2\n",
       "4962             2                2\n",
       "3886             7                7\n",
       "5437             8                2\n",
       "...            ...              ...\n",
       "3919             2                2\n",
       "162              5                2\n",
       "7903             4                2\n",
       "2242             8                2\n",
       "2745             4                2\n",
       "\n",
       "[2000 rows x 2 columns]"
      ]
     },
     "execution_count": 279,
     "metadata": {},
     "output_type": "execute_result"
    }
   ],
   "source": [
    "prediction = pd.DataFrame()\n",
    "prediction['Actual value'] = y_test\n",
    "prediction['Predicted value'] = y_pred\n",
    "prediction"
   ]
  },
  {
   "cell_type": "code",
   "execution_count": 248,
   "metadata": {},
   "outputs": [
    {
     "data": {
      "image/png": "[encoded data removed]",
      "text/plain": [
       "<Figure size 720x1080 with 10 Axes>"
      ]
     },
     "metadata": {
      "needs_background": "light"
     },
     "output_type": "display_data"
    }
   ],
   "source": [
    "#Plotting predicted labels\n",
    "_, axes = plt.subplots(nrows=1, ncols=10, figsize=(10, 15))\n",
    "for ax, image, prediction in zip(axes, X_test, y_pred):\n",
    "    ax.set_axis_off()\n",
    "    image = image.reshape(28,28)\n",
    "    ax.imshow(image, cmap=plt.cm.gray_r, interpolation='nearest')\n",
    "    plt.rcParams.update({'font.size': 7})\n",
    "    ax.set_title(f'Prediction: {prediction}')"
   ]
  },
  {
   "cell_type": "code",
   "execution_count": 249,
   "metadata": {},
   "outputs": [
    {
     "name": "stdout",
     "output_type": "stream",
     "text": [
      "Indices of Support Vectors\n",
      "[  10   14   15 ... 7978 7979 7986]\n",
      "\n",
      "\n",
      "Support Vectors per class\n",
      "[786 708 818 803 766 749 796 818 766 799]\n",
      "\n",
      "\n",
      "Sample of Support Vectors\n",
      "[[ 0.          0.          0.         ... -0.1422038  -0.14293636\n",
      "  -0.13365501]\n",
      " [ 0.          0.          0.         ... -0.1422038  -0.14293636\n",
      "  -0.13365501]\n",
      " [ 0.          0.          0.         ... -0.1422038  -0.14293636\n",
      "  -0.13365501]\n",
      " ...\n",
      " [ 0.          0.          0.         ... -0.1422038  -0.14293636\n",
      "  -0.13365501]\n",
      " [ 0.          0.          0.         ... -0.1422038  -0.14293636\n",
      "  -0.13365501]\n",
      " [ 0.          0.          0.         ... -0.1422038  -0.14293636\n",
      "  -0.13365501]]\n"
     ]
    }
   ],
   "source": [
    "# Support Vector Indices\n",
    "support_vector_indices = rbf_model.support_\n",
    "print('Indices of Support Vectors')\n",
    "print(support_vector_indices)\n",
    "print('\\n')\n",
    "indices = pd.DataFrame(support_vector_indices)\n",
    "indices\n",
    "# Get number of support vectors per class\n",
    "support_vectors_per_class = rbf_model.n_support_\n",
    "print('Support Vectors per class')\n",
    "print(support_vectors_per_class)\n",
    "print('\\n')\n",
    "# Get support vectors\n",
    "support_vectors = rbf_model.support_vectors_\n",
    "print('Sample of Support Vectors')\n",
    "print(support_vectors[1:74,1:74])"
   ]
  },
  {
   "cell_type": "code",
   "execution_count": 280,
   "metadata": {},
   "outputs": [
    {
     "name": "stdout",
     "output_type": "stream",
     "text": [
      "[[  9   0 196   0   0   0   0   0   0   0]\n",
      " [  0 159  37   0   0   0   0   0   0   0]\n",
      " [  0   0 227   0   0   0   0   0   0   0]\n",
      " [  0   0 202   4   0   0   0   0   0   0]\n",
      " [  0   0 195   0   6   0   0   0   0   0]\n",
      " [  0   0 157   0   0   0   0   0   0   0]\n",
      " [  0   0 200   0   0   0   7   0   0   0]\n",
      " [  0   0 158   0   0   0   0  63   0   0]\n",
      " [  0   0 184   0   0   0   0   0   0   0]\n",
      " [  0   0 151   0   0   0   0   2   0  43]]\n"
     ]
    },
    {
     "data": {
      "image/png": "[encoded data removed]",
      "text/plain": [
       "<Figure size 432x288 with 2 Axes>"
      ]
     },
     "metadata": {
      "needs_background": "light"
     },
     "output_type": "display_data"
    }
   ],
   "source": [
    "print(metrics.confusion_matrix(y_true=y_test, y_pred=y_pred))\n",
    "disp = metrics.plot_confusion_matrix(rbf_model, X_test, y_test)\n",
    "disp.figure_.suptitle(\"Confusion Matrix\")\n",
    "plt.show()"
   ]
  },
  {
   "cell_type": "code",
   "execution_count": 282,
   "metadata": {},
   "outputs": [
    {
     "name": "stdout",
     "output_type": "stream",
     "text": [
      "              precision    recall  f1-score   support\n",
      "\n",
      "           0       1.00      0.04      0.08       205\n",
      "           1       1.00      0.81      0.90       196\n",
      "           2       0.13      1.00      0.23       227\n",
      "           3       1.00      0.02      0.04       206\n",
      "           4       1.00      0.03      0.06       201\n",
      "           5       0.00      0.00      0.00       157\n",
      "           6       1.00      0.03      0.07       207\n",
      "           7       0.97      0.29      0.44       221\n",
      "           8       0.00      0.00      0.00       184\n",
      "           9       1.00      0.22      0.36       196\n",
      "\n",
      "    accuracy                           0.26      2000\n",
      "   macro avg       0.71      0.24      0.22      2000\n",
      "weighted avg       0.73      0.26      0.22      2000\n",
      "\n"
     ]
    }
   ],
   "source": [
    "import warnings\n",
    "warnings.filterwarnings(\"ignore\")\n",
    "print(metrics.classification_report(y_test,y_pred))"
   ]
  },
  {
   "cell_type": "code",
   "execution_count": null,
   "metadata": {},
   "outputs": [],
   "source": [
    "# Observations:\n",
    "# It can be observed that accuracy of test model is 26% while training accuracy is 100% which shows the case of overfitting.\n",
    "# Few labels like 8 ae not at all predicted \n",
    "# Predictions are more skewed towards label 2 which can be seen in high recall score and low precision score that most of the predictions are incorrect\n",
    "# For class 0, precision is high but recall is very low which means model returns very few results, but most of its predicted labels are correct\n",
    "# f1 score is weighted average of the precision and recall and it can be observed that except for label 1 , the score is less for other labels which shows poor quality of the model\n"
   ]
  },
  {
   "cell_type": "code",
   "execution_count": 148,
   "metadata": {},
   "outputs": [
    {
     "data": {
      "text/plain": [
       "0.9345"
      ]
     },
     "execution_count": 148,
     "metadata": {},
     "output_type": "execute_result"
    }
   ],
   "source": [
    "#RBF kernel with default C and gamma values\n",
    "#Feature scaling before using SVM\n",
    "scaler = StandardScaler()\n",
    "scaler.fit(X)\n",
    "X_scaled = scaler.transform(X)\n",
    "#Splitting data\n",
    "X_train, X_test, y_train, y_test = train_test_split(X_scaled, Y, test_size = 0.2,random_state = 1)\n",
    "X_train.shape\n",
    "rbf_model = svm.SVC(kernel='rbf')\n",
    "rbf_model.fit(X_train,y_train)\n",
    "y_pred = rbf_model.predict(X_test)\n",
    "metrics.accuracy_score(y_test, y_pred)"
   ]
  },
  {
   "cell_type": "code",
   "execution_count": null,
   "metadata": {},
   "outputs": [],
   "source": [
    "#Observations:\n",
    "# It can be observed that model performed better with C value = 1 i.e lower values of hypermeter"
   ]
  },
  {
   "cell_type": "code",
   "execution_count": 149,
   "metadata": {},
   "outputs": [
    {
     "data": {
      "image/png": "[encoded data removed]",
      "text/plain": [
       "<Figure size 720x1080 with 10 Axes>"
      ]
     },
     "metadata": {
      "needs_background": "light"
     },
     "output_type": "display_data"
    }
   ],
   "source": [
    "#Plotting results\n",
    "_, axes = plt.subplots(nrows=1, ncols=10, figsize=(10, 15))\n",
    "for ax, image, prediction in zip(axes, X_test, y_pred):\n",
    "    ax.set_axis_off()\n",
    "    image = image.reshape(28,28)\n",
    "    ax.imshow(image, cmap=plt.cm.gray_r, interpolation='nearest')\n",
    "    plt.rcParams.update({'font.size': 7})\n",
    "    ax.set_title(f'Prediction: {prediction}')"
   ]
  },
  {
   "cell_type": "markdown",
   "metadata": {},
   "source": [
    "(d) Compare the two models and comment on the results."
   ]
  },
  {
   "cell_type": "code",
   "execution_count": 299,
   "metadata": {},
   "outputs": [],
   "source": [
    "# Observations of results:\n",
    "# Gamma is the parameter of a Gaussian Kernel (to handle non-linear classification).\n",
    "# Small gamma gives a pointed bump in the higher dimensions, a large gamma gives a softer, broader bump.\n",
    "# So a small gamma will give low bias and high variance while a large gamma will give higher bias and low variance.\n",
    "\n",
    "# C is the cost of misclassification\n",
    "# A large C gives low bias and high variance. Low bias because the cost of missclasification is penalized.\n",
    "# A small C gives  higher bias and lower variance.\n",
    "\n",
    "# RBF kernel SVM\n",
    "# The higher the gamma, the higher the hyperplane tries to match the training data.\n",
    "# hence some misclassifications are to allowed for avoiding overfitting of model by reducing C value\n",
    "# Large C value is overfitting model and leading to high variance\n",
    "# RBF model performed well with performance of 93% when C value is decreased to 1\n",
    "# It can be observed that accuracy of test model is 26% while training accuracy is 100% which shows the case of overfitting.\n",
    "# Few labels like 8 ae not at all predicted \n",
    "# Predictions are more skewed towards label 2 which can be seen in high recall score and low precision score that most of the predictions are incorrect\n",
    "# For class 0, precision is high but recall is very low which means model returns very few results, but most of its predicted labels are correct\n",
    "# f1 score is weighted average of the precision and recall and it can be observed that except for label 1 , the score is less for other labels which shows poor quality of the model\n",
    "\n",
    "# Linear Model SVM\n",
    "# Model is 91% accurate\n",
    "#Each label has good precision which shows % of preidcted postives are high\n",
    "#high precision relates to a low false positive rate, and high recall relates to a low false negative rate. \n",
    "#High scores for both show that the linear SVM is returning accurate results (high precision), as well as returning a majority of all positive results (high recall)."
   ]
  }
 ],
 "metadata": {
  "kernelspec": {
   "display_name": "Python 3",
   "language": "python",
   "name": "python3"
  },
  "language_info": {
   "codemirror_mode": {
    "name": "ipython",
    "version": 3
   },
   "file_extension": ".py",
   "mimetype": "text/x-python",
   "name": "python",
   "nbconvert_exporter": "python",
   "pygments_lexer": "ipython3",
   "version": "3.8.5"
  }
 },
 "nbformat": 4,
 "nbformat_minor": 2
}
