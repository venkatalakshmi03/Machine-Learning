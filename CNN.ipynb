{
  "nbformat": 4,
  "nbformat_minor": 0,
  "metadata": {
    "colab": {
      "name": "HW 9.ipynb",
      "provenance": [],
      "collapsed_sections": []
    },
    "kernelspec": {
      "display_name": "Python 3",
      "language": "python",
      "name": "python3"
    },
    "language_info": {
      "codemirror_mode": {
        "name": "ipython",
        "version": 3
      },
      "file_extension": ".py",
      "mimetype": "text/x-python",
      "name": "python",
      "nbconvert_exporter": "python",
      "pygments_lexer": "ipython3",
      "version": "3.8.5"
    },
    "widgets": {
      "application/vnd.jupyter.widget-state+json": {
        "e19333a34dc948eaa6ea0c38f9cdfcd3": {
          "model_module": "@jupyter-widgets/controls",
          "model_name": "HBoxModel",
          "state": {
            "_view_name": "HBoxView",
            "_dom_classes": [],
            "_model_name": "HBoxModel",
            "_view_module": "@jupyter-widgets/controls",
            "_model_module_version": "1.5.0",
            "_view_count": null,
            "_view_module_version": "1.5.0",
            "box_style": "",
            "layout": "IPY_MODEL_2037e2d77f4c4d2f8021ee04d2bcc7fb",
            "_model_module": "@jupyter-widgets/controls",
            "children": [
              "IPY_MODEL_1cd87a8400fa455e942e269bf1444331",
              "IPY_MODEL_6206cdcd24e54dd5a125a6d726a3dba0"
            ]
          }
        },
        "2037e2d77f4c4d2f8021ee04d2bcc7fb": {
          "model_module": "@jupyter-widgets/base",
          "model_name": "LayoutModel",
          "state": {
            "_view_name": "LayoutView",
            "grid_template_rows": null,
            "right": null,
            "justify_content": null,
            "_view_module": "@jupyter-widgets/base",
            "overflow": null,
            "_model_module_version": "1.2.0",
            "_view_count": null,
            "flex_flow": null,
            "width": null,
            "min_width": null,
            "border": null,
            "align_items": null,
            "bottom": null,
            "_model_module": "@jupyter-widgets/base",
            "top": null,
            "grid_column": null,
            "overflow_y": null,
            "overflow_x": null,
            "grid_auto_flow": null,
            "grid_area": null,
            "grid_template_columns": null,
            "flex": null,
            "_model_name": "LayoutModel",
            "justify_items": null,
            "grid_row": null,
            "max_height": null,
            "align_content": null,
            "visibility": null,
            "align_self": null,
            "height": null,
            "min_height": null,
            "padding": null,
            "grid_auto_rows": null,
            "grid_gap": null,
            "max_width": null,
            "order": null,
            "_view_module_version": "1.2.0",
            "grid_template_areas": null,
            "object_position": null,
            "object_fit": null,
            "grid_auto_columns": null,
            "margin": null,
            "display": null,
            "left": null
          }
        },
        "1cd87a8400fa455e942e269bf1444331": {
          "model_module": "@jupyter-widgets/controls",
          "model_name": "FloatProgressModel",
          "state": {
            "_view_name": "ProgressView",
            "style": "IPY_MODEL_c9c60ef6723e4518b545b3c624426267",
            "_dom_classes": [],
            "description": "Dl Completed...: 100%",
            "_model_name": "FloatProgressModel",
            "bar_style": "success",
            "max": 1,
            "_view_module": "@jupyter-widgets/controls",
            "_model_module_version": "1.5.0",
            "value": 1,
            "_view_count": null,
            "_view_module_version": "1.5.0",
            "orientation": "horizontal",
            "min": 0,
            "description_tooltip": null,
            "_model_module": "@jupyter-widgets/controls",
            "layout": "IPY_MODEL_eeb9fdc373d84301a313145f3aabcf36"
          }
        },
        "6206cdcd24e54dd5a125a6d726a3dba0": {
          "model_module": "@jupyter-widgets/controls",
          "model_name": "HTMLModel",
          "state": {
            "_view_name": "HTMLView",
            "style": "IPY_MODEL_adf9eabac2654baabb6ed96de3f17b16",
            "_dom_classes": [],
            "description": "",
            "_model_name": "HTMLModel",
            "placeholder": "​",
            "_view_module": "@jupyter-widgets/controls",
            "_model_module_version": "1.5.0",
            "value": " 1/1 [00:04&lt;00:00,  4.96s/ url]",
            "_view_count": null,
            "_view_module_version": "1.5.0",
            "description_tooltip": null,
            "_model_module": "@jupyter-widgets/controls",
            "layout": "IPY_MODEL_bc38e5f3a49e4400927953ce778b1287"
          }
        },
        "c9c60ef6723e4518b545b3c624426267": {
          "model_module": "@jupyter-widgets/controls",
          "model_name": "ProgressStyleModel",
          "state": {
            "_view_name": "StyleView",
            "_model_name": "ProgressStyleModel",
            "description_width": "initial",
            "_view_module": "@jupyter-widgets/base",
            "_model_module_version": "1.5.0",
            "_view_count": null,
            "_view_module_version": "1.2.0",
            "bar_color": null,
            "_model_module": "@jupyter-widgets/controls"
          }
        },
        "eeb9fdc373d84301a313145f3aabcf36": {
          "model_module": "@jupyter-widgets/base",
          "model_name": "LayoutModel",
          "state": {
            "_view_name": "LayoutView",
            "grid_template_rows": null,
            "right": null,
            "justify_content": null,
            "_view_module": "@jupyter-widgets/base",
            "overflow": null,
            "_model_module_version": "1.2.0",
            "_view_count": null,
            "flex_flow": null,
            "width": null,
            "min_width": null,
            "border": null,
            "align_items": null,
            "bottom": null,
            "_model_module": "@jupyter-widgets/base",
            "top": null,
            "grid_column": null,
            "overflow_y": null,
            "overflow_x": null,
            "grid_auto_flow": null,
            "grid_area": null,
            "grid_template_columns": null,
            "flex": null,
            "_model_name": "LayoutModel",
            "justify_items": null,
            "grid_row": null,
            "max_height": null,
            "align_content": null,
            "visibility": null,
            "align_self": null,
            "height": null,
            "min_height": null,
            "padding": null,
            "grid_auto_rows": null,
            "grid_gap": null,
            "max_width": null,
            "order": null,
            "_view_module_version": "1.2.0",
            "grid_template_areas": null,
            "object_position": null,
            "object_fit": null,
            "grid_auto_columns": null,
            "margin": null,
            "display": null,
            "left": null
          }
        },
        "adf9eabac2654baabb6ed96de3f17b16": {
          "model_module": "@jupyter-widgets/controls",
          "model_name": "DescriptionStyleModel",
          "state": {
            "_view_name": "StyleView",
            "_model_name": "DescriptionStyleModel",
            "description_width": "",
            "_view_module": "@jupyter-widgets/base",
            "_model_module_version": "1.5.0",
            "_view_count": null,
            "_view_module_version": "1.2.0",
            "_model_module": "@jupyter-widgets/controls"
          }
        },
        "bc38e5f3a49e4400927953ce778b1287": {
          "model_module": "@jupyter-widgets/base",
          "model_name": "LayoutModel",
          "state": {
            "_view_name": "LayoutView",
            "grid_template_rows": null,
            "right": null,
            "justify_content": null,
            "_view_module": "@jupyter-widgets/base",
            "overflow": null,
            "_model_module_version": "1.2.0",
            "_view_count": null,
            "flex_flow": null,
            "width": null,
            "min_width": null,
            "border": null,
            "align_items": null,
            "bottom": null,
            "_model_module": "@jupyter-widgets/base",
            "top": null,
            "grid_column": null,
            "overflow_y": null,
            "overflow_x": null,
            "grid_auto_flow": null,
            "grid_area": null,
            "grid_template_columns": null,
            "flex": null,
            "_model_name": "LayoutModel",
            "justify_items": null,
            "grid_row": null,
            "max_height": null,
            "align_content": null,
            "visibility": null,
            "align_self": null,
            "height": null,
            "min_height": null,
            "padding": null,
            "grid_auto_rows": null,
            "grid_gap": null,
            "max_width": null,
            "order": null,
            "_view_module_version": "1.2.0",
            "grid_template_areas": null,
            "object_position": null,
            "object_fit": null,
            "grid_auto_columns": null,
            "margin": null,
            "display": null,
            "left": null
          }
        },
        "570cfe6043f84f2384f81534bb97f7c0": {
          "model_module": "@jupyter-widgets/controls",
          "model_name": "HBoxModel",
          "state": {
            "_view_name": "HBoxView",
            "_dom_classes": [],
            "_model_name": "HBoxModel",
            "_view_module": "@jupyter-widgets/controls",
            "_model_module_version": "1.5.0",
            "_view_count": null,
            "_view_module_version": "1.5.0",
            "box_style": "",
            "layout": "IPY_MODEL_21065ecc9c294e16b9cf4687761d65f0",
            "_model_module": "@jupyter-widgets/controls",
            "children": [
              "IPY_MODEL_d876419b292742c384483f53b629c48f",
              "IPY_MODEL_0c4f3c1bc101407b88ef151d59005a16"
            ]
          }
        },
        "21065ecc9c294e16b9cf4687761d65f0": {
          "model_module": "@jupyter-widgets/base",
          "model_name": "LayoutModel",
          "state": {
            "_view_name": "LayoutView",
            "grid_template_rows": null,
            "right": null,
            "justify_content": null,
            "_view_module": "@jupyter-widgets/base",
            "overflow": null,
            "_model_module_version": "1.2.0",
            "_view_count": null,
            "flex_flow": null,
            "width": null,
            "min_width": null,
            "border": null,
            "align_items": null,
            "bottom": null,
            "_model_module": "@jupyter-widgets/base",
            "top": null,
            "grid_column": null,
            "overflow_y": null,
            "overflow_x": null,
            "grid_auto_flow": null,
            "grid_area": null,
            "grid_template_columns": null,
            "flex": null,
            "_model_name": "LayoutModel",
            "justify_items": null,
            "grid_row": null,
            "max_height": null,
            "align_content": null,
            "visibility": null,
            "align_self": null,
            "height": null,
            "min_height": null,
            "padding": null,
            "grid_auto_rows": null,
            "grid_gap": null,
            "max_width": null,
            "order": null,
            "_view_module_version": "1.2.0",
            "grid_template_areas": null,
            "object_position": null,
            "object_fit": null,
            "grid_auto_columns": null,
            "margin": null,
            "display": null,
            "left": null
          }
        },
        "d876419b292742c384483f53b629c48f": {
          "model_module": "@jupyter-widgets/controls",
          "model_name": "FloatProgressModel",
          "state": {
            "_view_name": "ProgressView",
            "style": "IPY_MODEL_361bd75ba1164e1d8752410de60bb17b",
            "_dom_classes": [],
            "description": "Dl Size...: 100%",
            "_model_name": "FloatProgressModel",
            "bar_style": "success",
            "max": 1,
            "_view_module": "@jupyter-widgets/controls",
            "_model_module_version": "1.5.0",
            "value": 1,
            "_view_count": null,
            "_view_module_version": "1.5.0",
            "orientation": "horizontal",
            "min": 0,
            "description_tooltip": null,
            "_model_module": "@jupyter-widgets/controls",
            "layout": "IPY_MODEL_37e111c8d7ba4e2f9f61505732373abb"
          }
        },
        "0c4f3c1bc101407b88ef151d59005a16": {
          "model_module": "@jupyter-widgets/controls",
          "model_name": "HTMLModel",
          "state": {
            "_view_name": "HTMLView",
            "style": "IPY_MODEL_eb6ab212df8e4ee386355c0feb894a26",
            "_dom_classes": [],
            "description": "",
            "_model_name": "HTMLModel",
            "placeholder": "​",
            "_view_module": "@jupyter-widgets/controls",
            "_model_module_version": "1.5.0",
            "value": " 63/63 [00:04&lt;00:00, 12.87 MiB/s]",
            "_view_count": null,
            "_view_module_version": "1.5.0",
            "description_tooltip": null,
            "_model_module": "@jupyter-widgets/controls",
            "layout": "IPY_MODEL_813725e98f7d4d578710cba032555cc0"
          }
        },
        "361bd75ba1164e1d8752410de60bb17b": {
          "model_module": "@jupyter-widgets/controls",
          "model_name": "ProgressStyleModel",
          "state": {
            "_view_name": "StyleView",
            "_model_name": "ProgressStyleModel",
            "description_width": "initial",
            "_view_module": "@jupyter-widgets/base",
            "_model_module_version": "1.5.0",
            "_view_count": null,
            "_view_module_version": "1.2.0",
            "bar_color": null,
            "_model_module": "@jupyter-widgets/controls"
          }
        },
        "37e111c8d7ba4e2f9f61505732373abb": {
          "model_module": "@jupyter-widgets/base",
          "model_name": "LayoutModel",
          "state": {
            "_view_name": "LayoutView",
            "grid_template_rows": null,
            "right": null,
            "justify_content": null,
            "_view_module": "@jupyter-widgets/base",
            "overflow": null,
            "_model_module_version": "1.2.0",
            "_view_count": null,
            "flex_flow": null,
            "width": null,
            "min_width": null,
            "border": null,
            "align_items": null,
            "bottom": null,
            "_model_module": "@jupyter-widgets/base",
            "top": null,
            "grid_column": null,
            "overflow_y": null,
            "overflow_x": null,
            "grid_auto_flow": null,
            "grid_area": null,
            "grid_template_columns": null,
            "flex": null,
            "_model_name": "LayoutModel",
            "justify_items": null,
            "grid_row": null,
            "max_height": null,
            "align_content": null,
            "visibility": null,
            "align_self": null,
            "height": null,
            "min_height": null,
            "padding": null,
            "grid_auto_rows": null,
            "grid_gap": null,
            "max_width": null,
            "order": null,
            "_view_module_version": "1.2.0",
            "grid_template_areas": null,
            "object_position": null,
            "object_fit": null,
            "grid_auto_columns": null,
            "margin": null,
            "display": null,
            "left": null
          }
        },
        "eb6ab212df8e4ee386355c0feb894a26": {
          "model_module": "@jupyter-widgets/controls",
          "model_name": "DescriptionStyleModel",
          "state": {
            "_view_name": "StyleView",
            "_model_name": "DescriptionStyleModel",
            "description_width": "",
            "_view_module": "@jupyter-widgets/base",
            "_model_module_version": "1.5.0",
            "_view_count": null,
            "_view_module_version": "1.2.0",
            "_model_module": "@jupyter-widgets/controls"
          }
        },
        "813725e98f7d4d578710cba032555cc0": {
          "model_module": "@jupyter-widgets/base",
          "model_name": "LayoutModel",
          "state": {
            "_view_name": "LayoutView",
            "grid_template_rows": null,
            "right": null,
            "justify_content": null,
            "_view_module": "@jupyter-widgets/base",
            "overflow": null,
            "_model_module_version": "1.2.0",
            "_view_count": null,
            "flex_flow": null,
            "width": null,
            "min_width": null,
            "border": null,
            "align_items": null,
            "bottom": null,
            "_model_module": "@jupyter-widgets/base",
            "top": null,
            "grid_column": null,
            "overflow_y": null,
            "overflow_x": null,
            "grid_auto_flow": null,
            "grid_area": null,
            "grid_template_columns": null,
            "flex": null,
            "_model_name": "LayoutModel",
            "justify_items": null,
            "grid_row": null,
            "max_height": null,
            "align_content": null,
            "visibility": null,
            "align_self": null,
            "height": null,
            "min_height": null,
            "padding": null,
            "grid_auto_rows": null,
            "grid_gap": null,
            "max_width": null,
            "order": null,
            "_view_module_version": "1.2.0",
            "grid_template_areas": null,
            "object_position": null,
            "object_fit": null,
            "grid_auto_columns": null,
            "margin": null,
            "display": null,
            "left": null
          }
        },
        "1e0fb46a8850471d84488cd8a38d07c2": {
          "model_module": "@jupyter-widgets/controls",
          "model_name": "HBoxModel",
          "state": {
            "_view_name": "HBoxView",
            "_dom_classes": [],
            "_model_name": "HBoxModel",
            "_view_module": "@jupyter-widgets/controls",
            "_model_module_version": "1.5.0",
            "_view_count": null,
            "_view_module_version": "1.5.0",
            "box_style": "",
            "layout": "IPY_MODEL_1d1f75431abb47c0990301d13d7ee292",
            "_model_module": "@jupyter-widgets/controls",
            "children": [
              "IPY_MODEL_e3e9396508934cd68122829b9ca70fa1",
              "IPY_MODEL_106db501746349b797877691a838692d"
            ]
          }
        },
        "1d1f75431abb47c0990301d13d7ee292": {
          "model_module": "@jupyter-widgets/base",
          "model_name": "LayoutModel",
          "state": {
            "_view_name": "LayoutView",
            "grid_template_rows": null,
            "right": null,
            "justify_content": null,
            "_view_module": "@jupyter-widgets/base",
            "overflow": null,
            "_model_module_version": "1.2.0",
            "_view_count": null,
            "flex_flow": null,
            "width": null,
            "min_width": null,
            "border": null,
            "align_items": null,
            "bottom": null,
            "_model_module": "@jupyter-widgets/base",
            "top": null,
            "grid_column": null,
            "overflow_y": null,
            "overflow_x": null,
            "grid_auto_flow": null,
            "grid_area": null,
            "grid_template_columns": null,
            "flex": null,
            "_model_name": "LayoutModel",
            "justify_items": null,
            "grid_row": null,
            "max_height": null,
            "align_content": null,
            "visibility": null,
            "align_self": null,
            "height": null,
            "min_height": null,
            "padding": null,
            "grid_auto_rows": null,
            "grid_gap": null,
            "max_width": null,
            "order": null,
            "_view_module_version": "1.2.0",
            "grid_template_areas": null,
            "object_position": null,
            "object_fit": null,
            "grid_auto_columns": null,
            "margin": null,
            "display": null,
            "left": null
          }
        },
        "e3e9396508934cd68122829b9ca70fa1": {
          "model_module": "@jupyter-widgets/controls",
          "model_name": "FloatProgressModel",
          "state": {
            "_view_name": "ProgressView",
            "style": "IPY_MODEL_c73d828adef647caa68b34941e9e3a8d",
            "_dom_classes": [],
            "description": "Extraction completed...: 100%",
            "_model_name": "FloatProgressModel",
            "bar_style": "success",
            "max": 1,
            "_view_module": "@jupyter-widgets/controls",
            "_model_module_version": "1.5.0",
            "value": 1,
            "_view_count": null,
            "_view_module_version": "1.5.0",
            "orientation": "horizontal",
            "min": 0,
            "description_tooltip": null,
            "_model_module": "@jupyter-widgets/controls",
            "layout": "IPY_MODEL_ea4d7df6b9794e6f9e81bc5c36595bed"
          }
        },
        "106db501746349b797877691a838692d": {
          "model_module": "@jupyter-widgets/controls",
          "model_name": "HTMLModel",
          "state": {
            "_view_name": "HTMLView",
            "style": "IPY_MODEL_351129cb82f8479b8d21593c49bdc479",
            "_dom_classes": [],
            "description": "",
            "_model_name": "HTMLModel",
            "placeholder": "​",
            "_view_module": "@jupyter-widgets/controls",
            "_model_module_version": "1.5.0",
            "value": " 1/1 [00:04&lt;00:00,  4.83s/ file]",
            "_view_count": null,
            "_view_module_version": "1.5.0",
            "description_tooltip": null,
            "_model_module": "@jupyter-widgets/controls",
            "layout": "IPY_MODEL_7bf7c3a1a7bf4c11af5a0f30cc926a33"
          }
        },
        "c73d828adef647caa68b34941e9e3a8d": {
          "model_module": "@jupyter-widgets/controls",
          "model_name": "ProgressStyleModel",
          "state": {
            "_view_name": "StyleView",
            "_model_name": "ProgressStyleModel",
            "description_width": "initial",
            "_view_module": "@jupyter-widgets/base",
            "_model_module_version": "1.5.0",
            "_view_count": null,
            "_view_module_version": "1.2.0",
            "bar_color": null,
            "_model_module": "@jupyter-widgets/controls"
          }
        },
        "ea4d7df6b9794e6f9e81bc5c36595bed": {
          "model_module": "@jupyter-widgets/base",
          "model_name": "LayoutModel",
          "state": {
            "_view_name": "LayoutView",
            "grid_template_rows": null,
            "right": null,
            "justify_content": null,
            "_view_module": "@jupyter-widgets/base",
            "overflow": null,
            "_model_module_version": "1.2.0",
            "_view_count": null,
            "flex_flow": null,
            "width": null,
            "min_width": null,
            "border": null,
            "align_items": null,
            "bottom": null,
            "_model_module": "@jupyter-widgets/base",
            "top": null,
            "grid_column": null,
            "overflow_y": null,
            "overflow_x": null,
            "grid_auto_flow": null,
            "grid_area": null,
            "grid_template_columns": null,
            "flex": null,
            "_model_name": "LayoutModel",
            "justify_items": null,
            "grid_row": null,
            "max_height": null,
            "align_content": null,
            "visibility": null,
            "align_self": null,
            "height": null,
            "min_height": null,
            "padding": null,
            "grid_auto_rows": null,
            "grid_gap": null,
            "max_width": null,
            "order": null,
            "_view_module_version": "1.2.0",
            "grid_template_areas": null,
            "object_position": null,
            "object_fit": null,
            "grid_auto_columns": null,
            "margin": null,
            "display": null,
            "left": null
          }
        },
        "351129cb82f8479b8d21593c49bdc479": {
          "model_module": "@jupyter-widgets/controls",
          "model_name": "DescriptionStyleModel",
          "state": {
            "_view_name": "StyleView",
            "_model_name": "DescriptionStyleModel",
            "description_width": "",
            "_view_module": "@jupyter-widgets/base",
            "_model_module_version": "1.5.0",
            "_view_count": null,
            "_view_module_version": "1.2.0",
            "_model_module": "@jupyter-widgets/controls"
          }
        },
        "7bf7c3a1a7bf4c11af5a0f30cc926a33": {
          "model_module": "@jupyter-widgets/base",
          "model_name": "LayoutModel",
          "state": {
            "_view_name": "LayoutView",
            "grid_template_rows": null,
            "right": null,
            "justify_content": null,
            "_view_module": "@jupyter-widgets/base",
            "overflow": null,
            "_model_module_version": "1.2.0",
            "_view_count": null,
            "flex_flow": null,
            "width": null,
            "min_width": null,
            "border": null,
            "align_items": null,
            "bottom": null,
            "_model_module": "@jupyter-widgets/base",
            "top": null,
            "grid_column": null,
            "overflow_y": null,
            "overflow_x": null,
            "grid_auto_flow": null,
            "grid_area": null,
            "grid_template_columns": null,
            "flex": null,
            "_model_name": "LayoutModel",
            "justify_items": null,
            "grid_row": null,
            "max_height": null,
            "align_content": null,
            "visibility": null,
            "align_self": null,
            "height": null,
            "min_height": null,
            "padding": null,
            "grid_auto_rows": null,
            "grid_gap": null,
            "max_width": null,
            "order": null,
            "_view_module_version": "1.2.0",
            "grid_template_areas": null,
            "object_position": null,
            "object_fit": null,
            "grid_auto_columns": null,
            "margin": null,
            "display": null,
            "left": null
          }
        },
        "3a4d82e6dc3041e6936a6992de53a25d": {
          "model_module": "@jupyter-widgets/controls",
          "model_name": "HBoxModel",
          "state": {
            "_view_name": "HBoxView",
            "_dom_classes": [],
            "_model_name": "HBoxModel",
            "_view_module": "@jupyter-widgets/controls",
            "_model_module_version": "1.5.0",
            "_view_count": null,
            "_view_module_version": "1.5.0",
            "box_style": "",
            "layout": "IPY_MODEL_03087f7ca91147eda390f67e7fb35ae4",
            "_model_module": "@jupyter-widgets/controls",
            "children": [
              "IPY_MODEL_5bc21c62c4064bb7b91f91d4fbb1f353",
              "IPY_MODEL_b207752a5b234191a1d19e85168fefb4"
            ]
          }
        },
        "03087f7ca91147eda390f67e7fb35ae4": {
          "model_module": "@jupyter-widgets/base",
          "model_name": "LayoutModel",
          "state": {
            "_view_name": "LayoutView",
            "grid_template_rows": null,
            "right": null,
            "justify_content": null,
            "_view_module": "@jupyter-widgets/base",
            "overflow": null,
            "_model_module_version": "1.2.0",
            "_view_count": null,
            "flex_flow": null,
            "width": null,
            "min_width": null,
            "border": null,
            "align_items": null,
            "bottom": null,
            "_model_module": "@jupyter-widgets/base",
            "top": null,
            "grid_column": null,
            "overflow_y": null,
            "overflow_x": null,
            "grid_auto_flow": null,
            "grid_area": null,
            "grid_template_columns": null,
            "flex": null,
            "_model_name": "LayoutModel",
            "justify_items": null,
            "grid_row": null,
            "max_height": null,
            "align_content": null,
            "visibility": null,
            "align_self": null,
            "height": null,
            "min_height": null,
            "padding": null,
            "grid_auto_rows": null,
            "grid_gap": null,
            "max_width": null,
            "order": null,
            "_view_module_version": "1.2.0",
            "grid_template_areas": null,
            "object_position": null,
            "object_fit": null,
            "grid_auto_columns": null,
            "margin": null,
            "display": null,
            "left": null
          }
        },
        "5bc21c62c4064bb7b91f91d4fbb1f353": {
          "model_module": "@jupyter-widgets/controls",
          "model_name": "FloatProgressModel",
          "state": {
            "_view_name": "ProgressView",
            "style": "IPY_MODEL_6df76ea9c1c94e8394e662f05ab5f59e",
            "_dom_classes": [],
            "description": "Generating splits...: 100%",
            "_model_name": "FloatProgressModel",
            "bar_style": "",
            "max": 1,
            "_view_module": "@jupyter-widgets/controls",
            "_model_module_version": "1.5.0",
            "value": 1,
            "_view_count": null,
            "_view_module_version": "1.5.0",
            "orientation": "horizontal",
            "min": 0,
            "description_tooltip": null,
            "_model_module": "@jupyter-widgets/controls",
            "layout": "IPY_MODEL_8e24d4a3b6704cb1a2ee3d430cd0585a"
          }
        },
        "b207752a5b234191a1d19e85168fefb4": {
          "model_module": "@jupyter-widgets/controls",
          "model_name": "HTMLModel",
          "state": {
            "_view_name": "HTMLView",
            "style": "IPY_MODEL_6fdf6f277acb44058cf628be6829e010",
            "_dom_classes": [],
            "description": "",
            "_model_name": "HTMLModel",
            "placeholder": "​",
            "_view_module": "@jupyter-widgets/controls",
            "_model_module_version": "1.5.0",
            "value": " 1/1 [00:00&lt;00:00,  1.36 splits/s]",
            "_view_count": null,
            "_view_module_version": "1.5.0",
            "description_tooltip": null,
            "_model_module": "@jupyter-widgets/controls",
            "layout": "IPY_MODEL_b7b8784dfacd4bd396cfa9c3fd7dae08"
          }
        },
        "6df76ea9c1c94e8394e662f05ab5f59e": {
          "model_module": "@jupyter-widgets/controls",
          "model_name": "ProgressStyleModel",
          "state": {
            "_view_name": "StyleView",
            "_model_name": "ProgressStyleModel",
            "description_width": "initial",
            "_view_module": "@jupyter-widgets/base",
            "_model_module_version": "1.5.0",
            "_view_count": null,
            "_view_module_version": "1.2.0",
            "bar_color": null,
            "_model_module": "@jupyter-widgets/controls"
          }
        },
        "8e24d4a3b6704cb1a2ee3d430cd0585a": {
          "model_module": "@jupyter-widgets/base",
          "model_name": "LayoutModel",
          "state": {
            "_view_name": "LayoutView",
            "grid_template_rows": null,
            "right": null,
            "justify_content": null,
            "_view_module": "@jupyter-widgets/base",
            "overflow": null,
            "_model_module_version": "1.2.0",
            "_view_count": null,
            "flex_flow": null,
            "width": null,
            "min_width": null,
            "border": null,
            "align_items": null,
            "bottom": null,
            "_model_module": "@jupyter-widgets/base",
            "top": null,
            "grid_column": null,
            "overflow_y": null,
            "overflow_x": null,
            "grid_auto_flow": null,
            "grid_area": null,
            "grid_template_columns": null,
            "flex": null,
            "_model_name": "LayoutModel",
            "justify_items": null,
            "grid_row": null,
            "max_height": null,
            "align_content": null,
            "visibility": null,
            "align_self": null,
            "height": null,
            "min_height": null,
            "padding": null,
            "grid_auto_rows": null,
            "grid_gap": null,
            "max_width": null,
            "order": null,
            "_view_module_version": "1.2.0",
            "grid_template_areas": null,
            "object_position": null,
            "object_fit": null,
            "grid_auto_columns": null,
            "margin": null,
            "display": null,
            "left": null
          }
        },
        "6fdf6f277acb44058cf628be6829e010": {
          "model_module": "@jupyter-widgets/controls",
          "model_name": "DescriptionStyleModel",
          "state": {
            "_view_name": "StyleView",
            "_model_name": "DescriptionStyleModel",
            "description_width": "",
            "_view_module": "@jupyter-widgets/base",
            "_model_module_version": "1.5.0",
            "_view_count": null,
            "_view_module_version": "1.2.0",
            "_model_module": "@jupyter-widgets/controls"
          }
        },
        "b7b8784dfacd4bd396cfa9c3fd7dae08": {
          "model_module": "@jupyter-widgets/base",
          "model_name": "LayoutModel",
          "state": {
            "_view_name": "LayoutView",
            "grid_template_rows": null,
            "right": null,
            "justify_content": null,
            "_view_module": "@jupyter-widgets/base",
            "overflow": null,
            "_model_module_version": "1.2.0",
            "_view_count": null,
            "flex_flow": null,
            "width": null,
            "min_width": null,
            "border": null,
            "align_items": null,
            "bottom": null,
            "_model_module": "@jupyter-widgets/base",
            "top": null,
            "grid_column": null,
            "overflow_y": null,
            "overflow_x": null,
            "grid_auto_flow": null,
            "grid_area": null,
            "grid_template_columns": null,
            "flex": null,
            "_model_name": "LayoutModel",
            "justify_items": null,
            "grid_row": null,
            "max_height": null,
            "align_content": null,
            "visibility": null,
            "align_self": null,
            "height": null,
            "min_height": null,
            "padding": null,
            "grid_auto_rows": null,
            "grid_gap": null,
            "max_width": null,
            "order": null,
            "_view_module_version": "1.2.0",
            "grid_template_areas": null,
            "object_position": null,
            "object_fit": null,
            "grid_auto_columns": null,
            "margin": null,
            "display": null,
            "left": null
          }
        },
        "106258d97da1430fa9e5558e6b585b33": {
          "model_module": "@jupyter-widgets/controls",
          "model_name": "HBoxModel",
          "state": {
            "_view_name": "HBoxView",
            "_dom_classes": [],
            "_model_name": "HBoxModel",
            "_view_module": "@jupyter-widgets/controls",
            "_model_module_version": "1.5.0",
            "_view_count": null,
            "_view_module_version": "1.5.0",
            "box_style": "",
            "layout": "IPY_MODEL_90bdb222ba1f40408a2901d8864dca41",
            "_model_module": "@jupyter-widgets/controls",
            "children": [
              "IPY_MODEL_392247363c5c4428b1b0b2a01bcf0cbe",
              "IPY_MODEL_fe19b9667e9643f784f121946143ebf3"
            ]
          }
        },
        "90bdb222ba1f40408a2901d8864dca41": {
          "model_module": "@jupyter-widgets/base",
          "model_name": "LayoutModel",
          "state": {
            "_view_name": "LayoutView",
            "grid_template_rows": null,
            "right": null,
            "justify_content": null,
            "_view_module": "@jupyter-widgets/base",
            "overflow": null,
            "_model_module_version": "1.2.0",
            "_view_count": null,
            "flex_flow": null,
            "width": null,
            "min_width": null,
            "border": null,
            "align_items": null,
            "bottom": null,
            "_model_module": "@jupyter-widgets/base",
            "top": null,
            "grid_column": null,
            "overflow_y": null,
            "overflow_x": null,
            "grid_auto_flow": null,
            "grid_area": null,
            "grid_template_columns": null,
            "flex": null,
            "_model_name": "LayoutModel",
            "justify_items": null,
            "grid_row": null,
            "max_height": null,
            "align_content": null,
            "visibility": null,
            "align_self": null,
            "height": null,
            "min_height": null,
            "padding": null,
            "grid_auto_rows": null,
            "grid_gap": null,
            "max_width": null,
            "order": null,
            "_view_module_version": "1.2.0",
            "grid_template_areas": null,
            "object_position": null,
            "object_fit": null,
            "grid_auto_columns": null,
            "margin": null,
            "display": null,
            "left": null
          }
        },
        "392247363c5c4428b1b0b2a01bcf0cbe": {
          "model_module": "@jupyter-widgets/controls",
          "model_name": "FloatProgressModel",
          "state": {
            "_view_name": "ProgressView",
            "style": "IPY_MODEL_65c83828211745ee9b822abed5fd0f59",
            "_dom_classes": [],
            "description": "Generating train examples...: 100%",
            "_model_name": "FloatProgressModel",
            "bar_style": "",
            "max": 594,
            "_view_module": "@jupyter-widgets/controls",
            "_model_module_version": "1.5.0",
            "value": 594,
            "_view_count": null,
            "_view_module_version": "1.5.0",
            "orientation": "horizontal",
            "min": 0,
            "description_tooltip": null,
            "_model_module": "@jupyter-widgets/controls",
            "layout": "IPY_MODEL_4ec1267967d74f81b023abbcafb0da85"
          }
        },
        "fe19b9667e9643f784f121946143ebf3": {
          "model_module": "@jupyter-widgets/controls",
          "model_name": "HTMLModel",
          "state": {
            "_view_name": "HTMLView",
            "style": "IPY_MODEL_a5cc7df1285446808679474a31df356d",
            "_dom_classes": [],
            "description": "",
            "_model_name": "HTMLModel",
            "placeholder": "​",
            "_view_module": "@jupyter-widgets/controls",
            "_model_module_version": "1.5.0",
            "value": " 594/594 [00:00&lt;00:00, 720.41 examples/s]",
            "_view_count": null,
            "_view_module_version": "1.5.0",
            "description_tooltip": null,
            "_model_module": "@jupyter-widgets/controls",
            "layout": "IPY_MODEL_12abdcc321694c01b11b3a09fce60129"
          }
        },
        "65c83828211745ee9b822abed5fd0f59": {
          "model_module": "@jupyter-widgets/controls",
          "model_name": "ProgressStyleModel",
          "state": {
            "_view_name": "StyleView",
            "_model_name": "ProgressStyleModel",
            "description_width": "initial",
            "_view_module": "@jupyter-widgets/base",
            "_model_module_version": "1.5.0",
            "_view_count": null,
            "_view_module_version": "1.2.0",
            "bar_color": null,
            "_model_module": "@jupyter-widgets/controls"
          }
        },
        "4ec1267967d74f81b023abbcafb0da85": {
          "model_module": "@jupyter-widgets/base",
          "model_name": "LayoutModel",
          "state": {
            "_view_name": "LayoutView",
            "grid_template_rows": null,
            "right": null,
            "justify_content": null,
            "_view_module": "@jupyter-widgets/base",
            "overflow": null,
            "_model_module_version": "1.2.0",
            "_view_count": null,
            "flex_flow": null,
            "width": null,
            "min_width": null,
            "border": null,
            "align_items": null,
            "bottom": null,
            "_model_module": "@jupyter-widgets/base",
            "top": null,
            "grid_column": null,
            "overflow_y": null,
            "overflow_x": null,
            "grid_auto_flow": null,
            "grid_area": null,
            "grid_template_columns": null,
            "flex": null,
            "_model_name": "LayoutModel",
            "justify_items": null,
            "grid_row": null,
            "max_height": null,
            "align_content": null,
            "visibility": null,
            "align_self": null,
            "height": null,
            "min_height": null,
            "padding": null,
            "grid_auto_rows": null,
            "grid_gap": null,
            "max_width": null,
            "order": null,
            "_view_module_version": "1.2.0",
            "grid_template_areas": null,
            "object_position": null,
            "object_fit": null,
            "grid_auto_columns": null,
            "margin": null,
            "display": null,
            "left": null
          }
        },
        "a5cc7df1285446808679474a31df356d": {
          "model_module": "@jupyter-widgets/controls",
          "model_name": "DescriptionStyleModel",
          "state": {
            "_view_name": "StyleView",
            "_model_name": "DescriptionStyleModel",
            "description_width": "",
            "_view_module": "@jupyter-widgets/base",
            "_model_module_version": "1.5.0",
            "_view_count": null,
            "_view_module_version": "1.2.0",
            "_model_module": "@jupyter-widgets/controls"
          }
        },
        "12abdcc321694c01b11b3a09fce60129": {
          "model_module": "@jupyter-widgets/base",
          "model_name": "LayoutModel",
          "state": {
            "_view_name": "LayoutView",
            "grid_template_rows": null,
            "right": null,
            "justify_content": null,
            "_view_module": "@jupyter-widgets/base",
            "overflow": null,
            "_model_module_version": "1.2.0",
            "_view_count": null,
            "flex_flow": null,
            "width": null,
            "min_width": null,
            "border": null,
            "align_items": null,
            "bottom": null,
            "_model_module": "@jupyter-widgets/base",
            "top": null,
            "grid_column": null,
            "overflow_y": null,
            "overflow_x": null,
            "grid_auto_flow": null,
            "grid_area": null,
            "grid_template_columns": null,
            "flex": null,
            "_model_name": "LayoutModel",
            "justify_items": null,
            "grid_row": null,
            "max_height": null,
            "align_content": null,
            "visibility": null,
            "align_self": null,
            "height": null,
            "min_height": null,
            "padding": null,
            "grid_auto_rows": null,
            "grid_gap": null,
            "max_width": null,
            "order": null,
            "_view_module_version": "1.2.0",
            "grid_template_areas": null,
            "object_position": null,
            "object_fit": null,
            "grid_auto_columns": null,
            "margin": null,
            "display": null,
            "left": null
          }
        },
        "933a916cefb446589828e319e2119846": {
          "model_module": "@jupyter-widgets/controls",
          "model_name": "HBoxModel",
          "state": {
            "_view_name": "HBoxView",
            "_dom_classes": [],
            "_model_name": "HBoxModel",
            "_view_module": "@jupyter-widgets/controls",
            "_model_module_version": "1.5.0",
            "_view_count": null,
            "_view_module_version": "1.5.0",
            "box_style": "",
            "layout": "IPY_MODEL_9e8fe37811014a43bfccb132930bd119",
            "_model_module": "@jupyter-widgets/controls",
            "children": [
              "IPY_MODEL_7ef65af2d8644145a949e3e19a1b03ce",
              "IPY_MODEL_7f29212fca2040b5bfaebe63bd3ff4b0"
            ]
          }
        },
        "9e8fe37811014a43bfccb132930bd119": {
          "model_module": "@jupyter-widgets/base",
          "model_name": "LayoutModel",
          "state": {
            "_view_name": "LayoutView",
            "grid_template_rows": null,
            "right": null,
            "justify_content": null,
            "_view_module": "@jupyter-widgets/base",
            "overflow": null,
            "_model_module_version": "1.2.0",
            "_view_count": null,
            "flex_flow": null,
            "width": null,
            "min_width": null,
            "border": null,
            "align_items": null,
            "bottom": null,
            "_model_module": "@jupyter-widgets/base",
            "top": null,
            "grid_column": null,
            "overflow_y": null,
            "overflow_x": null,
            "grid_auto_flow": null,
            "grid_area": null,
            "grid_template_columns": null,
            "flex": null,
            "_model_name": "LayoutModel",
            "justify_items": null,
            "grid_row": null,
            "max_height": null,
            "align_content": null,
            "visibility": null,
            "align_self": null,
            "height": null,
            "min_height": null,
            "padding": null,
            "grid_auto_rows": null,
            "grid_gap": null,
            "max_width": null,
            "order": null,
            "_view_module_version": "1.2.0",
            "grid_template_areas": null,
            "object_position": null,
            "object_fit": null,
            "grid_auto_columns": null,
            "margin": null,
            "display": null,
            "left": null
          }
        },
        "7ef65af2d8644145a949e3e19a1b03ce": {
          "model_module": "@jupyter-widgets/controls",
          "model_name": "FloatProgressModel",
          "state": {
            "_view_name": "ProgressView",
            "style": "IPY_MODEL_d970a3c93b0944a7b3dd59c32b2aafa1",
            "_dom_classes": [],
            "description": "Shuffling citrus_leaves-train.tfrecord...: 100%",
            "_model_name": "FloatProgressModel",
            "bar_style": "",
            "max": 594,
            "_view_module": "@jupyter-widgets/controls",
            "_model_module_version": "1.5.0",
            "value": 594,
            "_view_count": null,
            "_view_module_version": "1.5.0",
            "orientation": "horizontal",
            "min": 0,
            "description_tooltip": null,
            "_model_module": "@jupyter-widgets/controls",
            "layout": "IPY_MODEL_27db31288ba449b69933f0fed7c9c195"
          }
        },
        "7f29212fca2040b5bfaebe63bd3ff4b0": {
          "model_module": "@jupyter-widgets/controls",
          "model_name": "HTMLModel",
          "state": {
            "_view_name": "HTMLView",
            "style": "IPY_MODEL_0d9e5297cdc04eb8ab1d89178df730eb",
            "_dom_classes": [],
            "description": "",
            "_model_name": "HTMLModel",
            "placeholder": "​",
            "_view_module": "@jupyter-widgets/controls",
            "_model_module_version": "1.5.0",
            "value": " 594/594 [00:00&lt;00:00, 4156.11 examples/s]",
            "_view_count": null,
            "_view_module_version": "1.5.0",
            "description_tooltip": null,
            "_model_module": "@jupyter-widgets/controls",
            "layout": "IPY_MODEL_56608a8a98e144e594339ebd7d78aff0"
          }
        },
        "d970a3c93b0944a7b3dd59c32b2aafa1": {
          "model_module": "@jupyter-widgets/controls",
          "model_name": "ProgressStyleModel",
          "state": {
            "_view_name": "StyleView",
            "_model_name": "ProgressStyleModel",
            "description_width": "initial",
            "_view_module": "@jupyter-widgets/base",
            "_model_module_version": "1.5.0",
            "_view_count": null,
            "_view_module_version": "1.2.0",
            "bar_color": null,
            "_model_module": "@jupyter-widgets/controls"
          }
        },
        "27db31288ba449b69933f0fed7c9c195": {
          "model_module": "@jupyter-widgets/base",
          "model_name": "LayoutModel",
          "state": {
            "_view_name": "LayoutView",
            "grid_template_rows": null,
            "right": null,
            "justify_content": null,
            "_view_module": "@jupyter-widgets/base",
            "overflow": null,
            "_model_module_version": "1.2.0",
            "_view_count": null,
            "flex_flow": null,
            "width": null,
            "min_width": null,
            "border": null,
            "align_items": null,
            "bottom": null,
            "_model_module": "@jupyter-widgets/base",
            "top": null,
            "grid_column": null,
            "overflow_y": null,
            "overflow_x": null,
            "grid_auto_flow": null,
            "grid_area": null,
            "grid_template_columns": null,
            "flex": null,
            "_model_name": "LayoutModel",
            "justify_items": null,
            "grid_row": null,
            "max_height": null,
            "align_content": null,
            "visibility": null,
            "align_self": null,
            "height": null,
            "min_height": null,
            "padding": null,
            "grid_auto_rows": null,
            "grid_gap": null,
            "max_width": null,
            "order": null,
            "_view_module_version": "1.2.0",
            "grid_template_areas": null,
            "object_position": null,
            "object_fit": null,
            "grid_auto_columns": null,
            "margin": null,
            "display": null,
            "left": null
          }
        },
        "0d9e5297cdc04eb8ab1d89178df730eb": {
          "model_module": "@jupyter-widgets/controls",
          "model_name": "DescriptionStyleModel",
          "state": {
            "_view_name": "StyleView",
            "_model_name": "DescriptionStyleModel",
            "description_width": "",
            "_view_module": "@jupyter-widgets/base",
            "_model_module_version": "1.5.0",
            "_view_count": null,
            "_view_module_version": "1.2.0",
            "_model_module": "@jupyter-widgets/controls"
          }
        },
        "56608a8a98e144e594339ebd7d78aff0": {
          "model_module": "@jupyter-widgets/base",
          "model_name": "LayoutModel",
          "state": {
            "_view_name": "LayoutView",
            "grid_template_rows": null,
            "right": null,
            "justify_content": null,
            "_view_module": "@jupyter-widgets/base",
            "overflow": null,
            "_model_module_version": "1.2.0",
            "_view_count": null,
            "flex_flow": null,
            "width": null,
            "min_width": null,
            "border": null,
            "align_items": null,
            "bottom": null,
            "_model_module": "@jupyter-widgets/base",
            "top": null,
            "grid_column": null,
            "overflow_y": null,
            "overflow_x": null,
            "grid_auto_flow": null,
            "grid_area": null,
            "grid_template_columns": null,
            "flex": null,
            "_model_name": "LayoutModel",
            "justify_items": null,
            "grid_row": null,
            "max_height": null,
            "align_content": null,
            "visibility": null,
            "align_self": null,
            "height": null,
            "min_height": null,
            "padding": null,
            "grid_auto_rows": null,
            "grid_gap": null,
            "max_width": null,
            "order": null,
            "_view_module_version": "1.2.0",
            "grid_template_areas": null,
            "object_position": null,
            "object_fit": null,
            "grid_auto_columns": null,
            "margin": null,
            "display": null,
            "left": null
          }
        }
      }
    }
  },
  "cells": [
    {
      "cell_type": "markdown",
      "metadata": {
        "id": "i85WInCvbYFc"
      },
      "source": [
        "### Part 1: CNN"
      ]
    },
    {
      "cell_type": "markdown",
      "metadata": {
        "id": "NxnalNDQbYFm"
      },
      "source": [
        "Use the dataset: https://www.tensorflow.org/datasets/catalog/citrus_leaves "
      ]
    },
    {
      "cell_type": "code",
      "metadata": {
        "id": "PgbjaRfcbYFn"
      },
      "source": [
        "import tensorflow as tf\n",
        "import tensorflow_datasets as tfds\n",
        "import pandas as pd\n",
        "import numpy as np\n",
        "from keras.utils import to_categorical\n",
        "import matplotlib.pyplot as plt\n",
        "from sklearn.model_selection import train_test_split"
      ],
      "execution_count": null,
      "outputs": []
    },
    {
      "cell_type": "code",
      "metadata": {
        "id": "YSyDao6icsBW"
      },
      "source": [
        "import keras\n",
        "from keras.models import Sequential,Input,Model\n",
        "from keras.layers import Dense, Dropout, Flatten\n",
        "from keras.layers import Conv2D, MaxPooling2D\n",
        "from keras.layers.normalization import BatchNormalization\n",
        "from keras.layers.advanced_activations import LeakyReLU"
      ],
      "execution_count": null,
      "outputs": []
    },
    {
      "cell_type": "code",
      "metadata": {
        "colab": {
          "base_uri": "https://localhost:8080/",
          "height": 581
        },
        "id": "5JYmNYmagkCX",
        "outputId": "928b8fd9-c06e-43d2-e8be-35db96483787"
      },
      "source": [
        "!pip install tfds-nightly"
      ],
      "execution_count": null,
      "outputs": [
        {
          "output_type": "stream",
          "text": [
            "Collecting tfds-nightly\n",
            "\u001b[?25l  Downloading https://files.pythonhosted.org/packages/e1/ea/c4e403053fea2bce8c24f30deba6d70db5a929aca400f3b8e04f4f40239e/tfds_nightly-4.2.0.dev202104140107-py3-none-any.whl (3.8MB)\n",
            "\u001b[K     |████████████████████████████████| 3.9MB 15.8MB/s \n",
            "\u001b[?25hRequirement already satisfied: tqdm in /usr/local/lib/python3.7/dist-packages (from tfds-nightly) (4.41.1)\n",
            "Requirement already satisfied: attrs>=18.1.0 in /usr/local/lib/python3.7/dist-packages (from tfds-nightly) (20.3.0)\n",
            "Requirement already satisfied: typing-extensions; python_version < \"3.8\" in /usr/local/lib/python3.7/dist-packages (from tfds-nightly) (3.7.4.3)\n",
            "Requirement already satisfied: tensorflow-metadata in /usr/local/lib/python3.7/dist-packages (from tfds-nightly) (0.29.0)\n",
            "Requirement already satisfied: future in /usr/local/lib/python3.7/dist-packages (from tfds-nightly) (0.16.0)\n",
            "Requirement already satisfied: numpy in /usr/local/lib/python3.7/dist-packages (from tfds-nightly) (1.19.5)\n",
            "Requirement already satisfied: protobuf>=3.12.2 in /usr/local/lib/python3.7/dist-packages (from tfds-nightly) (3.12.4)\n",
            "Requirement already satisfied: requests>=2.19.0 in /usr/local/lib/python3.7/dist-packages (from tfds-nightly) (2.23.0)\n",
            "Requirement already satisfied: importlib-resources; python_version < \"3.9\" in /usr/local/lib/python3.7/dist-packages (from tfds-nightly) (5.1.2)\n",
            "Requirement already satisfied: dill in /usr/local/lib/python3.7/dist-packages (from tfds-nightly) (0.3.3)\n",
            "Requirement already satisfied: absl-py in /usr/local/lib/python3.7/dist-packages (from tfds-nightly) (0.12.0)\n",
            "Requirement already satisfied: promise in /usr/local/lib/python3.7/dist-packages (from tfds-nightly) (2.3)\n",
            "Requirement already satisfied: termcolor in /usr/local/lib/python3.7/dist-packages (from tfds-nightly) (1.1.0)\n",
            "Requirement already satisfied: six in /usr/local/lib/python3.7/dist-packages (from tfds-nightly) (1.15.0)\n",
            "Requirement already satisfied: googleapis-common-protos<2,>=1.52.0 in /usr/local/lib/python3.7/dist-packages (from tensorflow-metadata->tfds-nightly) (1.53.0)\n",
            "Requirement already satisfied: setuptools in /usr/local/lib/python3.7/dist-packages (from protobuf>=3.12.2->tfds-nightly) (54.2.0)\n",
            "Requirement already satisfied: chardet<4,>=3.0.2 in /usr/local/lib/python3.7/dist-packages (from requests>=2.19.0->tfds-nightly) (3.0.4)\n",
            "Requirement already satisfied: urllib3!=1.25.0,!=1.25.1,<1.26,>=1.21.1 in /usr/local/lib/python3.7/dist-packages (from requests>=2.19.0->tfds-nightly) (1.24.3)\n",
            "Requirement already satisfied: idna<3,>=2.5 in /usr/local/lib/python3.7/dist-packages (from requests>=2.19.0->tfds-nightly) (2.10)\n",
            "Requirement already satisfied: certifi>=2017.4.17 in /usr/local/lib/python3.7/dist-packages (from requests>=2.19.0->tfds-nightly) (2020.12.5)\n",
            "Requirement already satisfied: zipp>=0.4; python_version < \"3.8\" in /usr/local/lib/python3.7/dist-packages (from importlib-resources; python_version < \"3.9\"->tfds-nightly) (3.4.1)\n",
            "Installing collected packages: tfds-nightly\n",
            "Successfully installed tfds-nightly-4.2.0.dev202104140107\n"
          ],
          "name": "stdout"
        },
        {
          "output_type": "display_data",
          "data": {
            "application/vnd.colab-display-data+json": {
              "pip_warning": {
                "packages": [
                  "tensorflow_datasets"
                ]
              }
            }
          },
          "metadata": {
            "tags": []
          }
        }
      ]
    },
    {
      "cell_type": "code",
      "metadata": {
        "id": "fNi7KeYsFaWj"
      },
      "source": [
        "# Loading data\n",
        "ds, info = tfds.load('citrus_leaves', split='train', with_info=True, as_supervised= True)\n",
        "\n"
      ],
      "execution_count": null,
      "outputs": []
    },
    {
      "cell_type": "code",
      "metadata": {
        "id": "wixCz_FEgOb9"
      },
      "source": [
        "data = tfds.as_dataframe(ds, info) # Converting data to dataframe"
      ],
      "execution_count": null,
      "outputs": []
    },
    {
      "cell_type": "code",
      "metadata": {
        "colab": {
          "base_uri": "https://localhost:8080/",
          "height": 204
        },
        "id": "_wkn3PV-gfiC",
        "outputId": "2148dcc5-ab5c-40a1-d86e-54ca392ece07"
      },
      "source": [
        "data.head()"
      ],
      "execution_count": null,
      "outputs": [
        {
          "output_type": "execute_result",
          "data": {
            "text/html": [
              "<div>\n",
              "<style scoped>\n",
              "    .dataframe tbody tr th:only-of-type {\n",
              "        vertical-align: middle;\n",
              "    }\n",
              "\n",
              "    .dataframe tbody tr th {\n",
              "        vertical-align: top;\n",
              "    }\n",
              "\n",
              "    .dataframe thead th {\n",
              "        text-align: right;\n",
              "    }\n",
              "</style>\n",
              "<table border=\"1\" class=\"dataframe\">\n",
              "  <thead>\n",
              "    <tr style=\"text-align: right;\">\n",
              "      <th></th>\n",
              "      <th>image</th>\n",
              "      <th>label</th>\n",
              "    </tr>\n",
              "  </thead>\n",
              "  <tbody>\n",
              "    <tr>\n",
              "      <th>0</th>\n",
              "      <td>[[[217, 202, 203], [218, 202, 204], [220, 204,...</td>\n",
              "      <td>1</td>\n",
              "    </tr>\n",
              "    <tr>\n",
              "      <th>1</th>\n",
              "      <td>[[[219, 220, 225], [220, 221, 226], [220, 221,...</td>\n",
              "      <td>3</td>\n",
              "    </tr>\n",
              "    <tr>\n",
              "      <th>2</th>\n",
              "      <td>[[[190, 188, 203], [156, 152, 176], [160, 156,...</td>\n",
              "      <td>2</td>\n",
              "    </tr>\n",
              "    <tr>\n",
              "      <th>3</th>\n",
              "      <td>[[[162, 158, 174], [163, 159, 176], [163, 159,...</td>\n",
              "      <td>2</td>\n",
              "    </tr>\n",
              "    <tr>\n",
              "      <th>4</th>\n",
              "      <td>[[[188, 180, 187], [188, 180, 187], [188, 179,...</td>\n",
              "      <td>1</td>\n",
              "    </tr>\n",
              "  </tbody>\n",
              "</table>\n",
              "</div>"
            ],
            "text/plain": [
              "                                               image  label\n",
              "0  [[[217, 202, 203], [218, 202, 204], [220, 204,...      1\n",
              "1  [[[219, 220, 225], [220, 221, 226], [220, 221,...      3\n",
              "2  [[[190, 188, 203], [156, 152, 176], [160, 156,...      2\n",
              "3  [[[162, 158, 174], [163, 159, 176], [163, 159,...      2\n",
              "4  [[[188, 180, 187], [188, 180, 187], [188, 179,...      1"
            ]
          },
          "metadata": {
            "tags": []
          },
          "execution_count": 50
        }
      ]
    },
    {
      "cell_type": "code",
      "metadata": {
        "colab": {
          "base_uri": "https://localhost:8080/"
        },
        "id": "hg3mKhX1hD9M",
        "outputId": "40eedf8b-8c92-4f61-b154-e1f92894409f"
      },
      "source": [
        "data.shape"
      ],
      "execution_count": null,
      "outputs": [
        {
          "output_type": "execute_result",
          "data": {
            "text/plain": [
              "(594, 3)"
            ]
          },
          "metadata": {
            "tags": []
          },
          "execution_count": 32
        }
      ]
    },
    {
      "cell_type": "markdown",
      "metadata": {
        "id": "hNftAEsdxMMQ"
      },
      "source": [
        "Split it into a training set, and a test set."
      ]
    },
    {
      "cell_type": "code",
      "metadata": {
        "id": "viYTxWGQpMxe",
        "colab": {
          "base_uri": "https://localhost:8080/",
          "height": 200,
          "referenced_widgets": [
            "e19333a34dc948eaa6ea0c38f9cdfcd3",
            "2037e2d77f4c4d2f8021ee04d2bcc7fb",
            "1cd87a8400fa455e942e269bf1444331",
            "6206cdcd24e54dd5a125a6d726a3dba0",
            "c9c60ef6723e4518b545b3c624426267",
            "eeb9fdc373d84301a313145f3aabcf36",
            "adf9eabac2654baabb6ed96de3f17b16",
            "bc38e5f3a49e4400927953ce778b1287",
            "570cfe6043f84f2384f81534bb97f7c0",
            "21065ecc9c294e16b9cf4687761d65f0",
            "d876419b292742c384483f53b629c48f",
            "0c4f3c1bc101407b88ef151d59005a16",
            "361bd75ba1164e1d8752410de60bb17b",
            "37e111c8d7ba4e2f9f61505732373abb",
            "eb6ab212df8e4ee386355c0feb894a26",
            "813725e98f7d4d578710cba032555cc0",
            "1e0fb46a8850471d84488cd8a38d07c2",
            "1d1f75431abb47c0990301d13d7ee292",
            "e3e9396508934cd68122829b9ca70fa1",
            "106db501746349b797877691a838692d",
            "c73d828adef647caa68b34941e9e3a8d",
            "ea4d7df6b9794e6f9e81bc5c36595bed",
            "351129cb82f8479b8d21593c49bdc479",
            "7bf7c3a1a7bf4c11af5a0f30cc926a33",
            "3a4d82e6dc3041e6936a6992de53a25d",
            "03087f7ca91147eda390f67e7fb35ae4",
            "5bc21c62c4064bb7b91f91d4fbb1f353",
            "b207752a5b234191a1d19e85168fefb4",
            "6df76ea9c1c94e8394e662f05ab5f59e",
            "8e24d4a3b6704cb1a2ee3d430cd0585a",
            "6fdf6f277acb44058cf628be6829e010",
            "b7b8784dfacd4bd396cfa9c3fd7dae08",
            "106258d97da1430fa9e5558e6b585b33",
            "90bdb222ba1f40408a2901d8864dca41",
            "392247363c5c4428b1b0b2a01bcf0cbe",
            "fe19b9667e9643f784f121946143ebf3",
            "65c83828211745ee9b822abed5fd0f59",
            "4ec1267967d74f81b023abbcafb0da85",
            "a5cc7df1285446808679474a31df356d",
            "12abdcc321694c01b11b3a09fce60129",
            "933a916cefb446589828e319e2119846",
            "9e8fe37811014a43bfccb132930bd119",
            "7ef65af2d8644145a949e3e19a1b03ce",
            "7f29212fca2040b5bfaebe63bd3ff4b0",
            "d970a3c93b0944a7b3dd59c32b2aafa1",
            "27db31288ba449b69933f0fed7c9c195",
            "0d9e5297cdc04eb8ab1d89178df730eb",
            "56608a8a98e144e594339ebd7d78aff0"
          ]
        },
        "outputId": "02234490-2c66-4d0d-9ba0-35cd23ef399f"
      },
      "source": [
        "#Split data using String API \n",
        "# train[:70%] selects first 70% data into ds_train\n",
        "# train[80%:] selects last 20% data into ds_test\n",
        "(ds_train, ds_val, ds_test), metadata = tfds.load(\n",
        "    'citrus_leaves',\n",
        "    split=['train[:70%]', 'train[70%:80%]', 'train[80%:]'],\n",
        "    with_info=True,\n",
        ")"
      ],
      "execution_count": null,
      "outputs": [
        {
          "output_type": "stream",
          "text": [
            "\u001b[1mDownloading and preparing dataset 63.87 MiB (download: 63.87 MiB, generated: 37.89 MiB, total: 101.76 MiB) to /root/tensorflow_datasets/citrus_leaves/0.1.2...\u001b[0m\n"
          ],
          "name": "stdout"
        },
        {
          "output_type": "display_data",
          "data": {
            "application/vnd.jupyter.widget-view+json": {
              "model_id": "e19333a34dc948eaa6ea0c38f9cdfcd3",
              "version_minor": 0,
              "version_major": 2
            },
            "text/plain": [
              "HBox(children=(FloatProgress(value=1.0, bar_style='info', description='Dl Completed...', max=1.0, style=Progre…"
            ]
          },
          "metadata": {
            "tags": []
          }
        },
        {
          "output_type": "display_data",
          "data": {
            "application/vnd.jupyter.widget-view+json": {
              "model_id": "570cfe6043f84f2384f81534bb97f7c0",
              "version_minor": 0,
              "version_major": 2
            },
            "text/plain": [
              "HBox(children=(FloatProgress(value=1.0, bar_style='info', description='Dl Size...', max=1.0, style=ProgressSty…"
            ]
          },
          "metadata": {
            "tags": []
          }
        },
        {
          "output_type": "display_data",
          "data": {
            "application/vnd.jupyter.widget-view+json": {
              "model_id": "1e0fb46a8850471d84488cd8a38d07c2",
              "version_minor": 0,
              "version_major": 2
            },
            "text/plain": [
              "HBox(children=(FloatProgress(value=1.0, bar_style='info', description='Extraction completed...', max=1.0, styl…"
            ]
          },
          "metadata": {
            "tags": []
          }
        },
        {
          "output_type": "stream",
          "text": [
            "\n",
            "\n",
            "\n"
          ],
          "name": "stdout"
        },
        {
          "output_type": "display_data",
          "data": {
            "application/vnd.jupyter.widget-view+json": {
              "model_id": "3a4d82e6dc3041e6936a6992de53a25d",
              "version_minor": 0,
              "version_major": 2
            },
            "text/plain": [
              "HBox(children=(FloatProgress(value=0.0, description='Generating splits...', max=1.0, style=ProgressStyle(descr…"
            ]
          },
          "metadata": {
            "tags": []
          }
        },
        {
          "output_type": "display_data",
          "data": {
            "application/vnd.jupyter.widget-view+json": {
              "model_id": "106258d97da1430fa9e5558e6b585b33",
              "version_minor": 0,
              "version_major": 2
            },
            "text/plain": [
              "HBox(children=(FloatProgress(value=0.0, description='Generating train examples...', max=594.0, style=ProgressS…"
            ]
          },
          "metadata": {
            "tags": []
          }
        },
        {
          "output_type": "display_data",
          "data": {
            "application/vnd.jupyter.widget-view+json": {
              "model_id": "933a916cefb446589828e319e2119846",
              "version_minor": 0,
              "version_major": 2
            },
            "text/plain": [
              "HBox(children=(FloatProgress(value=0.0, description='Shuffling citrus_leaves-train.tfrecord...', max=594.0, st…"
            ]
          },
          "metadata": {
            "tags": []
          }
        },
        {
          "output_type": "stream",
          "text": [
            "\r\u001b[1mDataset citrus_leaves downloaded and prepared to /root/tensorflow_datasets/citrus_leaves/0.1.2. Subsequent calls will reuse this data.\u001b[0m\n"
          ],
          "name": "stdout"
        }
      ]
    },
    {
      "cell_type": "code",
      "metadata": {
        "colab": {
          "base_uri": "https://localhost:8080/"
        },
        "id": "xSVdt12gwkHa",
        "outputId": "db780171-0b77-4276-bd72-72d94a772612"
      },
      "source": [
        "metadata.features"
      ],
      "execution_count": null,
      "outputs": [
        {
          "output_type": "execute_result",
          "data": {
            "text/plain": [
              "FeaturesDict({\n",
              "    'image': Image(shape=(None, None, 3), dtype=tf.uint8),\n",
              "    'image/filename': Text(shape=(), dtype=tf.string),\n",
              "    'label': ClassLabel(shape=(), dtype=tf.int64, num_classes=4),\n",
              "})"
            ]
          },
          "metadata": {
            "tags": []
          },
          "execution_count": 11
        }
      ]
    },
    {
      "cell_type": "code",
      "metadata": {
        "id": "Zk_5MLXElnOg"
      },
      "source": [
        "ds, info = tfds.load('citrus_leaves', split='train', with_info=True, as_supervised= True)"
      ],
      "execution_count": null,
      "outputs": []
    },
    {
      "cell_type": "code",
      "metadata": {
        "id": "knSsNHFjlvwK"
      },
      "source": [
        "#Normalising Images\n",
        "\n",
        "resize_and_rescale = tf.keras.Sequential([\n",
        "  layers.experimental.preprocessing.Rescaling(1./255)\n",
        "])"
      ],
      "execution_count": null,
      "outputs": []
    },
    {
      "cell_type": "code",
      "metadata": {
        "id": "2hNAmvbVl_sv"
      },
      "source": [
        "#Data Augmentation technique from tensorflow documentation is used. \n",
        "#Data augmentation is a technique to artificially create new training data from existing training data. It helps  to increase the size of the dataset and introduce variability in the dataset, without actually collecting new data. \n",
        "#Diversity of training set is incresed  by applying random transformations such as image rotation\n",
        "#The neural network treats these images as distinct images \n",
        "data_augmentation = tf.keras.Sequential([\n",
        "  layers.experimental.preprocessing.RandomFlip(\"horizontal_and_vertical\"),\n",
        "  layers.experimental.preprocessing.RandomRotation(0.2),\n",
        "])"
      ],
      "execution_count": null,
      "outputs": []
    },
    {
      "cell_type": "code",
      "metadata": {
        "id": "ekm_czUZmGeD"
      },
      "source": [
        "t_model = tf.keras.Sequential([\n",
        "  layers.Conv2D(16, (3,3), padding='same', activation='relu',input_shape=(256, 256, 3)),\n",
        "  layers.MaxPooling2D(),\n",
        "  layers.Conv2D(32, (3,3), padding='same', activation='relu'),\n",
        "  layers.MaxPooling2D(),\n",
        "  layers.Conv2D(64, (3,3), padding='same', activation='relu'),\n",
        "  layers.MaxPooling2D(),\n",
        "  layers.Flatten(),\n",
        "  layers.Dense(128, activation='relu'),\n",
        "  layers.Dense(4, activation='softmax')\n",
        "])"
      ],
      "execution_count": null,
      "outputs": []
    },
    {
      "cell_type": "code",
      "metadata": {
        "id": "qeZbNMPZ9GV1"
      },
      "source": [
        "# Building CNN model\n",
        "#Add a first convolutional layer with Conv2D() as inputs are images\n",
        "#ReLU activation function is used instead of logistic sigmoid function\n",
        "#Add the max-pooling layer with MaxPooling2D().This layer shrinks the image stack into a smaller size\n",
        "#Last layer is a Dense layer that has a softmax activation function with 4 units as number of classes = 4"
      ],
      "execution_count": null,
      "outputs": []
    },
    {
      "cell_type": "code",
      "metadata": {
        "id": "KS6XsB2SjNwI"
      },
      "source": [
        "t_model.compile(\n",
        "    optimizer=tf.keras.optimizers.Adam(0.001),\n",
        "    loss=tf.keras.losses.SparseCategoricalCrossentropy(from_logits=True),\n",
        "    metrics=['accuracy'],\n",
        ")"
      ],
      "execution_count": null,
      "outputs": []
    },
    {
      "cell_type": "code",
      "metadata": {
        "id": "gu28kwC5-B2o"
      },
      "source": [
        "#compile it using the Adam optimizer with learning rate of 0.0001\n",
        "#loss type which is Sparse categorical cross entropy which is used for multi-class classification\n",
        "#categorical cross entropy and sparse categorical cross entropy have the same loss function but difference is the format in which output labels are mentioned\n",
        "# If output labels are one-hot encoded categorical_crossentropy is preferred but if output labels are integers sparse categorical cross entropy\n",
        "#sparse categorical cross entropy saves time in memory as well as computation because it simply uses a single integer for a class, rather than a whole vector.\n",
        "# Accuracy metrics is used to analyse model while training "
      ],
      "execution_count": null,
      "outputs": []
    },
    {
      "cell_type": "code",
      "metadata": {
        "id": "gMVDvJIfmZOq"
      },
      "source": [
        "(x, Y), metadata = tfds.load(\n",
        "    'citrus_leaves',\n",
        "    split=['train[:80%]','train[-20%:]'],\n",
        "    with_info=True,\n",
        "    as_supervised=True,\n",
        ")\n",
        "# train[-20%:] loads botom 20% of data"
      ],
      "execution_count": null,
      "outputs": []
    },
    {
      "cell_type": "code",
      "metadata": {
        "id": "VbL9o9ztpYl6"
      },
      "source": [
        "# Reference - Tensorflow documentation https://www.tensorflow.org/tutorials/images/data_augmentation?hl=zh-cn\n",
        "# The tf.data API provides the tf.data.Dataset.prefetch transformation. \n",
        "#It can be used to decouple the time when data is produced from the time when data is consumed\n",
        "#Elements are prefetched from the input dataset ahead of the time they are requested\n",
        "#The number of elements to prefetch can be dynamically tuned using Autotune\n",
        "\n",
        "def prepare(ds, shuffle=False, augment=False):\n",
        "  # Rescaling test and train datasets\n",
        "  ds = ds.map(lambda x, y: (resize_and_rescale(x), y), \n",
        "              num_parallel_calls=AUTOTUNE)\n",
        "\n",
        "  if shuffle:\n",
        "    ds = ds.shuffle(1000)\n",
        "\n",
        "  # Batch all datasets\n",
        "  ds = ds.batch(batch_size)\n",
        "\n",
        "  # Use data augmentation only on the training set\n",
        "  if augment:\n",
        "    ds = ds.map(lambda x, y: (data_augmentation(x, training=True), y), \n",
        "                num_parallel_calls=AUTOTUNE)\n",
        "\n",
        "  # Use buffered prefecting on all datasets\n",
        "  return ds.prefetch(buffer_size=AUTOTUNE)"
      ],
      "execution_count": null,
      "outputs": []
    },
    {
      "cell_type": "code",
      "metadata": {
        "id": "_rbsdFVFpa8R"
      },
      "source": [
        "x_prepare = prepare(x, shuffle=True, augment=True) # Preprocessing training dataset"
      ],
      "execution_count": null,
      "outputs": []
    },
    {
      "cell_type": "code",
      "metadata": {
        "id": "aWUAopV7p31N"
      },
      "source": [
        "Y_prepare = prepare(Y) # Preprocessing test dataset"
      ],
      "execution_count": null,
      "outputs": []
    },
    {
      "cell_type": "code",
      "metadata": {
        "colab": {
          "base_uri": "https://localhost:8080/"
        },
        "id": "hz4K1OILmZcT",
        "outputId": "3c8dbb27-ef75-43fc-9ad6-ddadc965abd4"
      },
      "source": [
        "t_model.fit(\n",
        "    x_prepare,\n",
        "    epochs=35,\n",
        ")"
      ],
      "execution_count": null,
      "outputs": [
        {
          "output_type": "stream",
          "text": [
            "Epoch 1/35\n",
            "15/15 [==============================] - 28s 2s/step - loss: 0.9903 - accuracy: 0.5200\n",
            "Epoch 2/35\n",
            "15/15 [==============================] - 28s 2s/step - loss: 0.9907 - accuracy: 0.5389\n",
            "Epoch 3/35\n",
            "15/15 [==============================] - 28s 2s/step - loss: 0.9533 - accuracy: 0.5558\n",
            "Epoch 4/35\n",
            "15/15 [==============================] - 27s 2s/step - loss: 0.9289 - accuracy: 0.5726\n",
            "Epoch 5/35\n",
            "15/15 [==============================] - 28s 2s/step - loss: 0.8698 - accuracy: 0.6000\n",
            "Epoch 6/35\n",
            "15/15 [==============================] - 28s 2s/step - loss: 0.9036 - accuracy: 0.5874\n",
            "Epoch 7/35\n",
            "15/15 [==============================] - 28s 2s/step - loss: 0.8225 - accuracy: 0.6105\n",
            "Epoch 8/35\n",
            "15/15 [==============================] - 28s 2s/step - loss: 0.8489 - accuracy: 0.6042\n",
            "Epoch 9/35\n",
            "15/15 [==============================] - 28s 2s/step - loss: 0.7391 - accuracy: 0.6484\n",
            "Epoch 10/35\n",
            "15/15 [==============================] - 28s 2s/step - loss: 0.6620 - accuracy: 0.6947\n",
            "Epoch 11/35\n",
            "15/15 [==============================] - 28s 2s/step - loss: 0.8138 - accuracy: 0.6295\n",
            "Epoch 12/35\n",
            "15/15 [==============================] - 28s 2s/step - loss: 0.8291 - accuracy: 0.6147\n",
            "Epoch 13/35\n",
            "15/15 [==============================] - 28s 2s/step - loss: 0.6488 - accuracy: 0.7053\n",
            "Epoch 14/35\n",
            "15/15 [==============================] - 28s 2s/step - loss: 0.6209 - accuracy: 0.7179\n",
            "Epoch 15/35\n",
            "15/15 [==============================] - 28s 2s/step - loss: 0.7838 - accuracy: 0.6337\n",
            "Epoch 16/35\n",
            "15/15 [==============================] - 28s 2s/step - loss: 0.6713 - accuracy: 0.6926\n",
            "Epoch 17/35\n",
            "15/15 [==============================] - 28s 2s/step - loss: 0.5457 - accuracy: 0.7579\n",
            "Epoch 18/35\n",
            "15/15 [==============================] - 28s 2s/step - loss: 0.5528 - accuracy: 0.7474\n",
            "Epoch 19/35\n",
            "15/15 [==============================] - 29s 2s/step - loss: 0.5325 - accuracy: 0.7726\n",
            "Epoch 20/35\n",
            "15/15 [==============================] - 28s 2s/step - loss: 0.5620 - accuracy: 0.7516\n",
            "Epoch 21/35\n",
            "15/15 [==============================] - 28s 2s/step - loss: 0.4994 - accuracy: 0.7768\n",
            "Epoch 22/35\n",
            "15/15 [==============================] - 28s 2s/step - loss: 0.4701 - accuracy: 0.8105\n",
            "Epoch 23/35\n",
            "15/15 [==============================] - 28s 2s/step - loss: 0.5752 - accuracy: 0.7684\n",
            "Epoch 24/35\n",
            "15/15 [==============================] - 28s 2s/step - loss: 0.4466 - accuracy: 0.8337\n",
            "Epoch 25/35\n",
            "15/15 [==============================] - 28s 2s/step - loss: 0.4574 - accuracy: 0.8021\n",
            "Epoch 26/35\n",
            "15/15 [==============================] - 28s 2s/step - loss: 0.4691 - accuracy: 0.8168\n",
            "Epoch 27/35\n",
            "15/15 [==============================] - 28s 2s/step - loss: 0.4180 - accuracy: 0.8358\n",
            "Epoch 28/35\n",
            "15/15 [==============================] - 28s 2s/step - loss: 0.3879 - accuracy: 0.8463\n",
            "Epoch 29/35\n",
            "15/15 [==============================] - 28s 2s/step - loss: 0.3826 - accuracy: 0.8379\n",
            "Epoch 30/35\n",
            "15/15 [==============================] - 28s 2s/step - loss: 0.3510 - accuracy: 0.8611\n",
            "Epoch 31/35\n",
            "15/15 [==============================] - 28s 2s/step - loss: 0.3866 - accuracy: 0.8337\n",
            "Epoch 32/35\n",
            "15/15 [==============================] - 28s 2s/step - loss: 0.4106 - accuracy: 0.8189\n",
            "Epoch 33/35\n",
            "15/15 [==============================] - 28s 2s/step - loss: 0.3284 - accuracy: 0.8863\n",
            "Epoch 34/35\n",
            "15/15 [==============================] - 28s 2s/step - loss: 0.2705 - accuracy: 0.8926\n",
            "Epoch 35/35\n",
            "15/15 [==============================] - 28s 2s/step - loss: 0.3508 - accuracy: 0.8737\n"
          ],
          "name": "stdout"
        },
        {
          "output_type": "execute_result",
          "data": {
            "text/plain": [
              "<tensorflow.python.keras.callbacks.History at 0x7f6ab7a73c90>"
            ]
          },
          "metadata": {
            "tags": []
          },
          "execution_count": 264
        }
      ]
    },
    {
      "cell_type": "code",
      "metadata": {
        "colab": {
          "base_uri": "https://localhost:8080/"
        },
        "id": "pKEA1Kz1qUwN",
        "outputId": "d4484c39-a3a2-4ec8-9438-57e74a0aa201"
      },
      "source": [
        "acc = t_model.evaluate(Y_prepare)"
      ],
      "execution_count": null,
      "outputs": [
        {
          "output_type": "stream",
          "text": [
            "4/4 [==============================] - 2s 443ms/step - loss: 0.2759 - accuracy: 0.9160\n"
          ],
          "name": "stdout"
        }
      ]
    },
    {
      "cell_type": "code",
      "metadata": {
        "colab": {
          "base_uri": "https://localhost:8080/"
        },
        "id": "CRIHQJKoudiJ",
        "outputId": "99d731cb-7730-4635-ce82-9aaf7f12b2cd"
      },
      "source": [
        "print('Test accuracy:',acc[1])"
      ],
      "execution_count": null,
      "outputs": [
        {
          "output_type": "stream",
          "text": [
            "Test accuracy: 0.9159663915634155\n"
          ],
          "name": "stdout"
        }
      ]
    },
    {
      "cell_type": "code",
      "metadata": {
        "id": "TM9D6YUTbYFs"
      },
      "source": [
        "# Challenges faced \n",
        "# Initially model gave accuracy of 27% with only image normalising\n",
        "# Data Augmentation is introduced in training data which increased the number of training instances and accuracy improved to 85%\n",
        "# As neural network learning is iterative process increasing number of epochs to 35 further improved accuracy to 91.5%\n",
        "# Epochs were not set to very high value as there are chances of overfitting model \n",
        "# As output labels are not one hot encoded , referenced tensorflow documentation to read on loss functions to be used instead of categorical entropy and used sparse ctegorical entropy\n",
        "\n",
        "\n"
      ],
      "execution_count": null,
      "outputs": []
    },
    {
      "cell_type": "markdown",
      "metadata": {
        "id": "nPDL4oYRxFDC"
      },
      "source": [
        "If your GPU runs out of memory while training a CNN, what are five things you could try to solve the problem? "
      ]
    },
    {
      "cell_type": "code",
      "metadata": {
        "id": "ze9fqbZqbYFt"
      },
      "source": [
        "1.Reduce the mini-batch size.large batch sizes is split smaller mini-batches. These mini-batches can run independently, and their gradients should be averaged or summed before calculating the model variable updates\n",
        "2.Reduce dimensionality using a larger stride in one or more layers. The stride can be changed in Conv2D layer via the ‘stride‘ argument which has an effect both on how the filter is applied to the image and, in turn, the size of the resulting feature map\n",
        "3.Remove one or more layers in the model\n",
        "4.Use 16-bit floats instead of 32-bit floats. Since GPU memory is the main bottleneck in ML computation there has been a lot of research on precision reduction (as referenced in https://arxiv.org/abs/1502.02551) which recommends at least to try 16 bits for training a big network and switch to 32 bits\n",
        "tf. to_bfloat16 cn also be used instead of 32-bit floats which might converge better.\n",
        "5.Distribute the CNN across multiple devices. There are two ways to distribute computation across multiple devices\n",
        "Data parallelism, where a single model gets replicated on multiple devices or multiple machines\n",
        "Model parallelism, where different parts of a single model run on different devices, processing a single batch of data together\n",
        "tf.distribute API helps to train Keras models on multiple GPUs, with minimal changes to the code"
      ],
      "execution_count": null,
      "outputs": []
    },
    {
      "cell_type": "markdown",
      "metadata": {
        "id": "1lSwx9MhbYFt"
      },
      "source": [
        "What are the advantages of a CNN over a fully connected DNN for image classification? "
      ]
    },
    {
      "cell_type": "code",
      "metadata": {
        "id": "TkF7UAYdbYFu"
      },
      "source": [
        "CNN has Fewer parameters hence faster to train\n",
        "CNN can Reuse kernel so able to detect feature anywhere\n",
        "CNN Architecture embeds knowledge of neighboring pixels\n",
        "\n",
        "Because consecutive layers are only partially connected and because it heavily reuses its weights, a CNN has many fewer parameters than a fully connected DNN, which makes it much faster to train, reduces the risk of overfitting, and requires much less training data.\n",
        "When a CNN has learned a kernel that can detect a particular feature, it can detect that feature anywhere on the image. In contrast, when a DNN learns a feature in one location, it can detect it only in that particular location. Since images typically have very repetitive features, CNNs are able to generalize much better than DNNs for image processing tasks such as classification, using fewer training examples.\n",
        "DNN has no prior knowledge of how pixels are organized; it does not know that nearby pixels are close. A CNN's architecture embeds this prior knowledge. Lower layers typically identify features in small areas of the images, while higher layers combine the lower-level features into larger features. This works well with most natural images, giving CNNs a decisive head start compared to DNNs.\n",
        "In CNNs the state-of-the-art was to extract explicit features from images and then classify these features \n",
        "By tuning learning parameter K, a CNN is guaranteed to have better bias-variance characteristics with lower bound performance equal to the performance of a fully-connected network. \n",
        "CNN performance can be improved further by having multiple channels.\n"
      ],
      "execution_count": null,
      "outputs": []
    },
    {
      "cell_type": "markdown",
      "metadata": {
        "id": "bP-GkGj9bYFu"
      },
      "source": [
        "### Part 2: NLP"
      ]
    },
    {
      "cell_type": "markdown",
      "metadata": {
        "id": "93xPkPGkbYFu"
      },
      "source": [
        "Solve spam sms detection problem using Gensim word2vec. You can use algorithm of your choice to train and evaluate the model."
      ]
    },
    {
      "cell_type": "code",
      "metadata": {
        "id": "UBPn83YabYFv"
      },
      "source": [
        "import numpy as np\n",
        "import pandas as pd\n",
        "import matplotlib.pyplot as plt"
      ],
      "execution_count": 3,
      "outputs": []
    },
    {
      "cell_type": "code",
      "metadata": {
        "colab": {
          "resources": {
            "http://localhost:8080/nbextensions/google.colab/files.js": {
              "data": "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",
              "ok": true,
              "headers": [
                [
                  "content-type",
                  "application/javascript"
                ]
              ],
              "status": 200,
              "status_text": ""
            }
          },
          "base_uri": "https://localhost:8080/",
          "height": 73
        },
        "id": "9F9GhGbDyhFo",
        "outputId": "92e148d5-23b9-4b52-c035-b5725eb71986"
      },
      "source": [
        "from google.colab import files\n",
        "uploaded = files.upload()"
      ],
      "execution_count": 4,
      "outputs": [
        {
          "output_type": "display_data",
          "data": {
            "text/html": [
              "\n",
              "     <input type=\"file\" id=\"files-8daabdbd-078d-4c4b-a886-f02876d49e68\" name=\"files[]\" multiple disabled\n",
              "        style=\"border:none\" />\n",
              "     <output id=\"result-8daabdbd-078d-4c4b-a886-f02876d49e68\">\n",
              "      Upload widget is only available when the cell has been executed in the\n",
              "      current browser session. Please rerun this cell to enable.\n",
              "      </output>\n",
              "      <script src=\"/nbextensions/google.colab/files.js\"></script> "
            ],
            "text/plain": [
              "<IPython.core.display.HTML object>"
            ]
          },
          "metadata": {
            "tags": []
          }
        },
        {
          "output_type": "stream",
          "text": [
            "Saving spam.csv to spam.csv\n"
          ],
          "name": "stdout"
        }
      ]
    },
    {
      "cell_type": "code",
      "metadata": {
        "id": "UV2LrD9-ypQD"
      },
      "source": [
        "import io\n",
        "df = pd.read_csv(io.BytesIO(uploaded['spam.csv']),encoding = \"ISO-8859-1\")\n"
      ],
      "execution_count": 3,
      "outputs": []
    },
    {
      "cell_type": "code",
      "metadata": {
        "id": "UlFgOxElzDvk"
      },
      "source": [
        "import io\n",
        "df = pd.read_csv(io.BytesIO(uploaded['spam.csv']),encoding = 'latin-1')\n"
      ],
      "execution_count": 5,
      "outputs": []
    },
    {
      "cell_type": "code",
      "metadata": {
        "colab": {
          "base_uri": "https://localhost:8080/",
          "height": 204
        },
        "id": "0LgSm1nn0Vxk",
        "outputId": "a934375a-a779-4646-bba9-450df12bf774"
      },
      "source": [
        "df.head()"
      ],
      "execution_count": 6,
      "outputs": [
        {
          "output_type": "execute_result",
          "data": {
            "text/html": [
              "<div>\n",
              "<style scoped>\n",
              "    .dataframe tbody tr th:only-of-type {\n",
              "        vertical-align: middle;\n",
              "    }\n",
              "\n",
              "    .dataframe tbody tr th {\n",
              "        vertical-align: top;\n",
              "    }\n",
              "\n",
              "    .dataframe thead th {\n",
              "        text-align: right;\n",
              "    }\n",
              "</style>\n",
              "<table border=\"1\" class=\"dataframe\">\n",
              "  <thead>\n",
              "    <tr style=\"text-align: right;\">\n",
              "      <th></th>\n",
              "      <th>v1</th>\n",
              "      <th>v2</th>\n",
              "      <th>Unnamed: 2</th>\n",
              "      <th>Unnamed: 3</th>\n",
              "      <th>Unnamed: 4</th>\n",
              "    </tr>\n",
              "  </thead>\n",
              "  <tbody>\n",
              "    <tr>\n",
              "      <th>0</th>\n",
              "      <td>ham</td>\n",
              "      <td>Go until jurong point, crazy.. Available only ...</td>\n",
              "      <td>NaN</td>\n",
              "      <td>NaN</td>\n",
              "      <td>NaN</td>\n",
              "    </tr>\n",
              "    <tr>\n",
              "      <th>1</th>\n",
              "      <td>ham</td>\n",
              "      <td>Ok lar... Joking wif u oni...</td>\n",
              "      <td>NaN</td>\n",
              "      <td>NaN</td>\n",
              "      <td>NaN</td>\n",
              "    </tr>\n",
              "    <tr>\n",
              "      <th>2</th>\n",
              "      <td>spam</td>\n",
              "      <td>Free entry in 2 a wkly comp to win FA Cup fina...</td>\n",
              "      <td>NaN</td>\n",
              "      <td>NaN</td>\n",
              "      <td>NaN</td>\n",
              "    </tr>\n",
              "    <tr>\n",
              "      <th>3</th>\n",
              "      <td>ham</td>\n",
              "      <td>U dun say so early hor... U c already then say...</td>\n",
              "      <td>NaN</td>\n",
              "      <td>NaN</td>\n",
              "      <td>NaN</td>\n",
              "    </tr>\n",
              "    <tr>\n",
              "      <th>4</th>\n",
              "      <td>ham</td>\n",
              "      <td>Nah I don't think he goes to usf, he lives aro...</td>\n",
              "      <td>NaN</td>\n",
              "      <td>NaN</td>\n",
              "      <td>NaN</td>\n",
              "    </tr>\n",
              "  </tbody>\n",
              "</table>\n",
              "</div>"
            ],
            "text/plain": [
              "     v1  ... Unnamed: 4\n",
              "0   ham  ...        NaN\n",
              "1   ham  ...        NaN\n",
              "2  spam  ...        NaN\n",
              "3   ham  ...        NaN\n",
              "4   ham  ...        NaN\n",
              "\n",
              "[5 rows x 5 columns]"
            ]
          },
          "metadata": {
            "tags": []
          },
          "execution_count": 6
        }
      ]
    },
    {
      "cell_type": "code",
      "metadata": {
        "colab": {
          "base_uri": "https://localhost:8080/"
        },
        "id": "NfBAf0Fb0m3K",
        "outputId": "4df420cd-7f00-4d1b-e24b-59cc19204beb"
      },
      "source": [
        "import gensim\n",
        "from nltk.tokenize import word_tokenize\n",
        "import nltk\n",
        "nltk.download('punkt')\n",
        "import numpy as np\n",
        "nltk.download('stopwords')\n",
        "import spacy \n",
        "import re #detects whether the given regular expression pattern is present in the given input string\n",
        "from gensim.models import Word2Vec\n",
        "from sklearn.model_selection import train_test_split"
      ],
      "execution_count": 7,
      "outputs": [
        {
          "output_type": "stream",
          "text": [
            "[nltk_data] Downloading package punkt to /root/nltk_data...\n",
            "[nltk_data]   Unzipping tokenizers/punkt.zip.\n",
            "[nltk_data] Downloading package stopwords to /root/nltk_data...\n",
            "[nltk_data]   Unzipping corpora/stopwords.zip.\n"
          ],
          "name": "stdout"
        }
      ]
    },
    {
      "cell_type": "code",
      "metadata": {
        "id": "utxrD309vady"
      },
      "source": [
        "df = df.iloc[:,0:2] # Dropping irrlevant columns in dataframe"
      ],
      "execution_count": 8,
      "outputs": []
    },
    {
      "cell_type": "code",
      "metadata": {
        "colab": {
          "base_uri": "https://localhost:8080/",
          "height": 204
        },
        "id": "OFlNdFN6vlDD",
        "outputId": "aef9a34d-d3c4-4706-f34a-269b9d085c3c"
      },
      "source": [
        "df.head()"
      ],
      "execution_count": 9,
      "outputs": [
        {
          "output_type": "execute_result",
          "data": {
            "text/html": [
              "<div>\n",
              "<style scoped>\n",
              "    .dataframe tbody tr th:only-of-type {\n",
              "        vertical-align: middle;\n",
              "    }\n",
              "\n",
              "    .dataframe tbody tr th {\n",
              "        vertical-align: top;\n",
              "    }\n",
              "\n",
              "    .dataframe thead th {\n",
              "        text-align: right;\n",
              "    }\n",
              "</style>\n",
              "<table border=\"1\" class=\"dataframe\">\n",
              "  <thead>\n",
              "    <tr style=\"text-align: right;\">\n",
              "      <th></th>\n",
              "      <th>v1</th>\n",
              "      <th>v2</th>\n",
              "    </tr>\n",
              "  </thead>\n",
              "  <tbody>\n",
              "    <tr>\n",
              "      <th>0</th>\n",
              "      <td>ham</td>\n",
              "      <td>Go until jurong point, crazy.. Available only ...</td>\n",
              "    </tr>\n",
              "    <tr>\n",
              "      <th>1</th>\n",
              "      <td>ham</td>\n",
              "      <td>Ok lar... Joking wif u oni...</td>\n",
              "    </tr>\n",
              "    <tr>\n",
              "      <th>2</th>\n",
              "      <td>spam</td>\n",
              "      <td>Free entry in 2 a wkly comp to win FA Cup fina...</td>\n",
              "    </tr>\n",
              "    <tr>\n",
              "      <th>3</th>\n",
              "      <td>ham</td>\n",
              "      <td>U dun say so early hor... U c already then say...</td>\n",
              "    </tr>\n",
              "    <tr>\n",
              "      <th>4</th>\n",
              "      <td>ham</td>\n",
              "      <td>Nah I don't think he goes to usf, he lives aro...</td>\n",
              "    </tr>\n",
              "  </tbody>\n",
              "</table>\n",
              "</div>"
            ],
            "text/plain": [
              "     v1                                                 v2\n",
              "0   ham  Go until jurong point, crazy.. Available only ...\n",
              "1   ham                      Ok lar... Joking wif u oni...\n",
              "2  spam  Free entry in 2 a wkly comp to win FA Cup fina...\n",
              "3   ham  U dun say so early hor... U c already then say...\n",
              "4   ham  Nah I don't think he goes to usf, he lives aro..."
            ]
          },
          "metadata": {
            "tags": []
          },
          "execution_count": 9
        }
      ]
    },
    {
      "cell_type": "code",
      "metadata": {
        "colab": {
          "base_uri": "https://localhost:8080/"
        },
        "id": "uXWGZEb9wRFY",
        "outputId": "2b53df00-da4e-4821-9ed4-9af233212213"
      },
      "source": [
        "df.isnull().sum() # Checking for null values"
      ],
      "execution_count": 10,
      "outputs": [
        {
          "output_type": "execute_result",
          "data": {
            "text/plain": [
              "v1    0\n",
              "v2    0\n",
              "dtype: int64"
            ]
          },
          "metadata": {
            "tags": []
          },
          "execution_count": 10
        }
      ]
    },
    {
      "cell_type": "code",
      "metadata": {
        "id": "OXSJ3I1FzSsH"
      },
      "source": [
        "text = df['v2'].copy() # Making a copy of messages into text\n"
      ],
      "execution_count": 11,
      "outputs": []
    },
    {
      "cell_type": "code",
      "metadata": {
        "colab": {
          "base_uri": "https://localhost:8080/"
        },
        "id": "nU1IGKL2zTB3",
        "outputId": "595f5bca-afa0-4a52-cde8-8a7b33e48262"
      },
      "source": [
        "text"
      ],
      "execution_count": 12,
      "outputs": [
        {
          "output_type": "execute_result",
          "data": {
            "text/plain": [
              "0       Go until jurong point, crazy.. Available only ...\n",
              "1                           Ok lar... Joking wif u oni...\n",
              "2       Free entry in 2 a wkly comp to win FA Cup fina...\n",
              "3       U dun say so early hor... U c already then say...\n",
              "4       Nah I don't think he goes to usf, he lives aro...\n",
              "                              ...                        \n",
              "5567    This is the 2nd time we have tried 2 contact u...\n",
              "5568                Will Ì_ b going to esplanade fr home?\n",
              "5569    Pity, * was in mood for that. So...any other s...\n",
              "5570    The guy did some bitching but I acted like i'd...\n",
              "5571                           Rofl. Its true to its name\n",
              "Name: v2, Length: 5572, dtype: object"
            ]
          },
          "metadata": {
            "tags": []
          },
          "execution_count": 12
        }
      ]
    },
    {
      "cell_type": "code",
      "metadata": {
        "id": "k1hDk-fj4Byy"
      },
      "source": [
        "def cleaning(doc):\n",
        "    # Lemmatizes and removes stopwords\n",
        "    # doc needs to be a spacy Doc object\n",
        "    txt = [token.lemma_ for token in doc if not token.is_stop]\n",
        "    return ' '.join(txt)\n",
        "#A stop word is a commonly used word (such as “the”, “a”, “an”, “in”) that a search engine\n",
        "#Lemmatisation is the process of grouping together the inflected forms of a word so they can be analysed as a single item\n",
        "# Example - is,am, are ------> be"
      ],
      "execution_count": 13,
      "outputs": []
    },
    {
      "cell_type": "code",
      "metadata": {
        "id": "2vMDThqw4jL9"
      },
      "source": [
        "nlp = spacy.load('en', disable=['ner', 'parser'])\n",
        "#spaCy first tokenizes the text to produce a Doc object which is then processed in several different steps\n",
        "# ner - Detect and label named entities \n",
        "#parser - Assign dependency labels are disabled"
      ],
      "execution_count": 14,
      "outputs": []
    },
    {
      "cell_type": "code",
      "metadata": {
        "id": "7qNAz-xy3veb"
      },
      "source": [
        "brief_cleaning = (re.sub(\"[^A-Za-z']+\", ' ', str(row)).lower() for row in df['v2']) # Removes non alphabeticl characters and converts to lowercase "
      ],
      "execution_count": 15,
      "outputs": []
    },
    {
      "cell_type": "code",
      "metadata": {
        "id": "lbIkBUja3c2V"
      },
      "source": [
        "txt = [cleaning(doc) for doc in nlp.pipe(brief_cleaning)]\n"
      ],
      "execution_count": 16,
      "outputs": []
    },
    {
      "cell_type": "code",
      "metadata": {
        "id": "Vx5EPXCL5SEr"
      },
      "source": [
        "df_clean = pd.DataFrame({'data': txt})"
      ],
      "execution_count": 17,
      "outputs": []
    },
    {
      "cell_type": "code",
      "metadata": {
        "colab": {
          "base_uri": "https://localhost:8080/",
          "height": 204
        },
        "id": "7n-49Kd15hqM",
        "outputId": "dc3cc216-677b-4363-e0c5-521b26779a3f"
      },
      "source": [
        "df_clean.head()"
      ],
      "execution_count": 18,
      "outputs": [
        {
          "output_type": "execute_result",
          "data": {
            "text/html": [
              "<div>\n",
              "<style scoped>\n",
              "    .dataframe tbody tr th:only-of-type {\n",
              "        vertical-align: middle;\n",
              "    }\n",
              "\n",
              "    .dataframe tbody tr th {\n",
              "        vertical-align: top;\n",
              "    }\n",
              "\n",
              "    .dataframe thead th {\n",
              "        text-align: right;\n",
              "    }\n",
              "</style>\n",
              "<table border=\"1\" class=\"dataframe\">\n",
              "  <thead>\n",
              "    <tr style=\"text-align: right;\">\n",
              "      <th></th>\n",
              "      <th>data</th>\n",
              "    </tr>\n",
              "  </thead>\n",
              "  <tbody>\n",
              "    <tr>\n",
              "      <th>0</th>\n",
              "      <td>jurong point crazy available bugis n great wor...</td>\n",
              "    </tr>\n",
              "    <tr>\n",
              "      <th>1</th>\n",
              "      <td>ok lar joking wif u oni</td>\n",
              "    </tr>\n",
              "    <tr>\n",
              "      <th>2</th>\n",
              "      <td>free entry wkly comp win fa cup final tkts st ...</td>\n",
              "    </tr>\n",
              "    <tr>\n",
              "      <th>3</th>\n",
              "      <td>u dun early hor u c</td>\n",
              "    </tr>\n",
              "    <tr>\n",
              "      <th>4</th>\n",
              "      <td>nah think go usf live</td>\n",
              "    </tr>\n",
              "  </tbody>\n",
              "</table>\n",
              "</div>"
            ],
            "text/plain": [
              "                                                data\n",
              "0  jurong point crazy available bugis n great wor...\n",
              "1                            ok lar joking wif u oni\n",
              "2  free entry wkly comp win fa cup final tkts st ...\n",
              "3                                u dun early hor u c\n",
              "4                              nah think go usf live"
            ]
          },
          "metadata": {
            "tags": []
          },
          "execution_count": 18
        }
      ]
    },
    {
      "cell_type": "code",
      "metadata": {
        "colab": {
          "base_uri": "https://localhost:8080/"
        },
        "id": "HpFV3FfaJTHK",
        "outputId": "63be494b-ce96-45dc-e44e-93e98041cf48"
      },
      "source": [
        "df_clean.shape"
      ],
      "execution_count": 19,
      "outputs": [
        {
          "output_type": "execute_result",
          "data": {
            "text/plain": [
              "(5572, 1)"
            ]
          },
          "metadata": {
            "tags": []
          },
          "execution_count": 19
        }
      ]
    },
    {
      "cell_type": "code",
      "metadata": {
        "id": "3e4njCEc7Ds0"
      },
      "source": [
        "#Gensim Phrases package to automatically detect common phrases (bigrams) from a list of sentences\n",
        "from gensim.models.phrases import Phrases, Phraser"
      ],
      "execution_count": 20,
      "outputs": []
    },
    {
      "cell_type": "code",
      "metadata": {
        "id": "tvrfIUCz7Dxo"
      },
      "source": [
        "messages = [row.split() for row in df_clean['data']]\n",
        "# Reference - https://stackoverflow.com/questions/35716121/how-to-extract-phrases-from-corpus-using-gensim"
      ],
      "execution_count": 21,
      "outputs": []
    },
    {
      "cell_type": "code",
      "metadata": {
        "id": "CR7lecpG7D16"
      },
      "source": [
        "phrases = Phrases(messages, min_count=1, threshold=2)\n",
        "#Phrases() takes a list of list of words as input and Creates the relevant phrases from the list of sentences:\n"
      ],
      "execution_count": 22,
      "outputs": []
    },
    {
      "cell_type": "code",
      "metadata": {
        "id": "fi0jLSJb7D4Q"
      },
      "source": [
        "bigram = Phraser(phrases) #The goal of Phraser() is to cut down memory consumption of Phrases(), by discarding model state not strictly needed for the bigram detection task"
      ],
      "execution_count": 23,
      "outputs": []
    },
    {
      "cell_type": "code",
      "metadata": {
        "id": "pPNwDFN483Yv"
      },
      "source": [
        "words = bigram[messages]"
      ],
      "execution_count": 24,
      "outputs": []
    },
    {
      "cell_type": "code",
      "metadata": {
        "colab": {
          "base_uri": "https://localhost:8080/"
        },
        "id": "sPP0GIl0J2q7",
        "outputId": "7d8f0d59-735a-48c2-8be3-9d933b761379"
      },
      "source": [
        "print(bigram[messages])"
      ],
      "execution_count": 31,
      "outputs": [
        {
          "output_type": "stream",
          "text": [
            "<gensim.interfaces.TransformedCorpus object at 0x7fd7d65bbf50>\n"
          ],
          "name": "stdout"
        }
      ]
    },
    {
      "cell_type": "code",
      "metadata": {
        "id": "-FpeWqRm83gV"
      },
      "source": [
        "# Parameters of word2vec \n",
        "#min_count - ignores all words with total absolute frequency lower than this\n",
        "# window - The maximum distance between the current and predicted word within a sentence\n",
        "#size - Dimensionality of the feature vectors\n",
        "#sample - The threshold for configuring which higher-frequency words are randomly downsampled\n",
        "#alpha - The initial learning rate\n",
        "#min_alpha - Learning rate will linearly drop to min_alpha as training progresses\n",
        "#negative - If > 0, negative sampling will be used, the int for negative specifies how many \"noise words\" should be drown. If set to 0, no negative sampling is used\n"
      ],
      "execution_count": 69,
      "outputs": []
    },
    {
      "cell_type": "code",
      "metadata": {
        "id": "Ud0C5u6NQV1g"
      },
      "source": [
        "w2v_model = Word2Vec(min_count = 1,size = 200)"
      ],
      "execution_count": 95,
      "outputs": []
    },
    {
      "cell_type": "code",
      "metadata": {
        "id": "2Od76shq83qC"
      },
      "source": [
        "w2v_model.build_vocab(words) # Word2Vec requires to build the vocabulary table \n",
        "# Vocabulary table is built by digesting all the words and filtering out the unique words, and doing some basic counts on them"
      ],
      "execution_count": 96,
      "outputs": []
    },
    {
      "cell_type": "code",
      "metadata": {
        "colab": {
          "base_uri": "https://localhost:8080/"
        },
        "id": "q1p9_XmF83xm",
        "outputId": "992165b6-8808-4866-bc23-010e4c91a84c"
      },
      "source": [
        "w2v_model.train(words, total_examples=w2v_model.corpus_count, epochs = 5)\n",
        "# Training the model"
      ],
      "execution_count": 100,
      "outputs": [
        {
          "output_type": "execute_result",
          "data": {
            "text/plain": [
              "(170243, 175805)"
            ]
          },
          "metadata": {
            "tags": []
          },
          "execution_count": 100
        }
      ]
    },
    {
      "cell_type": "code",
      "metadata": {
        "id": "YYqbvziTSAcp"
      },
      "source": [
        "# Validating model using most_similar , similarity between two words and finding odd man out"
      ],
      "execution_count": null,
      "outputs": []
    },
    {
      "cell_type": "code",
      "metadata": {
        "colab": {
          "base_uri": "https://localhost:8080/"
        },
        "id": "8iTBLmMtNdKO",
        "outputId": "ff77654a-ca94-4011-92e9-4aa047445ee6"
      },
      "source": [
        "w2v_model.wv.most_similar(positive= \"come\") # Most similar word with come is u"
      ],
      "execution_count": 101,
      "outputs": [
        {
          "output_type": "execute_result",
          "data": {
            "text/plain": [
              "[('u', 0.8318147659301758),\n",
              " ('get', 0.7915759086608887),\n",
              " ('lt_gt', 0.773722767829895),\n",
              " ('need', 0.7698925137519836),\n",
              " ('send', 0.7641696929931641),\n",
              " ('go', 0.7632730007171631),\n",
              " ('day', 0.762515664100647),\n",
              " ('free', 0.7570209503173828),\n",
              " ('ur', 0.7521324753761292),\n",
              " ('tell', 0.7386791706085205)]"
            ]
          },
          "metadata": {
            "tags": []
          },
          "execution_count": 101
        }
      ]
    },
    {
      "cell_type": "code",
      "metadata": {
        "colab": {
          "base_uri": "https://localhost:8080/"
        },
        "id": "tVZslRy-UChB",
        "outputId": "ab99e232-274d-4b09-a7ce-865a316dd584"
      },
      "source": [
        "w2v_model.similarity('come', 'u') # Good similarity score is observed between tow words"
      ],
      "execution_count": 107,
      "outputs": [
        {
          "output_type": "stream",
          "text": [
            "/usr/local/lib/python3.7/dist-packages/ipykernel_launcher.py:1: DeprecationWarning: Call to deprecated `similarity` (Method will be removed in 4.0.0, use self.wv.similarity() instead).\n",
            "  \"\"\"Entry point for launching an IPython kernel.\n"
          ],
          "name": "stderr"
        },
        {
          "output_type": "execute_result",
          "data": {
            "text/plain": [
              "0.8318147"
            ]
          },
          "metadata": {
            "tags": []
          },
          "execution_count": 107
        }
      ]
    },
    {
      "cell_type": "code",
      "metadata": {
        "colab": {
          "base_uri": "https://localhost:8080/"
        },
        "id": "rPZKw9O7MRJJ",
        "outputId": "398015ba-0bdf-4fb0-d165-4c14bd2e806d"
      },
      "source": [
        "w2v_model.wv.similarity('worry','smile') # It can be observed that there is less correlation between worry and smile"
      ],
      "execution_count": 102,
      "outputs": [
        {
          "output_type": "execute_result",
          "data": {
            "text/plain": [
              "0.1309084"
            ]
          },
          "metadata": {
            "tags": []
          },
          "execution_count": 102
        }
      ]
    },
    {
      "cell_type": "code",
      "metadata": {
        "id": "eArC8vW3SHZb"
      },
      "source": [
        "# Validating model by finding odd man out "
      ],
      "execution_count": null,
      "outputs": []
    },
    {
      "cell_type": "code",
      "metadata": {
        "colab": {
          "base_uri": "https://localhost:8080/",
          "height": 90
        },
        "id": "l7lPNyotP7qA",
        "outputId": "63c287a7-7a68-4f8a-9734-9b633b1a641d"
      },
      "source": [
        "w2v_model.wv.doesnt_match(['smile', 'baby', 'laugh']) # It can be observed that baby is odd man out among (smile, baby, laugh)"
      ],
      "execution_count": 78,
      "outputs": [
        {
          "output_type": "stream",
          "text": [
            "/usr/local/lib/python3.7/dist-packages/gensim/models/keyedvectors.py:895: FutureWarning: arrays to stack must be passed as a \"sequence\" type such as list or tuple. Support for non-sequence iterables such as generators is deprecated as of NumPy 1.16 and will raise an error in the future.\n",
            "  vectors = vstack(self.word_vec(word, use_norm=True) for word in used_words).astype(REAL)\n"
          ],
          "name": "stderr"
        },
        {
          "output_type": "execute_result",
          "data": {
            "application/vnd.google.colaboratory.intrinsic+json": {
              "type": "string"
            },
            "text/plain": [
              "'baby'"
            ]
          },
          "metadata": {
            "tags": []
          },
          "execution_count": 78
        }
      ]
    },
    {
      "cell_type": "code",
      "metadata": {
        "id": "je-5cHWi_zOG"
      },
      "source": [
        "#word2vec is shallow Neural Network with a single hidden layer that takes in a word as input and tries to predict the context of the words that surround it as an output"
      ],
      "execution_count": null,
      "outputs": []
    },
    {
      "cell_type": "code",
      "metadata": {
        "colab": {
          "base_uri": "https://localhost:8080/"
        },
        "id": "J-bcxkCs_jpN",
        "outputId": "ccc76903-7380-444c-98bd-79f173216eec"
      },
      "source": [
        "#Converting words to vector using TF-IDF Vectorizer\n",
        "from sklearn.feature_extraction.text import TfidfVectorizer\n",
        "vectorizer = TfidfVectorizer()\n",
        "vectors = vectorizer.fit_transform(df_clean['data'])\n",
        "print(vectors.shape)\n",
        " \n",
        "#features = word_vectors\n",
        "features = vectors # Word vectors are saved as features"
      ],
      "execution_count": 108,
      "outputs": [
        {
          "output_type": "stream",
          "text": [
            "(5572, 6440)\n"
          ],
          "name": "stdout"
        }
      ]
    },
    {
      "cell_type": "code",
      "metadata": {
        "id": "uuhF2JCWWyfo"
      },
      "source": [
        "#Two techniques for conversion of words to vectors are Bag of Words and TF-IDF Vectorizer.\n",
        "#The problem with a bag of words is that it assigns the same importance value(Weights) to all the words. \n",
        "#This is resolved when we TF-IDF as it assigns different weights to the words."
      ],
      "execution_count": null,
      "outputs": []
    },
    {
      "cell_type": "code",
      "metadata": {
        "id": "ZrTeMCI5_jzG"
      },
      "source": [
        "X_train, X_test, y_train, y_test = train_test_split(features, df['v1'], test_size=0.15, random_state=10)# Splitting word vectors and labels"
      ],
      "execution_count": 109,
      "outputs": []
    },
    {
      "cell_type": "code",
      "metadata": {
        "colab": {
          "base_uri": "https://localhost:8080/"
        },
        "id": "93dKqv5LFn-o",
        "outputId": "87715b16-6738-429f-994d-67614573520d"
      },
      "source": [
        "!pip install scikit-plot\n"
      ],
      "execution_count": 111,
      "outputs": [
        {
          "output_type": "stream",
          "text": [
            "Collecting scikit-plot\n",
            "  Downloading https://files.pythonhosted.org/packages/7c/47/32520e259340c140a4ad27c1b97050dd3254fdc517b1d59974d47037510e/scikit_plot-0.3.7-py3-none-any.whl\n",
            "Requirement already satisfied: scikit-learn>=0.18 in /usr/local/lib/python3.7/dist-packages (from scikit-plot) (0.22.2.post1)\n",
            "Requirement already satisfied: scipy>=0.9 in /usr/local/lib/python3.7/dist-packages (from scikit-plot) (1.4.1)\n",
            "Requirement already satisfied: matplotlib>=1.4.0 in /usr/local/lib/python3.7/dist-packages (from scikit-plot) (3.2.2)\n",
            "Requirement already satisfied: joblib>=0.10 in /usr/local/lib/python3.7/dist-packages (from scikit-plot) (1.0.1)\n",
            "Requirement already satisfied: numpy>=1.11.0 in /usr/local/lib/python3.7/dist-packages (from scikit-learn>=0.18->scikit-plot) (1.19.5)\n",
            "Requirement already satisfied: cycler>=0.10 in /usr/local/lib/python3.7/dist-packages (from matplotlib>=1.4.0->scikit-plot) (0.10.0)\n",
            "Requirement already satisfied: pyparsing!=2.0.4,!=2.1.2,!=2.1.6,>=2.0.1 in /usr/local/lib/python3.7/dist-packages (from matplotlib>=1.4.0->scikit-plot) (2.4.7)\n",
            "Requirement already satisfied: kiwisolver>=1.0.1 in /usr/local/lib/python3.7/dist-packages (from matplotlib>=1.4.0->scikit-plot) (1.3.1)\n",
            "Requirement already satisfied: python-dateutil>=2.1 in /usr/local/lib/python3.7/dist-packages (from matplotlib>=1.4.0->scikit-plot) (2.8.1)\n",
            "Requirement already satisfied: six in /usr/local/lib/python3.7/dist-packages (from cycler>=0.10->matplotlib>=1.4.0->scikit-plot) (1.15.0)\n",
            "Installing collected packages: scikit-plot\n",
            "Successfully installed scikit-plot-0.3.7\n"
          ],
          "name": "stdout"
        }
      ]
    },
    {
      "cell_type": "code",
      "metadata": {
        "colab": {
          "base_uri": "https://localhost:8080/"
        },
        "id": "QgeT_zqV_j7V",
        "outputId": "810f7c83-eecf-4977-a35b-07bc0eec8534"
      },
      "source": [
        "from sklearn.metrics import accuracy_score\n",
        "from sklearn.svm import SVC\n",
        "import scikitplot as skplt\n",
        "from sklearn import svm\n",
        "from sklearn.metrics import accuracy_score, confusion_matrix, classification_report\n",
        "\n",
        "model = SVC(kernel = 'sigmoid', gamma = 1.0) # SVC model is initilaised with kernel = sigmoid\n",
        "model.fit(X_train, y_train)\n",
        "\n",
        "prediction = model.predict(X_test)\n",
        "accuracy_score(y_test, prediction)"
      ],
      "execution_count": 112,
      "outputs": [
        {
          "output_type": "execute_result",
          "data": {
            "text/plain": [
              "0.9820574162679426"
            ]
          },
          "metadata": {
            "tags": []
          },
          "execution_count": 112
        }
      ]
    },
    {
      "cell_type": "code",
      "metadata": {
        "colab": {
          "base_uri": "https://localhost:8080/",
          "height": 608
        },
        "id": "qYVkserME8Pj",
        "outputId": "3bc8fd8d-8a74-46d7-d320-1e0b6116e839"
      },
      "source": [
        "confusion_matrix_SVM = confusion_matrix(y_test,prediction,labels=[\"ham\",\"spam\"] )\n",
        "skplt.metrics.plot_confusion_matrix(y_test,prediction, normalize=False)\n",
        "skplt.metrics.plot_confusion_matrix(y_test,prediction, normalize=True)\n",
        "\n",
        "print('confusion_matrix_SVM: ', confusion_matrix_SVM)\n",
        "plt.show()"
      ],
      "execution_count": 108,
      "outputs": [
        {
          "output_type": "stream",
          "text": [
            "confusion_matrix_SVM:  [[724   1]\n",
            " [  7 104]]\n"
          ],
          "name": "stdout"
        },
        {
          "output_type": "display_data",
          "data": {
            "image/png": "[encoded data removed]",
            "text/plain": [
              "<Figure size 432x288 with 2 Axes>"
            ]
          },
          "metadata": {
            "tags": [],
            "needs_background": "light"
          }
        },
        {
          "output_type": "display_data",
          "data": {
            "image/png": "[encoded data removed]",
            "text/plain": [
              "<Figure size 432x288 with 2 Axes>"
            ]
          },
          "metadata": {
            "tags": [],
            "needs_background": "light"
          }
        }
      ]
    },
    {
      "cell_type": "code",
      "metadata": {
        "colab": {
          "base_uri": "https://localhost:8080/"
        },
        "id": "t56lEpPiVjrt",
        "outputId": "f4d7cd06-9f59-4a94-cd62-44f1c9a6e259"
      },
      "source": [
        "print(classification_report(y_test, prediction))"
      ],
      "execution_count": 114,
      "outputs": [
        {
          "output_type": "stream",
          "text": [
            "              precision    recall  f1-score   support\n",
            "\n",
            "         ham       0.98      1.00      0.99       727\n",
            "        spam       1.00      0.86      0.93       109\n",
            "\n",
            "    accuracy                           0.98       836\n",
            "   macro avg       0.99      0.93      0.96       836\n",
            "weighted avg       0.98      0.98      0.98       836\n",
            "\n"
          ],
          "name": "stdout"
        }
      ]
    },
    {
      "cell_type": "code",
      "metadata": {
        "id": "z4v0HD-B_kDr"
      },
      "source": [
        "# using Random forest calssifier\n",
        "from sklearn.ensemble import RandomForestClassifier\n",
        "model = RandomForestClassifier()\n"
      ],
      "execution_count": 115,
      "outputs": []
    },
    {
      "cell_type": "code",
      "metadata": {
        "colab": {
          "base_uri": "https://localhost:8080/"
        },
        "id": "n2Qzw6LLFxeu",
        "outputId": "47c3189c-69cd-477b-ef95-b71f477e06ff"
      },
      "source": [
        "model.fit(X_train, y_train)\n",
        "\n",
        "prediction = model.predict(X_test)\n",
        "accuracy_score(y_test, prediction)"
      ],
      "execution_count": 116,
      "outputs": [
        {
          "output_type": "execute_result",
          "data": {
            "text/plain": [
              "0.9760765550239234"
            ]
          },
          "metadata": {
            "tags": []
          },
          "execution_count": 116
        }
      ]
    },
    {
      "cell_type": "code",
      "metadata": {
        "colab": {
          "base_uri": "https://localhost:8080/",
          "height": 608
        },
        "id": "GVNjk2HWFxnE",
        "outputId": "46700900-803a-4ff3-d54f-7a37c58d51c1"
      },
      "source": [
        "confusion_matrix_SVM = confusion_matrix(y_test,prediction,labels=[\"ham\",\"spam\"] )\n",
        "skplt.metrics.plot_confusion_matrix(y_test,prediction, normalize=False)\n",
        "skplt.metrics.plot_confusion_matrix(y_test,prediction, normalize=True)\n",
        "\n",
        "print('confusion_matrix_SVM: ', confusion_matrix_SVM)\n",
        "plt.show()"
      ],
      "execution_count": 117,
      "outputs": [
        {
          "output_type": "stream",
          "text": [
            "confusion_matrix_SVM:  [[727   0]\n",
            " [ 20  89]]\n"
          ],
          "name": "stdout"
        },
        {
          "output_type": "display_data",
          "data": {
            "image/png": "[encoded data removed]",
            "text/plain": [
              "<Figure size 432x288 with 2 Axes>"
            ]
          },
          "metadata": {
            "tags": [],
            "needs_background": "light"
          }
        },
        {
          "output_type": "display_data",
          "data": {
            "image/png": "[encoded data removed]",
            "text/plain": [
              "<Figure size 432x288 with 2 Axes>"
            ]
          },
          "metadata": {
            "tags": [],
            "needs_background": "light"
          }
        }
      ]
    },
    {
      "cell_type": "code",
      "metadata": {
        "colab": {
          "base_uri": "https://localhost:8080/"
        },
        "id": "1OfR-uTmvASu",
        "outputId": "8fc10ef2-abb0-462e-d388-ec3ba74212d0"
      },
      "source": [
        "print(classification_report(y_test, prediction))"
      ],
      "execution_count": 119,
      "outputs": [
        {
          "output_type": "stream",
          "text": [
            "              precision    recall  f1-score   support\n",
            "\n",
            "         ham       0.97      1.00      0.99       727\n",
            "        spam       1.00      0.82      0.90       109\n",
            "\n",
            "    accuracy                           0.98       836\n",
            "   macro avg       0.99      0.91      0.94       836\n",
            "weighted avg       0.98      0.98      0.98       836\n",
            "\n"
          ],
          "name": "stdout"
        }
      ]
    },
    {
      "cell_type": "code",
      "metadata": {
        "id": "ISSJ-a5sL6ny"
      },
      "source": [
        "#Reference for below implementation - https://kgptalkie.com/nlp-tutorial"
      ],
      "execution_count": null,
      "outputs": []
    },
    {
      "cell_type": "code",
      "metadata": {
        "id": "ir__7kxSHyA4"
      },
      "source": [
        "df_2 = df.iloc[:,0:2]"
      ],
      "execution_count": 127,
      "outputs": []
    },
    {
      "cell_type": "code",
      "metadata": {
        "colab": {
          "base_uri": "https://localhost:8080/",
          "height": 204
        },
        "id": "YM_lAC2uTChE",
        "outputId": "e32d09fa-313b-4852-d20c-909903db2772"
      },
      "source": [
        "df_2.head()"
      ],
      "execution_count": 128,
      "outputs": [
        {
          "output_type": "execute_result",
          "data": {
            "text/html": [
              "<div>\n",
              "<style scoped>\n",
              "    .dataframe tbody tr th:only-of-type {\n",
              "        vertical-align: middle;\n",
              "    }\n",
              "\n",
              "    .dataframe tbody tr th {\n",
              "        vertical-align: top;\n",
              "    }\n",
              "\n",
              "    .dataframe thead th {\n",
              "        text-align: right;\n",
              "    }\n",
              "</style>\n",
              "<table border=\"1\" class=\"dataframe\">\n",
              "  <thead>\n",
              "    <tr style=\"text-align: right;\">\n",
              "      <th></th>\n",
              "      <th>v1</th>\n",
              "      <th>v2</th>\n",
              "    </tr>\n",
              "  </thead>\n",
              "  <tbody>\n",
              "    <tr>\n",
              "      <th>0</th>\n",
              "      <td>ham</td>\n",
              "      <td>Go until jurong point, crazy.. Available only ...</td>\n",
              "    </tr>\n",
              "    <tr>\n",
              "      <th>1</th>\n",
              "      <td>ham</td>\n",
              "      <td>Ok lar... Joking wif u oni...</td>\n",
              "    </tr>\n",
              "    <tr>\n",
              "      <th>2</th>\n",
              "      <td>spam</td>\n",
              "      <td>Free entry in 2 a wkly comp to win FA Cup fina...</td>\n",
              "    </tr>\n",
              "    <tr>\n",
              "      <th>3</th>\n",
              "      <td>ham</td>\n",
              "      <td>U dun say so early hor... U c already then say...</td>\n",
              "    </tr>\n",
              "    <tr>\n",
              "      <th>4</th>\n",
              "      <td>ham</td>\n",
              "      <td>Nah I don't think he goes to usf, he lives aro...</td>\n",
              "    </tr>\n",
              "  </tbody>\n",
              "</table>\n",
              "</div>"
            ],
            "text/plain": [
              "     v1                                                 v2\n",
              "0   ham  Go until jurong point, crazy.. Available only ...\n",
              "1   ham                      Ok lar... Joking wif u oni...\n",
              "2  spam  Free entry in 2 a wkly comp to win FA Cup fina...\n",
              "3   ham  U dun say so early hor... U c already then say...\n",
              "4   ham  Nah I don't think he goes to usf, he lives aro..."
            ]
          },
          "metadata": {
            "tags": []
          },
          "execution_count": 128
        }
      ]
    },
    {
      "cell_type": "code",
      "metadata": {
        "id": "syk6wyUZHyLd"
      },
      "source": [
        "ham = df_2[df_2['v1']=='ham']"
      ],
      "execution_count": 129,
      "outputs": []
    },
    {
      "cell_type": "code",
      "metadata": {
        "colab": {
          "base_uri": "https://localhost:8080/"
        },
        "id": "9kMiu2rsK7Lf",
        "outputId": "680b7f91-3234-4d82-e137-58f361702612"
      },
      "source": [
        "ham.shape"
      ],
      "execution_count": 130,
      "outputs": [
        {
          "output_type": "execute_result",
          "data": {
            "text/plain": [
              "(4825, 2)"
            ]
          },
          "metadata": {
            "tags": []
          },
          "execution_count": 130
        }
      ]
    },
    {
      "cell_type": "code",
      "metadata": {
        "id": "_Jagd-QKHyUy"
      },
      "source": [
        "spam = df_2[df_2['v1']=='spam']"
      ],
      "execution_count": 131,
      "outputs": []
    },
    {
      "cell_type": "code",
      "metadata": {
        "colab": {
          "base_uri": "https://localhost:8080/"
        },
        "id": "TMjDrkj4K-ZC",
        "outputId": "a66caea7-dd19-4021-bdc9-e4100cda1937"
      },
      "source": [
        "spam.shape"
      ],
      "execution_count": 132,
      "outputs": [
        {
          "output_type": "execute_result",
          "data": {
            "text/plain": [
              "(747, 2)"
            ]
          },
          "metadata": {
            "tags": []
          },
          "execution_count": 132
        }
      ]
    },
    {
      "cell_type": "code",
      "metadata": {
        "id": "YXSgvdBZLCCs"
      },
      "source": [
        "# ham labels are greater in number than spam labels. Hence choosing random ham samples equal to number of spam samples"
      ],
      "execution_count": 97,
      "outputs": []
    },
    {
      "cell_type": "code",
      "metadata": {
        "id": "dE1upTqkIl0d"
      },
      "source": [
        "ham = ham.sample(spam.shape[0])"
      ],
      "execution_count": 133,
      "outputs": []
    },
    {
      "cell_type": "code",
      "metadata": {
        "colab": {
          "base_uri": "https://localhost:8080/"
        },
        "id": "5E4PZB-iKxS2",
        "outputId": "e2f2b982-ba1e-4cfa-cd6b-78aa9277a840"
      },
      "source": [
        "spam.shape"
      ],
      "execution_count": 134,
      "outputs": [
        {
          "output_type": "execute_result",
          "data": {
            "text/plain": [
              "(747, 2)"
            ]
          },
          "metadata": {
            "tags": []
          },
          "execution_count": 134
        }
      ]
    },
    {
      "cell_type": "code",
      "metadata": {
        "colab": {
          "base_uri": "https://localhost:8080/"
        },
        "id": "Ot5rr3Y7LnVQ",
        "outputId": "0e58c536-7860-4829-ed6e-af415fe69663"
      },
      "source": [
        "ham.shape"
      ],
      "execution_count": 135,
      "outputs": [
        {
          "output_type": "execute_result",
          "data": {
            "text/plain": [
              "(747, 2)"
            ]
          },
          "metadata": {
            "tags": []
          },
          "execution_count": 135
        }
      ]
    },
    {
      "cell_type": "code",
      "metadata": {
        "id": "GMi4qnt5IQHR"
      },
      "source": [
        "# Adding spam and ham labels to dataframe\n",
        "data_2 = ham.append(spam, ignore_index=True)"
      ],
      "execution_count": 136,
      "outputs": []
    },
    {
      "cell_type": "code",
      "metadata": {
        "colab": {
          "base_uri": "https://localhost:8080/",
          "height": 204
        },
        "id": "siyfdt0lIQQi",
        "outputId": "8c75c354-56e4-4d27-fe02-e119003b1647"
      },
      "source": [
        "data_2.head()"
      ],
      "execution_count": 137,
      "outputs": [
        {
          "output_type": "execute_result",
          "data": {
            "text/html": [
              "<div>\n",
              "<style scoped>\n",
              "    .dataframe tbody tr th:only-of-type {\n",
              "        vertical-align: middle;\n",
              "    }\n",
              "\n",
              "    .dataframe tbody tr th {\n",
              "        vertical-align: top;\n",
              "    }\n",
              "\n",
              "    .dataframe thead th {\n",
              "        text-align: right;\n",
              "    }\n",
              "</style>\n",
              "<table border=\"1\" class=\"dataframe\">\n",
              "  <thead>\n",
              "    <tr style=\"text-align: right;\">\n",
              "      <th></th>\n",
              "      <th>v1</th>\n",
              "      <th>v2</th>\n",
              "    </tr>\n",
              "  </thead>\n",
              "  <tbody>\n",
              "    <tr>\n",
              "      <th>0</th>\n",
              "      <td>ham</td>\n",
              "      <td>LOL what happens in Vegas stays in vegas</td>\n",
              "    </tr>\n",
              "    <tr>\n",
              "      <th>1</th>\n",
              "      <td>ham</td>\n",
              "      <td>Can i get your opinion on something first?</td>\n",
              "    </tr>\n",
              "    <tr>\n",
              "      <th>2</th>\n",
              "      <td>ham</td>\n",
              "      <td>Sweetheart, hope you are not having that kind ...</td>\n",
              "    </tr>\n",
              "    <tr>\n",
              "      <th>3</th>\n",
              "      <td>ham</td>\n",
              "      <td>That's necessarily respectful</td>\n",
              "    </tr>\n",
              "    <tr>\n",
              "      <th>4</th>\n",
              "      <td>ham</td>\n",
              "      <td>Dude got a haircut. Now its breezy up there</td>\n",
              "    </tr>\n",
              "  </tbody>\n",
              "</table>\n",
              "</div>"
            ],
            "text/plain": [
              "    v1                                                 v2\n",
              "0  ham           LOL what happens in Vegas stays in vegas\n",
              "1  ham         Can i get your opinion on something first?\n",
              "2  ham  Sweetheart, hope you are not having that kind ...\n",
              "3  ham                      That's necessarily respectful\n",
              "4  ham        Dude got a haircut. Now its breezy up there"
            ]
          },
          "metadata": {
            "tags": []
          },
          "execution_count": 137
        }
      ]
    },
    {
      "cell_type": "code",
      "metadata": {
        "id": "JJOmMPkhI8KX"
      },
      "source": [
        "text_2 = data_2['v2']\n"
      ],
      "execution_count": 138,
      "outputs": []
    },
    {
      "cell_type": "code",
      "metadata": {
        "id": "VgSQCPaNI8Ur"
      },
      "source": [
        "#Tokenizing words\n",
        "messages=[]\n",
        "for i in range(data_2.shape[0]):\n",
        "    text1=word_tokenize(text_2[i])\n",
        "    messages =text1+messages"
      ],
      "execution_count": 139,
      "outputs": []
    },
    {
      "cell_type": "code",
      "metadata": {
        "id": "s5XeJT6AI8cU"
      },
      "source": [
        "#convert text data to word embeddings using Word2vec\n",
        "model_2 = gensim.models.Word2Vec(messages, size=100, workers=4, min_count=1)"
      ],
      "execution_count": 140,
      "outputs": []
    },
    {
      "cell_type": "code",
      "metadata": {
        "id": "IKld1o_4IQXP"
      },
      "source": [
        "words_2 =list(model_2.wv.vocab)\n"
      ],
      "execution_count": 141,
      "outputs": []
    },
    {
      "cell_type": "code",
      "metadata": {
        "id": "UsSE1wQ5SnQY"
      },
      "source": [
        "#After converting each word to vector (embedding) take average of all word vectors to obtain vector for message \n",
        "# this is final feature vector for message"
      ],
      "execution_count": null,
      "outputs": []
    },
    {
      "cell_type": "code",
      "metadata": {
        "id": "bPLO3-84JXCm"
      },
      "source": [
        "def word_2_vec(x):\n",
        "    t1=word_tokenize(x)\n",
        "    model_2[t1]\n",
        "    v=list(map(lambda y: sum(y)/len(y), zip(*model_2[t1])))\n",
        "    a=np.array(v)\n",
        "    return a.reshape(1,-1)"
      ],
      "execution_count": 142,
      "outputs": []
    },
    {
      "cell_type": "code",
      "metadata": {
        "id": "Ig_OGk5AS10X"
      },
      "source": [
        "#Applying word2vec to each text message"
      ],
      "execution_count": null,
      "outputs": []
    },
    {
      "cell_type": "code",
      "metadata": {
        "id": "UvntsgZJTrZi"
      },
      "source": [
        "data_2['vec']=data_2['v2'].apply(lambda x: word_2_vec(x))"
      ],
      "execution_count": null,
      "outputs": []
    },
    {
      "cell_type": "code",
      "metadata": {
        "colab": {
          "base_uri": "https://localhost:8080/",
          "height": 204
        },
        "id": "8T2V6c4VJXOu",
        "outputId": "d6ebfa9a-8685-4481-cd35-65b135c6cb9b"
      },
      "source": [
        "data_2.head()"
      ],
      "execution_count": 82,
      "outputs": [
        {
          "output_type": "execute_result",
          "data": {
            "text/html": [
              "<div>\n",
              "<style scoped>\n",
              "    .dataframe tbody tr th:only-of-type {\n",
              "        vertical-align: middle;\n",
              "    }\n",
              "\n",
              "    .dataframe tbody tr th {\n",
              "        vertical-align: top;\n",
              "    }\n",
              "\n",
              "    .dataframe thead th {\n",
              "        text-align: right;\n",
              "    }\n",
              "</style>\n",
              "<table border=\"1\" class=\"dataframe\">\n",
              "  <thead>\n",
              "    <tr style=\"text-align: right;\">\n",
              "      <th></th>\n",
              "      <th>v1</th>\n",
              "      <th>v2</th>\n",
              "      <th>vec</th>\n",
              "    </tr>\n",
              "  </thead>\n",
              "  <tbody>\n",
              "    <tr>\n",
              "      <th>0</th>\n",
              "      <td>ham</td>\n",
              "      <td>Send his number and give reply tomorrow mornin...</td>\n",
              "      <td>[[0.018334430416871328, -0.023080198327887855,...</td>\n",
              "    </tr>\n",
              "    <tr>\n",
              "      <th>1</th>\n",
              "      <td>ham</td>\n",
              "      <td>Then why you not responding</td>\n",
              "      <td>[[0.010720941575709731, -0.013036874152021483,...</td>\n",
              "    </tr>\n",
              "    <tr>\n",
              "      <th>2</th>\n",
              "      <td>ham</td>\n",
              "      <td>Hi mate its RV did u hav a nice hol just a mes...</td>\n",
              "      <td>[[0.015456565684519686, -0.01820593677187008, ...</td>\n",
              "    </tr>\n",
              "    <tr>\n",
              "      <th>3</th>\n",
              "      <td>ham</td>\n",
              "      <td>Hi hope u get this txt~journey hasnt been gd,n...</td>\n",
              "      <td>[[0.02273194753959413, -0.027969391810377903, ...</td>\n",
              "    </tr>\n",
              "    <tr>\n",
              "      <th>4</th>\n",
              "      <td>ham</td>\n",
              "      <td>U're welcome... Caught u using broken english ...</td>\n",
              "      <td>[[0.008403663136877267, -0.009820819091559812,...</td>\n",
              "    </tr>\n",
              "  </tbody>\n",
              "</table>\n",
              "</div>"
            ],
            "text/plain": [
              "    v1  ...                                                vec\n",
              "0  ham  ...  [[0.018334430416871328, -0.023080198327887855,...\n",
              "1  ham  ...  [[0.010720941575709731, -0.013036874152021483,...\n",
              "2  ham  ...  [[0.015456565684519686, -0.01820593677187008, ...\n",
              "3  ham  ...  [[0.02273194753959413, -0.027969391810377903, ...\n",
              "4  ham  ...  [[0.008403663136877267, -0.009820819091559812,...\n",
              "\n",
              "[5 rows x 3 columns]"
            ]
          },
          "metadata": {
            "tags": []
          },
          "execution_count": 82
        }
      ]
    },
    {
      "cell_type": "code",
      "metadata": {
        "id": "vWR_QgzVJrod"
      },
      "source": [
        "#Converting each feature vector into dataframe"
      ],
      "execution_count": null,
      "outputs": []
    },
    {
      "cell_type": "code",
      "metadata": {
        "id": "89KVI57TJr0c"
      },
      "source": [
        "w_vec=np.concatenate(data_2['vec'].to_numpy(), axis=0)"
      ],
      "execution_count": 83,
      "outputs": []
    },
    {
      "cell_type": "code",
      "metadata": {
        "id": "IwR6Z2QLJr9n"
      },
      "source": [
        "word_vec_df=pd.DataFrame(w_vec)"
      ],
      "execution_count": 84,
      "outputs": []
    },
    {
      "cell_type": "code",
      "metadata": {
        "colab": {
          "base_uri": "https://localhost:8080/",
          "height": 253
        },
        "id": "6T6lol27J3yU",
        "outputId": "1be9702b-301a-41b1-efaa-8228b34c1acb"
      },
      "source": [
        "word_vec_df.head()"
      ],
      "execution_count": 85,
      "outputs": [
        {
          "output_type": "execute_result",
          "data": {
            "text/html": [
              "<div>\n",
              "<style scoped>\n",
              "    .dataframe tbody tr th:only-of-type {\n",
              "        vertical-align: middle;\n",
              "    }\n",
              "\n",
              "    .dataframe tbody tr th {\n",
              "        vertical-align: top;\n",
              "    }\n",
              "\n",
              "    .dataframe thead th {\n",
              "        text-align: right;\n",
              "    }\n",
              "</style>\n",
              "<table border=\"1\" class=\"dataframe\">\n",
              "  <thead>\n",
              "    <tr style=\"text-align: right;\">\n",
              "      <th></th>\n",
              "      <th>0</th>\n",
              "      <th>1</th>\n",
              "      <th>2</th>\n",
              "      <th>3</th>\n",
              "      <th>4</th>\n",
              "      <th>5</th>\n",
              "      <th>6</th>\n",
              "      <th>7</th>\n",
              "      <th>8</th>\n",
              "      <th>9</th>\n",
              "      <th>10</th>\n",
              "      <th>11</th>\n",
              "      <th>12</th>\n",
              "      <th>13</th>\n",
              "      <th>14</th>\n",
              "      <th>15</th>\n",
              "      <th>16</th>\n",
              "      <th>17</th>\n",
              "      <th>18</th>\n",
              "      <th>19</th>\n",
              "      <th>20</th>\n",
              "      <th>21</th>\n",
              "      <th>22</th>\n",
              "      <th>23</th>\n",
              "      <th>24</th>\n",
              "      <th>25</th>\n",
              "      <th>26</th>\n",
              "      <th>27</th>\n",
              "      <th>28</th>\n",
              "      <th>29</th>\n",
              "      <th>30</th>\n",
              "      <th>31</th>\n",
              "      <th>32</th>\n",
              "      <th>33</th>\n",
              "      <th>34</th>\n",
              "      <th>35</th>\n",
              "      <th>36</th>\n",
              "      <th>37</th>\n",
              "      <th>38</th>\n",
              "      <th>39</th>\n",
              "      <th>...</th>\n",
              "      <th>60</th>\n",
              "      <th>61</th>\n",
              "      <th>62</th>\n",
              "      <th>63</th>\n",
              "      <th>64</th>\n",
              "      <th>65</th>\n",
              "      <th>66</th>\n",
              "      <th>67</th>\n",
              "      <th>68</th>\n",
              "      <th>69</th>\n",
              "      <th>70</th>\n",
              "      <th>71</th>\n",
              "      <th>72</th>\n",
              "      <th>73</th>\n",
              "      <th>74</th>\n",
              "      <th>75</th>\n",
              "      <th>76</th>\n",
              "      <th>77</th>\n",
              "      <th>78</th>\n",
              "      <th>79</th>\n",
              "      <th>80</th>\n",
              "      <th>81</th>\n",
              "      <th>82</th>\n",
              "      <th>83</th>\n",
              "      <th>84</th>\n",
              "      <th>85</th>\n",
              "      <th>86</th>\n",
              "      <th>87</th>\n",
              "      <th>88</th>\n",
              "      <th>89</th>\n",
              "      <th>90</th>\n",
              "      <th>91</th>\n",
              "      <th>92</th>\n",
              "      <th>93</th>\n",
              "      <th>94</th>\n",
              "      <th>95</th>\n",
              "      <th>96</th>\n",
              "      <th>97</th>\n",
              "      <th>98</th>\n",
              "      <th>99</th>\n",
              "    </tr>\n",
              "  </thead>\n",
              "  <tbody>\n",
              "    <tr>\n",
              "      <th>0</th>\n",
              "      <td>0.018334</td>\n",
              "      <td>-0.023080</td>\n",
              "      <td>0.024694</td>\n",
              "      <td>0.011517</td>\n",
              "      <td>0.000799</td>\n",
              "      <td>0.008874</td>\n",
              "      <td>-0.020987</td>\n",
              "      <td>-0.006058</td>\n",
              "      <td>0.029769</td>\n",
              "      <td>-0.011209</td>\n",
              "      <td>0.004067</td>\n",
              "      <td>-0.007297</td>\n",
              "      <td>0.009524</td>\n",
              "      <td>-0.000980</td>\n",
              "      <td>0.020065</td>\n",
              "      <td>0.017235</td>\n",
              "      <td>0.014922</td>\n",
              "      <td>-0.028971</td>\n",
              "      <td>0.004684</td>\n",
              "      <td>0.010424</td>\n",
              "      <td>-0.020704</td>\n",
              "      <td>-0.018246</td>\n",
              "      <td>0.010459</td>\n",
              "      <td>-0.005632</td>\n",
              "      <td>0.003842</td>\n",
              "      <td>0.028545</td>\n",
              "      <td>0.006994</td>\n",
              "      <td>-0.009444</td>\n",
              "      <td>-0.015444</td>\n",
              "      <td>-0.015670</td>\n",
              "      <td>-0.016128</td>\n",
              "      <td>0.001351</td>\n",
              "      <td>0.008183</td>\n",
              "      <td>0.031153</td>\n",
              "      <td>0.005435</td>\n",
              "      <td>-0.002942</td>\n",
              "      <td>0.010080</td>\n",
              "      <td>-0.014864</td>\n",
              "      <td>0.001886</td>\n",
              "      <td>-0.005087</td>\n",
              "      <td>...</td>\n",
              "      <td>-0.000853</td>\n",
              "      <td>-0.024347</td>\n",
              "      <td>-0.013055</td>\n",
              "      <td>-0.021227</td>\n",
              "      <td>-0.007817</td>\n",
              "      <td>-0.009629</td>\n",
              "      <td>-0.008063</td>\n",
              "      <td>0.010862</td>\n",
              "      <td>0.029744</td>\n",
              "      <td>0.007734</td>\n",
              "      <td>0.027581</td>\n",
              "      <td>0.026880</td>\n",
              "      <td>-0.017241</td>\n",
              "      <td>-0.000875</td>\n",
              "      <td>-0.001896</td>\n",
              "      <td>0.007728</td>\n",
              "      <td>-0.008628</td>\n",
              "      <td>-0.008625</td>\n",
              "      <td>-0.016590</td>\n",
              "      <td>0.008577</td>\n",
              "      <td>0.013996</td>\n",
              "      <td>0.012590</td>\n",
              "      <td>0.002796</td>\n",
              "      <td>0.021536</td>\n",
              "      <td>0.009059</td>\n",
              "      <td>-0.008996</td>\n",
              "      <td>0.016909</td>\n",
              "      <td>0.015685</td>\n",
              "      <td>-0.018266</td>\n",
              "      <td>-0.003526</td>\n",
              "      <td>0.014797</td>\n",
              "      <td>-0.016230</td>\n",
              "      <td>0.002484</td>\n",
              "      <td>-0.003261</td>\n",
              "      <td>0.015706</td>\n",
              "      <td>0.006945</td>\n",
              "      <td>-0.009809</td>\n",
              "      <td>0.006773</td>\n",
              "      <td>0.031186</td>\n",
              "      <td>0.009190</td>\n",
              "    </tr>\n",
              "    <tr>\n",
              "      <th>1</th>\n",
              "      <td>0.010721</td>\n",
              "      <td>-0.013037</td>\n",
              "      <td>0.018563</td>\n",
              "      <td>0.009379</td>\n",
              "      <td>-0.000254</td>\n",
              "      <td>0.005794</td>\n",
              "      <td>-0.015788</td>\n",
              "      <td>-0.005305</td>\n",
              "      <td>0.016132</td>\n",
              "      <td>-0.008542</td>\n",
              "      <td>0.000714</td>\n",
              "      <td>-0.005054</td>\n",
              "      <td>0.006517</td>\n",
              "      <td>0.001032</td>\n",
              "      <td>0.011397</td>\n",
              "      <td>0.013565</td>\n",
              "      <td>0.009991</td>\n",
              "      <td>-0.019484</td>\n",
              "      <td>0.001507</td>\n",
              "      <td>0.005126</td>\n",
              "      <td>-0.015212</td>\n",
              "      <td>-0.010616</td>\n",
              "      <td>0.006406</td>\n",
              "      <td>-0.003627</td>\n",
              "      <td>0.003945</td>\n",
              "      <td>0.015873</td>\n",
              "      <td>0.003891</td>\n",
              "      <td>-0.006575</td>\n",
              "      <td>-0.011441</td>\n",
              "      <td>-0.009620</td>\n",
              "      <td>-0.009988</td>\n",
              "      <td>0.001478</td>\n",
              "      <td>0.004160</td>\n",
              "      <td>0.018612</td>\n",
              "      <td>0.000863</td>\n",
              "      <td>-0.003586</td>\n",
              "      <td>0.005725</td>\n",
              "      <td>-0.007537</td>\n",
              "      <td>0.002943</td>\n",
              "      <td>-0.003511</td>\n",
              "      <td>...</td>\n",
              "      <td>0.001491</td>\n",
              "      <td>-0.017379</td>\n",
              "      <td>-0.006125</td>\n",
              "      <td>-0.014741</td>\n",
              "      <td>-0.002292</td>\n",
              "      <td>-0.007566</td>\n",
              "      <td>-0.007474</td>\n",
              "      <td>0.006089</td>\n",
              "      <td>0.020471</td>\n",
              "      <td>0.005607</td>\n",
              "      <td>0.018976</td>\n",
              "      <td>0.017802</td>\n",
              "      <td>-0.011577</td>\n",
              "      <td>-0.002068</td>\n",
              "      <td>-0.001427</td>\n",
              "      <td>0.007626</td>\n",
              "      <td>-0.006495</td>\n",
              "      <td>-0.006039</td>\n",
              "      <td>-0.010394</td>\n",
              "      <td>0.006487</td>\n",
              "      <td>0.009370</td>\n",
              "      <td>0.009469</td>\n",
              "      <td>0.002578</td>\n",
              "      <td>0.014414</td>\n",
              "      <td>0.005934</td>\n",
              "      <td>-0.004405</td>\n",
              "      <td>0.010986</td>\n",
              "      <td>0.010803</td>\n",
              "      <td>-0.014248</td>\n",
              "      <td>-0.001528</td>\n",
              "      <td>0.008296</td>\n",
              "      <td>-0.010471</td>\n",
              "      <td>0.000786</td>\n",
              "      <td>-0.002972</td>\n",
              "      <td>0.008847</td>\n",
              "      <td>0.003678</td>\n",
              "      <td>-0.005166</td>\n",
              "      <td>0.005201</td>\n",
              "      <td>0.021364</td>\n",
              "      <td>0.005313</td>\n",
              "    </tr>\n",
              "    <tr>\n",
              "      <th>2</th>\n",
              "      <td>0.015457</td>\n",
              "      <td>-0.018206</td>\n",
              "      <td>0.018770</td>\n",
              "      <td>0.009288</td>\n",
              "      <td>0.000951</td>\n",
              "      <td>0.007158</td>\n",
              "      <td>-0.017480</td>\n",
              "      <td>-0.003909</td>\n",
              "      <td>0.022212</td>\n",
              "      <td>-0.009178</td>\n",
              "      <td>0.003666</td>\n",
              "      <td>-0.005555</td>\n",
              "      <td>0.007611</td>\n",
              "      <td>0.000051</td>\n",
              "      <td>0.016083</td>\n",
              "      <td>0.014476</td>\n",
              "      <td>0.011231</td>\n",
              "      <td>-0.022520</td>\n",
              "      <td>0.003258</td>\n",
              "      <td>0.009736</td>\n",
              "      <td>-0.016480</td>\n",
              "      <td>-0.015307</td>\n",
              "      <td>0.007342</td>\n",
              "      <td>-0.002005</td>\n",
              "      <td>0.003029</td>\n",
              "      <td>0.022616</td>\n",
              "      <td>0.005000</td>\n",
              "      <td>-0.007491</td>\n",
              "      <td>-0.013279</td>\n",
              "      <td>-0.011928</td>\n",
              "      <td>-0.012403</td>\n",
              "      <td>0.001463</td>\n",
              "      <td>0.006353</td>\n",
              "      <td>0.023606</td>\n",
              "      <td>0.003331</td>\n",
              "      <td>-0.002120</td>\n",
              "      <td>0.008573</td>\n",
              "      <td>-0.011530</td>\n",
              "      <td>0.001431</td>\n",
              "      <td>-0.004900</td>\n",
              "      <td>...</td>\n",
              "      <td>-0.000406</td>\n",
              "      <td>-0.019821</td>\n",
              "      <td>-0.009553</td>\n",
              "      <td>-0.017241</td>\n",
              "      <td>-0.006000</td>\n",
              "      <td>-0.007548</td>\n",
              "      <td>-0.006336</td>\n",
              "      <td>0.007943</td>\n",
              "      <td>0.023912</td>\n",
              "      <td>0.006949</td>\n",
              "      <td>0.022453</td>\n",
              "      <td>0.020503</td>\n",
              "      <td>-0.014027</td>\n",
              "      <td>-0.000534</td>\n",
              "      <td>-0.001658</td>\n",
              "      <td>0.005794</td>\n",
              "      <td>-0.007671</td>\n",
              "      <td>-0.007414</td>\n",
              "      <td>-0.011388</td>\n",
              "      <td>0.005844</td>\n",
              "      <td>0.010630</td>\n",
              "      <td>0.009147</td>\n",
              "      <td>0.002469</td>\n",
              "      <td>0.017289</td>\n",
              "      <td>0.006739</td>\n",
              "      <td>-0.005703</td>\n",
              "      <td>0.013144</td>\n",
              "      <td>0.013653</td>\n",
              "      <td>-0.014712</td>\n",
              "      <td>-0.002318</td>\n",
              "      <td>0.012886</td>\n",
              "      <td>-0.011920</td>\n",
              "      <td>0.001115</td>\n",
              "      <td>-0.002848</td>\n",
              "      <td>0.011571</td>\n",
              "      <td>0.005692</td>\n",
              "      <td>-0.008501</td>\n",
              "      <td>0.006525</td>\n",
              "      <td>0.025360</td>\n",
              "      <td>0.007528</td>\n",
              "    </tr>\n",
              "    <tr>\n",
              "      <th>3</th>\n",
              "      <td>0.022732</td>\n",
              "      <td>-0.027969</td>\n",
              "      <td>0.026953</td>\n",
              "      <td>0.013029</td>\n",
              "      <td>0.000721</td>\n",
              "      <td>0.010410</td>\n",
              "      <td>-0.025560</td>\n",
              "      <td>-0.005777</td>\n",
              "      <td>0.033048</td>\n",
              "      <td>-0.013894</td>\n",
              "      <td>0.004342</td>\n",
              "      <td>-0.007645</td>\n",
              "      <td>0.009747</td>\n",
              "      <td>0.000271</td>\n",
              "      <td>0.023469</td>\n",
              "      <td>0.021778</td>\n",
              "      <td>0.016715</td>\n",
              "      <td>-0.031988</td>\n",
              "      <td>0.005521</td>\n",
              "      <td>0.012449</td>\n",
              "      <td>-0.024711</td>\n",
              "      <td>-0.022278</td>\n",
              "      <td>0.012343</td>\n",
              "      <td>-0.004180</td>\n",
              "      <td>0.003713</td>\n",
              "      <td>0.033317</td>\n",
              "      <td>0.008764</td>\n",
              "      <td>-0.011685</td>\n",
              "      <td>-0.017278</td>\n",
              "      <td>-0.018327</td>\n",
              "      <td>-0.017887</td>\n",
              "      <td>0.003521</td>\n",
              "      <td>0.009540</td>\n",
              "      <td>0.034823</td>\n",
              "      <td>0.004676</td>\n",
              "      <td>-0.004020</td>\n",
              "      <td>0.011786</td>\n",
              "      <td>-0.016676</td>\n",
              "      <td>0.001761</td>\n",
              "      <td>-0.006519</td>\n",
              "      <td>...</td>\n",
              "      <td>-0.000865</td>\n",
              "      <td>-0.027728</td>\n",
              "      <td>-0.014087</td>\n",
              "      <td>-0.025365</td>\n",
              "      <td>-0.009184</td>\n",
              "      <td>-0.010833</td>\n",
              "      <td>-0.008578</td>\n",
              "      <td>0.010346</td>\n",
              "      <td>0.035254</td>\n",
              "      <td>0.010735</td>\n",
              "      <td>0.030459</td>\n",
              "      <td>0.029417</td>\n",
              "      <td>-0.020566</td>\n",
              "      <td>-0.000163</td>\n",
              "      <td>-0.002852</td>\n",
              "      <td>0.007342</td>\n",
              "      <td>-0.010540</td>\n",
              "      <td>-0.010527</td>\n",
              "      <td>-0.017978</td>\n",
              "      <td>0.008475</td>\n",
              "      <td>0.015222</td>\n",
              "      <td>0.013337</td>\n",
              "      <td>0.004133</td>\n",
              "      <td>0.023874</td>\n",
              "      <td>0.009734</td>\n",
              "      <td>-0.009959</td>\n",
              "      <td>0.020644</td>\n",
              "      <td>0.019079</td>\n",
              "      <td>-0.021462</td>\n",
              "      <td>-0.004572</td>\n",
              "      <td>0.018612</td>\n",
              "      <td>-0.019323</td>\n",
              "      <td>0.002134</td>\n",
              "      <td>-0.004908</td>\n",
              "      <td>0.016591</td>\n",
              "      <td>0.008501</td>\n",
              "      <td>-0.011274</td>\n",
              "      <td>0.008394</td>\n",
              "      <td>0.037196</td>\n",
              "      <td>0.009824</td>\n",
              "    </tr>\n",
              "    <tr>\n",
              "      <th>4</th>\n",
              "      <td>0.008404</td>\n",
              "      <td>-0.009821</td>\n",
              "      <td>0.008266</td>\n",
              "      <td>0.003288</td>\n",
              "      <td>0.001131</td>\n",
              "      <td>0.003189</td>\n",
              "      <td>-0.007892</td>\n",
              "      <td>-0.002754</td>\n",
              "      <td>0.010740</td>\n",
              "      <td>-0.003638</td>\n",
              "      <td>0.002375</td>\n",
              "      <td>-0.002617</td>\n",
              "      <td>0.001655</td>\n",
              "      <td>0.000294</td>\n",
              "      <td>0.006826</td>\n",
              "      <td>0.007638</td>\n",
              "      <td>0.006004</td>\n",
              "      <td>-0.010418</td>\n",
              "      <td>0.001702</td>\n",
              "      <td>0.003073</td>\n",
              "      <td>-0.007725</td>\n",
              "      <td>-0.007369</td>\n",
              "      <td>0.003412</td>\n",
              "      <td>-0.000784</td>\n",
              "      <td>0.000826</td>\n",
              "      <td>0.011832</td>\n",
              "      <td>0.000909</td>\n",
              "      <td>-0.004285</td>\n",
              "      <td>-0.007107</td>\n",
              "      <td>-0.006740</td>\n",
              "      <td>-0.005376</td>\n",
              "      <td>0.001421</td>\n",
              "      <td>0.002789</td>\n",
              "      <td>0.010667</td>\n",
              "      <td>0.000484</td>\n",
              "      <td>-0.001736</td>\n",
              "      <td>0.003747</td>\n",
              "      <td>-0.003665</td>\n",
              "      <td>0.000090</td>\n",
              "      <td>-0.002540</td>\n",
              "      <td>...</td>\n",
              "      <td>-0.000533</td>\n",
              "      <td>-0.008906</td>\n",
              "      <td>-0.005271</td>\n",
              "      <td>-0.007257</td>\n",
              "      <td>-0.003965</td>\n",
              "      <td>-0.004675</td>\n",
              "      <td>-0.001534</td>\n",
              "      <td>0.003508</td>\n",
              "      <td>0.012162</td>\n",
              "      <td>0.003406</td>\n",
              "      <td>0.010705</td>\n",
              "      <td>0.010433</td>\n",
              "      <td>-0.006268</td>\n",
              "      <td>0.000067</td>\n",
              "      <td>-0.002918</td>\n",
              "      <td>0.001795</td>\n",
              "      <td>-0.004708</td>\n",
              "      <td>-0.003384</td>\n",
              "      <td>-0.005441</td>\n",
              "      <td>0.003192</td>\n",
              "      <td>0.007310</td>\n",
              "      <td>0.003727</td>\n",
              "      <td>0.001989</td>\n",
              "      <td>0.008346</td>\n",
              "      <td>0.002214</td>\n",
              "      <td>-0.004043</td>\n",
              "      <td>0.007330</td>\n",
              "      <td>0.006408</td>\n",
              "      <td>-0.007697</td>\n",
              "      <td>-0.002565</td>\n",
              "      <td>0.006992</td>\n",
              "      <td>-0.005901</td>\n",
              "      <td>0.000523</td>\n",
              "      <td>-0.001885</td>\n",
              "      <td>0.004044</td>\n",
              "      <td>0.003544</td>\n",
              "      <td>-0.004192</td>\n",
              "      <td>0.003559</td>\n",
              "      <td>0.013309</td>\n",
              "      <td>0.004960</td>\n",
              "    </tr>\n",
              "  </tbody>\n",
              "</table>\n",
              "<p>5 rows × 100 columns</p>\n",
              "</div>"
            ],
            "text/plain": [
              "         0         1         2   ...        97        98        99\n",
              "0  0.018334 -0.023080  0.024694  ...  0.006773  0.031186  0.009190\n",
              "1  0.010721 -0.013037  0.018563  ...  0.005201  0.021364  0.005313\n",
              "2  0.015457 -0.018206  0.018770  ...  0.006525  0.025360  0.007528\n",
              "3  0.022732 -0.027969  0.026953  ...  0.008394  0.037196  0.009824\n",
              "4  0.008404 -0.009821  0.008266  ...  0.003559  0.013309  0.004960\n",
              "\n",
              "[5 rows x 100 columns]"
            ]
          },
          "metadata": {
            "tags": []
          },
          "execution_count": 85
        }
      ]
    },
    {
      "cell_type": "code",
      "metadata": {
        "id": "T0VbaZPqJ38o"
      },
      "source": [
        "X_train, X_test, y_train, y_test = train_test_split(word_vec, data_2['v1'], test_size = 0.2, random_state=3, shuffle = True, stratify=data_2['v1'])\n",
        "# Startify labels to ensure equal distribution in training and testing datsets"
      ],
      "execution_count": 86,
      "outputs": []
    },
    {
      "cell_type": "code",
      "metadata": {
        "colab": {
          "base_uri": "https://localhost:8080/"
        },
        "id": "8WNkCaTXIQhD",
        "outputId": "9a8c3943-24fd-4ec7-9538-cfd53625d707"
      },
      "source": [
        "from sklearn.ensemble import RandomForestClassifier\n",
        "from sklearn.metrics import accuracy_score\n",
        "rfc=RandomForestClassifier()\n",
        "rfc.fit(X_train,y_train)\n",
        "y_pred=rfc.predict(X_test)\n",
        "accuracy_score(y_pred,y_test)\n",
        "# It can be observed that accuracy of model is 82.27%"
      ],
      "execution_count": 89,
      "outputs": [
        {
          "output_type": "execute_result",
          "data": {
            "text/plain": [
              "0.822742474916388"
            ]
          },
          "metadata": {
            "tags": []
          },
          "execution_count": 89
        }
      ]
    },
    {
      "cell_type": "code",
      "metadata": {
        "id": "XzVixckaUV9q"
      },
      "source": [
        ""
      ],
      "execution_count": null,
      "outputs": []
    }
  ]
}